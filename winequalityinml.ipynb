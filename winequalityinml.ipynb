{
 "cells": [
  {
   "cell_type": "code",
   "execution_count": 1,
   "id": "b61ee419",
   "metadata": {
    "_cell_guid": "b1076dfc-b9ad-4769-8c92-a6c4dae69d19",
    "_uuid": "8f2839f25d086af736a60e9eeb907d3b93b6e0e5",
    "execution": {
     "iopub.execute_input": "2023-01-13T10:43:48.582188Z",
     "iopub.status.busy": "2023-01-13T10:43:48.581682Z",
     "iopub.status.idle": "2023-01-13T10:43:48.603707Z",
     "shell.execute_reply": "2023-01-13T10:43:48.602723Z"
    },
    "papermill": {
     "duration": 0.033108,
     "end_time": "2023-01-13T10:43:48.606575",
     "exception": false,
     "start_time": "2023-01-13T10:43:48.573467",
     "status": "completed"
    },
    "tags": []
   },
   "outputs": [
    {
     "name": "stdout",
     "output_type": "stream",
     "text": [
      "/kaggle/input/red-wine-quality-cortez-et-al-2009/winequality-red.csv\n"
     ]
    }
   ],
   "source": [
    "# This Python 3 environment comes with many helpful analytics libraries installed\n",
    "# It is defined by the kaggle/python Docker image: https://github.com/kaggle/docker-python\n",
    "# For example, here's several helpful packages to load\n",
    "\n",
    "import numpy as np # linear algebra\n",
    "import pandas as pd # data processing, CSV file I/O (e.g. pd.read_csv)\n",
    "\n",
    "# Input data files are available in the read-only \"../input/\" directory\n",
    "# For example, running this (by clicking run or pressing Shift+Enter) will list all files under the input directory\n",
    "\n",
    "import os\n",
    "for dirname, _, filenames in os.walk('/kaggle/input'):\n",
    "    for filename in filenames:\n",
    "        print(os.path.join(dirname, filename))\n",
    "\n",
    "# You can write up to 20GB to the current directory (/kaggle/working/) that gets preserved as output when you create a version using \"Save & Run All\" \n",
    "# You can also write temporary files to /kaggle/temp/, but they won't be saved outside of the current session"
   ]
  },
  {
   "cell_type": "code",
   "execution_count": 2,
   "id": "244b0ab7",
   "metadata": {
    "execution": {
     "iopub.execute_input": "2023-01-13T10:43:48.619042Z",
     "iopub.status.busy": "2023-01-13T10:43:48.618024Z",
     "iopub.status.idle": "2023-01-13T10:43:48.624113Z",
     "shell.execute_reply": "2023-01-13T10:43:48.622532Z"
    },
    "papermill": {
     "duration": 0.014787,
     "end_time": "2023-01-13T10:43:48.626530",
     "exception": false,
     "start_time": "2023-01-13T10:43:48.611743",
     "status": "completed"
    },
    "tags": []
   },
   "outputs": [],
   "source": [
    "import pandas as pd\n",
    "import numpy as np"
   ]
  },
  {
   "cell_type": "code",
   "execution_count": 3,
   "id": "b218b9a7",
   "metadata": {
    "execution": {
     "iopub.execute_input": "2023-01-13T10:43:48.638057Z",
     "iopub.status.busy": "2023-01-13T10:43:48.637660Z",
     "iopub.status.idle": "2023-01-13T10:43:48.659399Z",
     "shell.execute_reply": "2023-01-13T10:43:48.658382Z"
    },
    "papermill": {
     "duration": 0.030414,
     "end_time": "2023-01-13T10:43:48.661977",
     "exception": false,
     "start_time": "2023-01-13T10:43:48.631563",
     "status": "completed"
    },
    "tags": []
   },
   "outputs": [],
   "source": [
    "data=pd.read_csv(\"/kaggle/input/red-wine-quality-cortez-et-al-2009/winequality-red.csv\")"
   ]
  },
  {
   "cell_type": "code",
   "execution_count": 4,
   "id": "e724148d",
   "metadata": {
    "execution": {
     "iopub.execute_input": "2023-01-13T10:43:48.674569Z",
     "iopub.status.busy": "2023-01-13T10:43:48.673183Z",
     "iopub.status.idle": "2023-01-13T10:43:48.710871Z",
     "shell.execute_reply": "2023-01-13T10:43:48.709680Z"
    },
    "papermill": {
     "duration": 0.046527,
     "end_time": "2023-01-13T10:43:48.713467",
     "exception": false,
     "start_time": "2023-01-13T10:43:48.666940",
     "status": "completed"
    },
    "tags": []
   },
   "outputs": [
    {
     "data": {
      "text/html": [
       "<div>\n",
       "<style scoped>\n",
       "    .dataframe tbody tr th:only-of-type {\n",
       "        vertical-align: middle;\n",
       "    }\n",
       "\n",
       "    .dataframe tbody tr th {\n",
       "        vertical-align: top;\n",
       "    }\n",
       "\n",
       "    .dataframe thead th {\n",
       "        text-align: right;\n",
       "    }\n",
       "</style>\n",
       "<table border=\"1\" class=\"dataframe\">\n",
       "  <thead>\n",
       "    <tr style=\"text-align: right;\">\n",
       "      <th></th>\n",
       "      <th>fixed acidity</th>\n",
       "      <th>volatile acidity</th>\n",
       "      <th>citric acid</th>\n",
       "      <th>residual sugar</th>\n",
       "      <th>chlorides</th>\n",
       "      <th>free sulfur dioxide</th>\n",
       "      <th>total sulfur dioxide</th>\n",
       "      <th>density</th>\n",
       "      <th>pH</th>\n",
       "      <th>sulphates</th>\n",
       "      <th>alcohol</th>\n",
       "      <th>quality</th>\n",
       "    </tr>\n",
       "  </thead>\n",
       "  <tbody>\n",
       "    <tr>\n",
       "      <th>0</th>\n",
       "      <td>7.4</td>\n",
       "      <td>0.700</td>\n",
       "      <td>0.00</td>\n",
       "      <td>1.9</td>\n",
       "      <td>0.076</td>\n",
       "      <td>11.0</td>\n",
       "      <td>34.0</td>\n",
       "      <td>0.99780</td>\n",
       "      <td>3.51</td>\n",
       "      <td>0.56</td>\n",
       "      <td>9.4</td>\n",
       "      <td>5</td>\n",
       "    </tr>\n",
       "    <tr>\n",
       "      <th>1</th>\n",
       "      <td>7.8</td>\n",
       "      <td>0.880</td>\n",
       "      <td>0.00</td>\n",
       "      <td>2.6</td>\n",
       "      <td>0.098</td>\n",
       "      <td>25.0</td>\n",
       "      <td>67.0</td>\n",
       "      <td>0.99680</td>\n",
       "      <td>3.20</td>\n",
       "      <td>0.68</td>\n",
       "      <td>9.8</td>\n",
       "      <td>5</td>\n",
       "    </tr>\n",
       "    <tr>\n",
       "      <th>2</th>\n",
       "      <td>7.8</td>\n",
       "      <td>0.760</td>\n",
       "      <td>0.04</td>\n",
       "      <td>2.3</td>\n",
       "      <td>0.092</td>\n",
       "      <td>15.0</td>\n",
       "      <td>54.0</td>\n",
       "      <td>0.99700</td>\n",
       "      <td>3.26</td>\n",
       "      <td>0.65</td>\n",
       "      <td>9.8</td>\n",
       "      <td>5</td>\n",
       "    </tr>\n",
       "    <tr>\n",
       "      <th>3</th>\n",
       "      <td>11.2</td>\n",
       "      <td>0.280</td>\n",
       "      <td>0.56</td>\n",
       "      <td>1.9</td>\n",
       "      <td>0.075</td>\n",
       "      <td>17.0</td>\n",
       "      <td>60.0</td>\n",
       "      <td>0.99800</td>\n",
       "      <td>3.16</td>\n",
       "      <td>0.58</td>\n",
       "      <td>9.8</td>\n",
       "      <td>6</td>\n",
       "    </tr>\n",
       "    <tr>\n",
       "      <th>4</th>\n",
       "      <td>7.4</td>\n",
       "      <td>0.700</td>\n",
       "      <td>0.00</td>\n",
       "      <td>1.9</td>\n",
       "      <td>0.076</td>\n",
       "      <td>11.0</td>\n",
       "      <td>34.0</td>\n",
       "      <td>0.99780</td>\n",
       "      <td>3.51</td>\n",
       "      <td>0.56</td>\n",
       "      <td>9.4</td>\n",
       "      <td>5</td>\n",
       "    </tr>\n",
       "    <tr>\n",
       "      <th>...</th>\n",
       "      <td>...</td>\n",
       "      <td>...</td>\n",
       "      <td>...</td>\n",
       "      <td>...</td>\n",
       "      <td>...</td>\n",
       "      <td>...</td>\n",
       "      <td>...</td>\n",
       "      <td>...</td>\n",
       "      <td>...</td>\n",
       "      <td>...</td>\n",
       "      <td>...</td>\n",
       "      <td>...</td>\n",
       "    </tr>\n",
       "    <tr>\n",
       "      <th>1594</th>\n",
       "      <td>6.2</td>\n",
       "      <td>0.600</td>\n",
       "      <td>0.08</td>\n",
       "      <td>2.0</td>\n",
       "      <td>0.090</td>\n",
       "      <td>32.0</td>\n",
       "      <td>44.0</td>\n",
       "      <td>0.99490</td>\n",
       "      <td>3.45</td>\n",
       "      <td>0.58</td>\n",
       "      <td>10.5</td>\n",
       "      <td>5</td>\n",
       "    </tr>\n",
       "    <tr>\n",
       "      <th>1595</th>\n",
       "      <td>5.9</td>\n",
       "      <td>0.550</td>\n",
       "      <td>0.10</td>\n",
       "      <td>2.2</td>\n",
       "      <td>0.062</td>\n",
       "      <td>39.0</td>\n",
       "      <td>51.0</td>\n",
       "      <td>0.99512</td>\n",
       "      <td>3.52</td>\n",
       "      <td>0.76</td>\n",
       "      <td>11.2</td>\n",
       "      <td>6</td>\n",
       "    </tr>\n",
       "    <tr>\n",
       "      <th>1596</th>\n",
       "      <td>6.3</td>\n",
       "      <td>0.510</td>\n",
       "      <td>0.13</td>\n",
       "      <td>2.3</td>\n",
       "      <td>0.076</td>\n",
       "      <td>29.0</td>\n",
       "      <td>40.0</td>\n",
       "      <td>0.99574</td>\n",
       "      <td>3.42</td>\n",
       "      <td>0.75</td>\n",
       "      <td>11.0</td>\n",
       "      <td>6</td>\n",
       "    </tr>\n",
       "    <tr>\n",
       "      <th>1597</th>\n",
       "      <td>5.9</td>\n",
       "      <td>0.645</td>\n",
       "      <td>0.12</td>\n",
       "      <td>2.0</td>\n",
       "      <td>0.075</td>\n",
       "      <td>32.0</td>\n",
       "      <td>44.0</td>\n",
       "      <td>0.99547</td>\n",
       "      <td>3.57</td>\n",
       "      <td>0.71</td>\n",
       "      <td>10.2</td>\n",
       "      <td>5</td>\n",
       "    </tr>\n",
       "    <tr>\n",
       "      <th>1598</th>\n",
       "      <td>6.0</td>\n",
       "      <td>0.310</td>\n",
       "      <td>0.47</td>\n",
       "      <td>3.6</td>\n",
       "      <td>0.067</td>\n",
       "      <td>18.0</td>\n",
       "      <td>42.0</td>\n",
       "      <td>0.99549</td>\n",
       "      <td>3.39</td>\n",
       "      <td>0.66</td>\n",
       "      <td>11.0</td>\n",
       "      <td>6</td>\n",
       "    </tr>\n",
       "  </tbody>\n",
       "</table>\n",
       "<p>1599 rows × 12 columns</p>\n",
       "</div>"
      ],
      "text/plain": [
       "      fixed acidity  volatile acidity  citric acid  residual sugar  chlorides  \\\n",
       "0               7.4             0.700         0.00             1.9      0.076   \n",
       "1               7.8             0.880         0.00             2.6      0.098   \n",
       "2               7.8             0.760         0.04             2.3      0.092   \n",
       "3              11.2             0.280         0.56             1.9      0.075   \n",
       "4               7.4             0.700         0.00             1.9      0.076   \n",
       "...             ...               ...          ...             ...        ...   \n",
       "1594            6.2             0.600         0.08             2.0      0.090   \n",
       "1595            5.9             0.550         0.10             2.2      0.062   \n",
       "1596            6.3             0.510         0.13             2.3      0.076   \n",
       "1597            5.9             0.645         0.12             2.0      0.075   \n",
       "1598            6.0             0.310         0.47             3.6      0.067   \n",
       "\n",
       "      free sulfur dioxide  total sulfur dioxide  density    pH  sulphates  \\\n",
       "0                    11.0                  34.0  0.99780  3.51       0.56   \n",
       "1                    25.0                  67.0  0.99680  3.20       0.68   \n",
       "2                    15.0                  54.0  0.99700  3.26       0.65   \n",
       "3                    17.0                  60.0  0.99800  3.16       0.58   \n",
       "4                    11.0                  34.0  0.99780  3.51       0.56   \n",
       "...                   ...                   ...      ...   ...        ...   \n",
       "1594                 32.0                  44.0  0.99490  3.45       0.58   \n",
       "1595                 39.0                  51.0  0.99512  3.52       0.76   \n",
       "1596                 29.0                  40.0  0.99574  3.42       0.75   \n",
       "1597                 32.0                  44.0  0.99547  3.57       0.71   \n",
       "1598                 18.0                  42.0  0.99549  3.39       0.66   \n",
       "\n",
       "      alcohol  quality  \n",
       "0         9.4        5  \n",
       "1         9.8        5  \n",
       "2         9.8        5  \n",
       "3         9.8        6  \n",
       "4         9.4        5  \n",
       "...       ...      ...  \n",
       "1594     10.5        5  \n",
       "1595     11.2        6  \n",
       "1596     11.0        6  \n",
       "1597     10.2        5  \n",
       "1598     11.0        6  \n",
       "\n",
       "[1599 rows x 12 columns]"
      ]
     },
     "execution_count": 4,
     "metadata": {},
     "output_type": "execute_result"
    }
   ],
   "source": [
    "data"
   ]
  },
  {
   "cell_type": "code",
   "execution_count": 5,
   "id": "371b062a",
   "metadata": {
    "execution": {
     "iopub.execute_input": "2023-01-13T10:43:48.725975Z",
     "iopub.status.busy": "2023-01-13T10:43:48.725528Z",
     "iopub.status.idle": "2023-01-13T10:43:48.752413Z",
     "shell.execute_reply": "2023-01-13T10:43:48.751111Z"
    },
    "papermill": {
     "duration": 0.036314,
     "end_time": "2023-01-13T10:43:48.755138",
     "exception": false,
     "start_time": "2023-01-13T10:43:48.718824",
     "status": "completed"
    },
    "tags": []
   },
   "outputs": [
    {
     "name": "stdout",
     "output_type": "stream",
     "text": [
      "<class 'pandas.core.frame.DataFrame'>\n",
      "RangeIndex: 1599 entries, 0 to 1598\n",
      "Data columns (total 12 columns):\n",
      " #   Column                Non-Null Count  Dtype  \n",
      "---  ------                --------------  -----  \n",
      " 0   fixed acidity         1599 non-null   float64\n",
      " 1   volatile acidity      1599 non-null   float64\n",
      " 2   citric acid           1599 non-null   float64\n",
      " 3   residual sugar        1599 non-null   float64\n",
      " 4   chlorides             1599 non-null   float64\n",
      " 5   free sulfur dioxide   1599 non-null   float64\n",
      " 6   total sulfur dioxide  1599 non-null   float64\n",
      " 7   density               1599 non-null   float64\n",
      " 8   pH                    1599 non-null   float64\n",
      " 9   sulphates             1599 non-null   float64\n",
      " 10  alcohol               1599 non-null   float64\n",
      " 11  quality               1599 non-null   int64  \n",
      "dtypes: float64(11), int64(1)\n",
      "memory usage: 150.0 KB\n"
     ]
    }
   ],
   "source": [
    "data.info()"
   ]
  },
  {
   "cell_type": "code",
   "execution_count": 6,
   "id": "932538c4",
   "metadata": {
    "execution": {
     "iopub.execute_input": "2023-01-13T10:43:48.767872Z",
     "iopub.status.busy": "2023-01-13T10:43:48.767441Z",
     "iopub.status.idle": "2023-01-13T10:43:48.781073Z",
     "shell.execute_reply": "2023-01-13T10:43:48.779542Z"
    },
    "papermill": {
     "duration": 0.023492,
     "end_time": "2023-01-13T10:43:48.784125",
     "exception": false,
     "start_time": "2023-01-13T10:43:48.760633",
     "status": "completed"
    },
    "tags": []
   },
   "outputs": [
    {
     "data": {
      "text/plain": [
       "fixed acidity           False\n",
       "volatile acidity        False\n",
       "citric acid             False\n",
       "residual sugar          False\n",
       "chlorides               False\n",
       "free sulfur dioxide     False\n",
       "total sulfur dioxide    False\n",
       "density                 False\n",
       "pH                      False\n",
       "sulphates               False\n",
       "alcohol                 False\n",
       "quality                 False\n",
       "dtype: bool"
      ]
     },
     "execution_count": 6,
     "metadata": {},
     "output_type": "execute_result"
    }
   ],
   "source": [
    "data.isnull().any()"
   ]
  },
  {
   "cell_type": "code",
   "execution_count": 7,
   "id": "8d761429",
   "metadata": {
    "execution": {
     "iopub.execute_input": "2023-01-13T10:43:48.800538Z",
     "iopub.status.busy": "2023-01-13T10:43:48.800046Z",
     "iopub.status.idle": "2023-01-13T10:43:48.817718Z",
     "shell.execute_reply": "2023-01-13T10:43:48.816259Z"
    },
    "papermill": {
     "duration": 0.02772,
     "end_time": "2023-01-13T10:43:48.820401",
     "exception": false,
     "start_time": "2023-01-13T10:43:48.792681",
     "status": "completed"
    },
    "tags": []
   },
   "outputs": [
    {
     "data": {
      "text/plain": [
       "array([[ 0.7  ,  0.   ,  1.9  , ...,  0.56 ,  9.4  ,  5.   ],\n",
       "       [ 0.88 ,  0.   ,  2.6  , ...,  0.68 ,  9.8  ,  5.   ],\n",
       "       [ 0.76 ,  0.04 ,  2.3  , ...,  0.65 ,  9.8  ,  5.   ],\n",
       "       ...,\n",
       "       [ 0.51 ,  0.13 ,  2.3  , ...,  0.75 , 11.   ,  6.   ],\n",
       "       [ 0.645,  0.12 ,  2.   , ...,  0.71 , 10.2  ,  5.   ],\n",
       "       [ 0.31 ,  0.47 ,  3.6  , ...,  0.66 , 11.   ,  6.   ]])"
      ]
     },
     "execution_count": 7,
     "metadata": {},
     "output_type": "execute_result"
    }
   ],
   "source": [
    "x=data.iloc[:,[1,2,3,4,5,6,7,8,9,10,11]].values\n",
    "x"
   ]
  },
  {
   "cell_type": "code",
   "execution_count": 8,
   "id": "d075c2d0",
   "metadata": {
    "execution": {
     "iopub.execute_input": "2023-01-13T10:43:48.836911Z",
     "iopub.status.busy": "2023-01-13T10:43:48.836357Z",
     "iopub.status.idle": "2023-01-13T10:43:48.844720Z",
     "shell.execute_reply": "2023-01-13T10:43:48.843430Z"
    },
    "papermill": {
     "duration": 0.021963,
     "end_time": "2023-01-13T10:43:48.848493",
     "exception": false,
     "start_time": "2023-01-13T10:43:48.826530",
     "status": "completed"
    },
    "tags": []
   },
   "outputs": [
    {
     "data": {
      "text/plain": [
       "array([5, 5, 5, ..., 6, 5, 6])"
      ]
     },
     "execution_count": 8,
     "metadata": {},
     "output_type": "execute_result"
    }
   ],
   "source": [
    "y=data.iloc[:,-1].values\n",
    "y"
   ]
  },
  {
   "cell_type": "code",
   "execution_count": 9,
   "id": "f505ac63",
   "metadata": {
    "execution": {
     "iopub.execute_input": "2023-01-13T10:43:48.864258Z",
     "iopub.status.busy": "2023-01-13T10:43:48.863897Z",
     "iopub.status.idle": "2023-01-13T10:43:50.090715Z",
     "shell.execute_reply": "2023-01-13T10:43:50.089357Z"
    },
    "papermill": {
     "duration": 1.237924,
     "end_time": "2023-01-13T10:43:50.093672",
     "exception": false,
     "start_time": "2023-01-13T10:43:48.855748",
     "status": "completed"
    },
    "tags": []
   },
   "outputs": [],
   "source": [
    "from sklearn.model_selection import train_test_split\n",
    "x_train,x_test,y_train,y_test=train_test_split(x,y,test_size=0.2,random_state=9)"
   ]
  },
  {
   "cell_type": "code",
   "execution_count": 10,
   "id": "4fcb96f7",
   "metadata": {
    "execution": {
     "iopub.execute_input": "2023-01-13T10:43:50.108168Z",
     "iopub.status.busy": "2023-01-13T10:43:50.107724Z",
     "iopub.status.idle": "2023-01-13T10:43:50.230663Z",
     "shell.execute_reply": "2023-01-13T10:43:50.229079Z"
    },
    "papermill": {
     "duration": 0.135531,
     "end_time": "2023-01-13T10:43:50.235292",
     "exception": false,
     "start_time": "2023-01-13T10:43:50.099761",
     "status": "completed"
    },
    "tags": []
   },
   "outputs": [
    {
     "data": {
      "text/plain": [
       "LinearRegression()"
      ]
     },
     "execution_count": 10,
     "metadata": {},
     "output_type": "execute_result"
    }
   ],
   "source": [
    "from sklearn.linear_model import LinearRegression\n",
    "l1=LinearRegression()\n",
    "l1.fit(x_train,y_train)"
   ]
  },
  {
   "cell_type": "code",
   "execution_count": 11,
   "id": "e46f8150",
   "metadata": {
    "execution": {
     "iopub.execute_input": "2023-01-13T10:43:50.268932Z",
     "iopub.status.busy": "2023-01-13T10:43:50.267512Z",
     "iopub.status.idle": "2023-01-13T10:43:50.286158Z",
     "shell.execute_reply": "2023-01-13T10:43:50.284524Z"
    },
    "papermill": {
     "duration": 0.040028,
     "end_time": "2023-01-13T10:43:50.290112",
     "exception": false,
     "start_time": "2023-01-13T10:43:50.250084",
     "status": "completed"
    },
    "tags": []
   },
   "outputs": [
    {
     "name": "stdout",
     "output_type": "stream",
     "text": [
      "[6. 6. 5. 6. 6. 6. 4. 6. 5. 5. 6. 7. 5. 5. 5. 7. 5. 5. 6. 3. 6. 6. 6. 5.\n",
      " 6. 6. 7. 5. 6. 6. 6. 6. 6. 6. 8. 5. 6. 4. 5. 5. 5. 8. 5. 5. 5. 6. 5. 5.\n",
      " 6. 5. 5. 5. 7. 7. 6. 7. 5. 6. 6. 6. 5. 6. 5. 5. 6. 5. 5. 5. 7. 5. 4. 7.\n",
      " 4. 6. 5. 5. 5. 6. 7. 5. 5. 5. 6. 7. 5. 5. 6. 7. 5. 5. 6. 6. 5. 5. 7. 6.\n",
      " 6. 6. 6. 5. 5. 7. 6. 6. 7. 6. 6. 6. 5. 6. 6. 5. 6. 5. 5. 6. 6. 5. 6. 5.\n",
      " 5. 6. 6. 5. 6. 6. 5. 6. 5. 7. 5. 6. 5. 6. 5. 6. 6. 6. 5. 5. 5. 5. 6. 5.\n",
      " 6. 6. 6. 6. 6. 5. 5. 6. 6. 5. 7. 5. 5. 6. 5. 6. 6. 6. 7. 6. 6. 5. 5. 6.\n",
      " 6. 6. 6. 5. 6. 6. 7. 7. 6. 5. 6. 5. 5. 5. 5. 6. 6. 6. 7. 6. 6. 6. 5. 6.\n",
      " 6. 6. 5. 5. 5. 5. 7. 7. 5. 5. 5. 5. 5. 6. 5. 6. 7. 5. 6. 7. 5. 5. 4. 5.\n",
      " 5. 5. 5. 6. 6. 6. 5. 6. 5. 5. 5. 6. 7. 5. 6. 7. 5. 6. 5. 5. 6. 4. 7. 7.\n",
      " 6. 6. 5. 3. 5. 6. 4. 5. 7. 6. 5. 5. 5. 6. 6. 7. 5. 6. 5. 7. 6. 5. 6. 6.\n",
      " 6. 6. 6. 7. 5. 5. 5. 7. 6. 7. 5. 5. 5. 6. 5. 5. 5. 5. 5. 6. 5. 6. 6. 7.\n",
      " 5. 6. 6. 5. 5. 6. 5. 7. 5. 6. 5. 5. 5. 6. 5. 5. 4. 5. 5. 5. 5. 5. 5. 5.\n",
      " 6. 6. 6. 5. 5. 5. 5. 6.]\n"
     ]
    }
   ],
   "source": [
    "y_pred=l1.predict(x_test)\n",
    "print(y_pred)"
   ]
  },
  {
   "cell_type": "code",
   "execution_count": 12,
   "id": "44b309e8",
   "metadata": {
    "execution": {
     "iopub.execute_input": "2023-01-13T10:43:50.321835Z",
     "iopub.status.busy": "2023-01-13T10:43:50.321191Z",
     "iopub.status.idle": "2023-01-13T10:43:50.333728Z",
     "shell.execute_reply": "2023-01-13T10:43:50.332263Z"
    },
    "papermill": {
     "duration": 0.030639,
     "end_time": "2023-01-13T10:43:50.335806",
     "exception": false,
     "start_time": "2023-01-13T10:43:50.305167",
     "status": "completed"
    },
    "tags": []
   },
   "outputs": [
    {
     "data": {
      "text/plain": [
       "array([[ 0.35,  0.6 ,  2.6 , ...,  0.79, 11.1 ,  6.  ],\n",
       "       [ 0.59,  0.5 ,  2.  , ...,  1.61,  9.5 ,  6.  ],\n",
       "       [ 0.61,  0.14,  2.4 , ...,  0.59,  9.5 ,  5.  ],\n",
       "       ...,\n",
       "       [ 0.56,  0.09,  2.9 , ...,  0.61, 10.2 ,  5.  ],\n",
       "       [ 0.69,  0.22,  1.9 , ...,  0.48,  9.5 ,  5.  ],\n",
       "       [ 0.7 ,  0.  ,  1.7 , ...,  0.53, 10.  ,  6.  ]])"
      ]
     },
     "execution_count": 12,
     "metadata": {},
     "output_type": "execute_result"
    }
   ],
   "source": [
    "x_test"
   ]
  },
  {
   "cell_type": "code",
   "execution_count": 13,
   "id": "4597ff01",
   "metadata": {
    "execution": {
     "iopub.execute_input": "2023-01-13T10:43:50.351556Z",
     "iopub.status.busy": "2023-01-13T10:43:50.350718Z",
     "iopub.status.idle": "2023-01-13T10:43:50.358047Z",
     "shell.execute_reply": "2023-01-13T10:43:50.357111Z"
    },
    "papermill": {
     "duration": 0.01834,
     "end_time": "2023-01-13T10:43:50.360344",
     "exception": false,
     "start_time": "2023-01-13T10:43:50.342004",
     "status": "completed"
    },
    "tags": []
   },
   "outputs": [
    {
     "data": {
      "text/plain": [
       "array([6, 5, 5, ..., 7, 6, 6])"
      ]
     },
     "execution_count": 13,
     "metadata": {},
     "output_type": "execute_result"
    }
   ],
   "source": [
    "y_train"
   ]
  },
  {
   "cell_type": "code",
   "execution_count": 14,
   "id": "fc9a34e7",
   "metadata": {
    "execution": {
     "iopub.execute_input": "2023-01-13T10:43:50.374752Z",
     "iopub.status.busy": "2023-01-13T10:43:50.374020Z",
     "iopub.status.idle": "2023-01-13T10:43:50.381783Z",
     "shell.execute_reply": "2023-01-13T10:43:50.380837Z"
    },
    "papermill": {
     "duration": 0.017407,
     "end_time": "2023-01-13T10:43:50.384030",
     "exception": false,
     "start_time": "2023-01-13T10:43:50.366623",
     "status": "completed"
    },
    "tags": []
   },
   "outputs": [
    {
     "data": {
      "text/plain": [
       "array([[ 0.39 ,  0.33 ,  3.3  , ...,  0.62 , 12.2  ,  6.   ],\n",
       "       [ 0.38 ,  0.38 ,  1.6  , ...,  0.65 ,  8.5  ,  5.   ],\n",
       "       [ 0.5  ,  0.5  , 13.8  , ...,  0.75 ,  8.8  ,  5.   ],\n",
       "       ...,\n",
       "       [ 0.915,  0.12 ,  2.2  , ...,  0.65 , 10.2  ,  7.   ],\n",
       "       [ 0.56 ,  0.31 ,  2.8  , ...,  0.92 , 10.   ,  6.   ],\n",
       "       [ 0.26 ,  0.42 ,  2.   , ...,  0.8  ,  9.4  ,  6.   ]])"
      ]
     },
     "execution_count": 14,
     "metadata": {},
     "output_type": "execute_result"
    }
   ],
   "source": [
    "x_train"
   ]
  },
  {
   "cell_type": "code",
   "execution_count": 15,
   "id": "1ee39e59",
   "metadata": {
    "execution": {
     "iopub.execute_input": "2023-01-13T10:43:50.398566Z",
     "iopub.status.busy": "2023-01-13T10:43:50.398162Z",
     "iopub.status.idle": "2023-01-13T10:43:50.411636Z",
     "shell.execute_reply": "2023-01-13T10:43:50.409367Z"
    },
    "papermill": {
     "duration": 0.025536,
     "end_time": "2023-01-13T10:43:50.415899",
     "exception": false,
     "start_time": "2023-01-13T10:43:50.390363",
     "status": "completed"
    },
    "tags": []
   },
   "outputs": [
    {
     "name": "stdout",
     "output_type": "stream",
     "text": [
      "TreaningAccuracy 1.0\n"
     ]
    }
   ],
   "source": [
    "print(\"TreaningAccuracy\",l1.score(x_train,y_train))"
   ]
  },
  {
   "cell_type": "code",
   "execution_count": 16,
   "id": "644edf11",
   "metadata": {
    "execution": {
     "iopub.execute_input": "2023-01-13T10:43:50.450765Z",
     "iopub.status.busy": "2023-01-13T10:43:50.449870Z",
     "iopub.status.idle": "2023-01-13T10:43:50.461890Z",
     "shell.execute_reply": "2023-01-13T10:43:50.460169Z"
    },
    "papermill": {
     "duration": 0.035122,
     "end_time": "2023-01-13T10:43:50.466780",
     "exception": false,
     "start_time": "2023-01-13T10:43:50.431658",
     "status": "completed"
    },
    "tags": []
   },
   "outputs": [
    {
     "name": "stdout",
     "output_type": "stream",
     "text": [
      "TestingAccuracy 1.0\n"
     ]
    }
   ],
   "source": [
    "print(\"TestingAccuracy\",l1.score(x_test,y_pred))"
   ]
  },
  {
   "cell_type": "code",
   "execution_count": 17,
   "id": "dae2c885",
   "metadata": {
    "execution": {
     "iopub.execute_input": "2023-01-13T10:43:50.502150Z",
     "iopub.status.busy": "2023-01-13T10:43:50.501427Z",
     "iopub.status.idle": "2023-01-13T10:43:50.511877Z",
     "shell.execute_reply": "2023-01-13T10:43:50.510389Z"
    },
    "papermill": {
     "duration": 0.032552,
     "end_time": "2023-01-13T10:43:50.515989",
     "exception": false,
     "start_time": "2023-01-13T10:43:50.483437",
     "status": "completed"
    },
    "tags": []
   },
   "outputs": [
    {
     "name": "stdout",
     "output_type": "stream",
     "text": [
      "100.0\n"
     ]
    }
   ],
   "source": [
    "from sklearn.metrics import r2_score\n",
    "print(r2_score(y_test,y_pred)*100)"
   ]
  },
  {
   "cell_type": "code",
   "execution_count": null,
   "id": "4b7dc16f",
   "metadata": {
    "papermill": {
     "duration": 0.006591,
     "end_time": "2023-01-13T10:43:50.533250",
     "exception": false,
     "start_time": "2023-01-13T10:43:50.526659",
     "status": "completed"
    },
    "tags": []
   },
   "outputs": [],
   "source": []
  }
 ],
 "metadata": {
  "kernelspec": {
   "display_name": "Python 3",
   "language": "python",
   "name": "python3"
  },
  "language_info": {
   "codemirror_mode": {
    "name": "ipython",
    "version": 3
   },
   "file_extension": ".py",
   "mimetype": "text/x-python",
   "name": "python",
   "nbconvert_exporter": "python",
   "pygments_lexer": "ipython3",
   "version": "3.7.12"
  },
  "papermill": {
   "default_parameters": {},
   "duration": 11.611372,
   "end_time": "2023-01-13T10:43:51.363773",
   "environment_variables": {},
   "exception": null,
   "input_path": "__notebook__.ipynb",
   "output_path": "__notebook__.ipynb",
   "parameters": {},
   "start_time": "2023-01-13T10:43:39.752401",
   "version": "2.3.4"
  }
 },
 "nbformat": 4,
 "nbformat_minor": 5
}
