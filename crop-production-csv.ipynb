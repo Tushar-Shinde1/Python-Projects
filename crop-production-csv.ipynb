{
 "cells": [
  {
   "cell_type": "code",
   "execution_count": 1,
   "id": "a580b154",
   "metadata": {
    "_cell_guid": "b1076dfc-b9ad-4769-8c92-a6c4dae69d19",
    "_uuid": "8f2839f25d086af736a60e9eeb907d3b93b6e0e5",
    "execution": {
     "iopub.execute_input": "2023-03-03T06:28:20.643762Z",
     "iopub.status.busy": "2023-03-03T06:28:20.643322Z",
     "iopub.status.idle": "2023-03-03T06:28:20.660156Z",
     "shell.execute_reply": "2023-03-03T06:28:20.658747Z"
    },
    "papermill": {
     "duration": 0.02864,
     "end_time": "2023-03-03T06:28:20.663118",
     "exception": false,
     "start_time": "2023-03-03T06:28:20.634478",
     "status": "completed"
    },
    "tags": []
   },
   "outputs": [
    {
     "name": "stdout",
     "output_type": "stream",
     "text": [
      "/kaggle/input/crop-production-statistics-india/APY.csv\n"
     ]
    }
   ],
   "source": [
    "# This Python 3 environment comes with many helpful analytics libraries installed\n",
    "# It is defined by the kaggle/python Docker image: https://github.com/kaggle/docker-python\n",
    "# For example, here's several helpful packages to load\n",
    "\n",
    "import numpy as np # linear algebra\n",
    "import pandas as pd # data processing, CSV file I/O (e.g. pd.read_csv)\n",
    "\n",
    "# Input data files are available in the read-only \"../input/\" directory\n",
    "# For example, running this (by clicking run or pressing Shift+Enter) will list all files under the input directory\n",
    "\n",
    "import os\n",
    "for dirname, _, filenames in os.walk('/kaggle/input'):\n",
    "    for filename in filenames:\n",
    "        print(os.path.join(dirname, filename))\n",
    "\n",
    "# You can write up to 20GB to the current directory (/kaggle/working/) that gets preserved as output when you create a version using \"Save & Run All\" \n",
    "# You can also write temporary files to /kaggle/temp/, but they won't be saved outside of the current session"
   ]
  },
  {
   "cell_type": "code",
   "execution_count": 2,
   "id": "83ffd159",
   "metadata": {
    "execution": {
     "iopub.execute_input": "2023-03-03T06:28:20.677255Z",
     "iopub.status.busy": "2023-03-03T06:28:20.676850Z",
     "iopub.status.idle": "2023-03-03T06:28:20.682042Z",
     "shell.execute_reply": "2023-03-03T06:28:20.680545Z"
    },
    "papermill": {
     "duration": 0.015453,
     "end_time": "2023-03-03T06:28:20.684706",
     "exception": false,
     "start_time": "2023-03-03T06:28:20.669253",
     "status": "completed"
    },
    "tags": []
   },
   "outputs": [],
   "source": [
    "import pandas as pd\n",
    "import numpy as np"
   ]
  },
  {
   "cell_type": "code",
   "execution_count": 3,
   "id": "bb012d4b",
   "metadata": {
    "execution": {
     "iopub.execute_input": "2023-03-03T06:28:20.698699Z",
     "iopub.status.busy": "2023-03-03T06:28:20.698256Z",
     "iopub.status.idle": "2023-03-03T06:28:21.305879Z",
     "shell.execute_reply": "2023-03-03T06:28:21.304390Z"
    },
    "papermill": {
     "duration": 0.617968,
     "end_time": "2023-03-03T06:28:21.308643",
     "exception": false,
     "start_time": "2023-03-03T06:28:20.690675",
     "status": "completed"
    },
    "tags": []
   },
   "outputs": [
    {
     "data": {
      "text/html": [
       "<div>\n",
       "<style scoped>\n",
       "    .dataframe tbody tr th:only-of-type {\n",
       "        vertical-align: middle;\n",
       "    }\n",
       "\n",
       "    .dataframe tbody tr th {\n",
       "        vertical-align: top;\n",
       "    }\n",
       "\n",
       "    .dataframe thead th {\n",
       "        text-align: right;\n",
       "    }\n",
       "</style>\n",
       "<table border=\"1\" class=\"dataframe\">\n",
       "  <thead>\n",
       "    <tr style=\"text-align: right;\">\n",
       "      <th></th>\n",
       "      <th>State</th>\n",
       "      <th>District</th>\n",
       "      <th>Crop</th>\n",
       "      <th>Crop_Year</th>\n",
       "      <th>Season</th>\n",
       "      <th>Area</th>\n",
       "      <th>Production</th>\n",
       "      <th>Yield</th>\n",
       "    </tr>\n",
       "  </thead>\n",
       "  <tbody>\n",
       "    <tr>\n",
       "      <th>0</th>\n",
       "      <td>Andaman and Nicobar Island</td>\n",
       "      <td>NICOBARS</td>\n",
       "      <td>Arecanut</td>\n",
       "      <td>2007</td>\n",
       "      <td>Kharif</td>\n",
       "      <td>2439.6</td>\n",
       "      <td>3415.0</td>\n",
       "      <td>1.40</td>\n",
       "    </tr>\n",
       "    <tr>\n",
       "      <th>1</th>\n",
       "      <td>Andaman and Nicobar Island</td>\n",
       "      <td>NICOBARS</td>\n",
       "      <td>Arecanut</td>\n",
       "      <td>2007</td>\n",
       "      <td>Rabi</td>\n",
       "      <td>1626.4</td>\n",
       "      <td>2277.0</td>\n",
       "      <td>1.40</td>\n",
       "    </tr>\n",
       "    <tr>\n",
       "      <th>2</th>\n",
       "      <td>Andaman and Nicobar Island</td>\n",
       "      <td>NICOBARS</td>\n",
       "      <td>Arecanut</td>\n",
       "      <td>2008</td>\n",
       "      <td>Autumn</td>\n",
       "      <td>4147.0</td>\n",
       "      <td>3060.0</td>\n",
       "      <td>0.74</td>\n",
       "    </tr>\n",
       "    <tr>\n",
       "      <th>3</th>\n",
       "      <td>Andaman and Nicobar Island</td>\n",
       "      <td>NICOBARS</td>\n",
       "      <td>Arecanut</td>\n",
       "      <td>2008</td>\n",
       "      <td>Summer</td>\n",
       "      <td>4147.0</td>\n",
       "      <td>2660.0</td>\n",
       "      <td>0.64</td>\n",
       "    </tr>\n",
       "    <tr>\n",
       "      <th>4</th>\n",
       "      <td>Andaman and Nicobar Island</td>\n",
       "      <td>NICOBARS</td>\n",
       "      <td>Arecanut</td>\n",
       "      <td>2009</td>\n",
       "      <td>Autumn</td>\n",
       "      <td>4153.0</td>\n",
       "      <td>3120.0</td>\n",
       "      <td>0.75</td>\n",
       "    </tr>\n",
       "    <tr>\n",
       "      <th>...</th>\n",
       "      <td>...</td>\n",
       "      <td>...</td>\n",
       "      <td>...</td>\n",
       "      <td>...</td>\n",
       "      <td>...</td>\n",
       "      <td>...</td>\n",
       "      <td>...</td>\n",
       "      <td>...</td>\n",
       "    </tr>\n",
       "    <tr>\n",
       "      <th>345331</th>\n",
       "      <td>West Bengal</td>\n",
       "      <td>PURULIA</td>\n",
       "      <td>Wheat</td>\n",
       "      <td>2015</td>\n",
       "      <td>Rabi</td>\n",
       "      <td>855.0</td>\n",
       "      <td>1241.0</td>\n",
       "      <td>1.45</td>\n",
       "    </tr>\n",
       "    <tr>\n",
       "      <th>345332</th>\n",
       "      <td>West Bengal</td>\n",
       "      <td>PURULIA</td>\n",
       "      <td>Wheat</td>\n",
       "      <td>2016</td>\n",
       "      <td>Rabi</td>\n",
       "      <td>1366.0</td>\n",
       "      <td>2415.0</td>\n",
       "      <td>1.77</td>\n",
       "    </tr>\n",
       "    <tr>\n",
       "      <th>345333</th>\n",
       "      <td>West Bengal</td>\n",
       "      <td>PURULIA</td>\n",
       "      <td>Wheat</td>\n",
       "      <td>2017</td>\n",
       "      <td>Rabi</td>\n",
       "      <td>1052.0</td>\n",
       "      <td>2145.0</td>\n",
       "      <td>2.04</td>\n",
       "    </tr>\n",
       "    <tr>\n",
       "      <th>345334</th>\n",
       "      <td>West Bengal</td>\n",
       "      <td>PURULIA</td>\n",
       "      <td>Wheat</td>\n",
       "      <td>2018</td>\n",
       "      <td>Rabi</td>\n",
       "      <td>833.0</td>\n",
       "      <td>2114.0</td>\n",
       "      <td>2.54</td>\n",
       "    </tr>\n",
       "    <tr>\n",
       "      <th>345335</th>\n",
       "      <td>West Bengal</td>\n",
       "      <td>PURULIA</td>\n",
       "      <td>Wheat</td>\n",
       "      <td>2019</td>\n",
       "      <td>Rabi</td>\n",
       "      <td>516.0</td>\n",
       "      <td>931.0</td>\n",
       "      <td>1.80</td>\n",
       "    </tr>\n",
       "  </tbody>\n",
       "</table>\n",
       "<p>345336 rows × 8 columns</p>\n",
       "</div>"
      ],
      "text/plain": [
       "                             State District       Crop  Crop_Year  \\\n",
       "0       Andaman and Nicobar Island  NICOBARS  Arecanut       2007   \n",
       "1       Andaman and Nicobar Island  NICOBARS  Arecanut       2007   \n",
       "2       Andaman and Nicobar Island  NICOBARS  Arecanut       2008   \n",
       "3       Andaman and Nicobar Island  NICOBARS  Arecanut       2008   \n",
       "4       Andaman and Nicobar Island  NICOBARS  Arecanut       2009   \n",
       "...                            ...       ...       ...        ...   \n",
       "345331                 West Bengal   PURULIA     Wheat       2015   \n",
       "345332                 West Bengal   PURULIA     Wheat       2016   \n",
       "345333                 West Bengal   PURULIA     Wheat       2017   \n",
       "345334                 West Bengal   PURULIA     Wheat       2018   \n",
       "345335                 West Bengal   PURULIA     Wheat       2019   \n",
       "\n",
       "             Season   Area   Production  Yield  \n",
       "0       Kharif       2439.6      3415.0   1.40  \n",
       "1       Rabi         1626.4      2277.0   1.40  \n",
       "2       Autumn       4147.0      3060.0   0.74  \n",
       "3       Summer       4147.0      2660.0   0.64  \n",
       "4       Autumn       4153.0      3120.0   0.75  \n",
       "...             ...     ...         ...    ...  \n",
       "345331  Rabi          855.0      1241.0   1.45  \n",
       "345332  Rabi         1366.0      2415.0   1.77  \n",
       "345333  Rabi         1052.0      2145.0   2.04  \n",
       "345334  Rabi          833.0      2114.0   2.54  \n",
       "345335  Rabi          516.0       931.0   1.80  \n",
       "\n",
       "[345336 rows x 8 columns]"
      ]
     },
     "execution_count": 3,
     "metadata": {},
     "output_type": "execute_result"
    }
   ],
   "source": [
    "dataset=pd.read_csv(\"/kaggle/input/crop-production-statistics-india/APY.csv\")\n",
    "dataset"
   ]
  },
  {
   "cell_type": "code",
   "execution_count": 4,
   "id": "ca0d763e",
   "metadata": {
    "execution": {
     "iopub.execute_input": "2023-03-03T06:28:21.323168Z",
     "iopub.status.busy": "2023-03-03T06:28:21.322765Z",
     "iopub.status.idle": "2023-03-03T06:28:21.429293Z",
     "shell.execute_reply": "2023-03-03T06:28:21.427577Z"
    },
    "papermill": {
     "duration": 0.117275,
     "end_time": "2023-03-03T06:28:21.432246",
     "exception": false,
     "start_time": "2023-03-03T06:28:21.314971",
     "status": "completed"
    },
    "tags": []
   },
   "outputs": [
    {
     "name": "stdout",
     "output_type": "stream",
     "text": [
      "<class 'pandas.core.frame.DataFrame'>\n",
      "RangeIndex: 345336 entries, 0 to 345335\n",
      "Data columns (total 8 columns):\n",
      " #   Column      Non-Null Count   Dtype  \n",
      "---  ------      --------------   -----  \n",
      " 0   State       345336 non-null  object \n",
      " 1   District    345336 non-null  object \n",
      " 2   Crop        345327 non-null  object \n",
      " 3   Crop_Year   345336 non-null  int64  \n",
      " 4   Season      345336 non-null  object \n",
      " 5   Area        345336 non-null  float64\n",
      " 6   Production  340388 non-null  float64\n",
      " 7   Yield       345336 non-null  float64\n",
      "dtypes: float64(3), int64(1), object(4)\n",
      "memory usage: 21.1+ MB\n"
     ]
    }
   ],
   "source": [
    "dataset.info()"
   ]
  },
  {
   "cell_type": "code",
   "execution_count": 5,
   "id": "6e399b95",
   "metadata": {
    "execution": {
     "iopub.execute_input": "2023-03-03T06:28:21.447173Z",
     "iopub.status.busy": "2023-03-03T06:28:21.446762Z",
     "iopub.status.idle": "2023-03-03T06:28:21.524167Z",
     "shell.execute_reply": "2023-03-03T06:28:21.522891Z"
    },
    "papermill": {
     "duration": 0.08812,
     "end_time": "2023-03-03T06:28:21.527021",
     "exception": false,
     "start_time": "2023-03-03T06:28:21.438901",
     "status": "completed"
    },
    "tags": []
   },
   "outputs": [
    {
     "data": {
      "text/plain": [
       "State            0\n",
       "District         0\n",
       "Crop             9\n",
       "Crop_Year        0\n",
       "Season           0\n",
       "Area             0\n",
       "Production    4948\n",
       "Yield            0\n",
       "dtype: int64"
      ]
     },
     "execution_count": 5,
     "metadata": {},
     "output_type": "execute_result"
    }
   ],
   "source": [
    "dataset.isnull().sum()"
   ]
  },
  {
   "cell_type": "code",
   "execution_count": 6,
   "id": "87b0d433",
   "metadata": {
    "execution": {
     "iopub.execute_input": "2023-03-03T06:28:21.542612Z",
     "iopub.status.busy": "2023-03-03T06:28:21.541182Z",
     "iopub.status.idle": "2023-03-03T06:28:21.555629Z",
     "shell.execute_reply": "2023-03-03T06:28:21.553686Z"
    },
    "papermill": {
     "duration": 0.025532,
     "end_time": "2023-03-03T06:28:21.559029",
     "exception": false,
     "start_time": "2023-03-03T06:28:21.533497",
     "status": "completed"
    },
    "tags": []
   },
   "outputs": [
    {
     "name": "stdout",
     "output_type": "stream",
     "text": [
      "958472.64\n"
     ]
    }
   ],
   "source": [
    "d1=dataset[\"Production\"].mean()\n",
    "d1=round(d1,2)\n",
    "print(d1)\n",
    "dataset[\"Production\"]=dataset[\"Production\"].fillna(958472)"
   ]
  },
  {
   "cell_type": "code",
   "execution_count": 7,
   "id": "44b1a716",
   "metadata": {
    "execution": {
     "iopub.execute_input": "2023-03-03T06:28:21.574255Z",
     "iopub.status.busy": "2023-03-03T06:28:21.573857Z",
     "iopub.status.idle": "2023-03-03T06:28:21.609779Z",
     "shell.execute_reply": "2023-03-03T06:28:21.608495Z"
    },
    "papermill": {
     "duration": 0.04667,
     "end_time": "2023-03-03T06:28:21.612595",
     "exception": false,
     "start_time": "2023-03-03T06:28:21.565925",
     "status": "completed"
    },
    "tags": []
   },
   "outputs": [],
   "source": [
    "dataset[\"Crop\"]=dataset[\"Crop\"].fillna(\"Wheat\")"
   ]
  },
  {
   "cell_type": "code",
   "execution_count": 8,
   "id": "1b49309a",
   "metadata": {
    "execution": {
     "iopub.execute_input": "2023-03-03T06:28:21.628377Z",
     "iopub.status.busy": "2023-03-03T06:28:21.627943Z",
     "iopub.status.idle": "2023-03-03T06:28:21.649073Z",
     "shell.execute_reply": "2023-03-03T06:28:21.647654Z"
    },
    "papermill": {
     "duration": 0.032648,
     "end_time": "2023-03-03T06:28:21.652035",
     "exception": false,
     "start_time": "2023-03-03T06:28:21.619387",
     "status": "completed"
    },
    "tags": []
   },
   "outputs": [
    {
     "data": {
      "text/html": [
       "<div>\n",
       "<style scoped>\n",
       "    .dataframe tbody tr th:only-of-type {\n",
       "        vertical-align: middle;\n",
       "    }\n",
       "\n",
       "    .dataframe tbody tr th {\n",
       "        vertical-align: top;\n",
       "    }\n",
       "\n",
       "    .dataframe thead th {\n",
       "        text-align: right;\n",
       "    }\n",
       "</style>\n",
       "<table border=\"1\" class=\"dataframe\">\n",
       "  <thead>\n",
       "    <tr style=\"text-align: right;\">\n",
       "      <th></th>\n",
       "      <th>State</th>\n",
       "      <th>District</th>\n",
       "      <th>Crop</th>\n",
       "      <th>Crop_Year</th>\n",
       "      <th>Season</th>\n",
       "      <th>Area</th>\n",
       "      <th>Production</th>\n",
       "      <th>Yield</th>\n",
       "    </tr>\n",
       "  </thead>\n",
       "  <tbody>\n",
       "    <tr>\n",
       "      <th>0</th>\n",
       "      <td>Andaman and Nicobar Island</td>\n",
       "      <td>NICOBARS</td>\n",
       "      <td>Arecanut</td>\n",
       "      <td>2007</td>\n",
       "      <td>Kharif</td>\n",
       "      <td>2439.6</td>\n",
       "      <td>3415.0</td>\n",
       "      <td>1.40</td>\n",
       "    </tr>\n",
       "    <tr>\n",
       "      <th>1</th>\n",
       "      <td>Andaman and Nicobar Island</td>\n",
       "      <td>NICOBARS</td>\n",
       "      <td>Arecanut</td>\n",
       "      <td>2007</td>\n",
       "      <td>Rabi</td>\n",
       "      <td>1626.4</td>\n",
       "      <td>2277.0</td>\n",
       "      <td>1.40</td>\n",
       "    </tr>\n",
       "    <tr>\n",
       "      <th>2</th>\n",
       "      <td>Andaman and Nicobar Island</td>\n",
       "      <td>NICOBARS</td>\n",
       "      <td>Arecanut</td>\n",
       "      <td>2008</td>\n",
       "      <td>Autumn</td>\n",
       "      <td>4147.0</td>\n",
       "      <td>3060.0</td>\n",
       "      <td>0.74</td>\n",
       "    </tr>\n",
       "    <tr>\n",
       "      <th>3</th>\n",
       "      <td>Andaman and Nicobar Island</td>\n",
       "      <td>NICOBARS</td>\n",
       "      <td>Arecanut</td>\n",
       "      <td>2008</td>\n",
       "      <td>Summer</td>\n",
       "      <td>4147.0</td>\n",
       "      <td>2660.0</td>\n",
       "      <td>0.64</td>\n",
       "    </tr>\n",
       "    <tr>\n",
       "      <th>4</th>\n",
       "      <td>Andaman and Nicobar Island</td>\n",
       "      <td>NICOBARS</td>\n",
       "      <td>Arecanut</td>\n",
       "      <td>2009</td>\n",
       "      <td>Autumn</td>\n",
       "      <td>4153.0</td>\n",
       "      <td>3120.0</td>\n",
       "      <td>0.75</td>\n",
       "    </tr>\n",
       "    <tr>\n",
       "      <th>...</th>\n",
       "      <td>...</td>\n",
       "      <td>...</td>\n",
       "      <td>...</td>\n",
       "      <td>...</td>\n",
       "      <td>...</td>\n",
       "      <td>...</td>\n",
       "      <td>...</td>\n",
       "      <td>...</td>\n",
       "    </tr>\n",
       "    <tr>\n",
       "      <th>345331</th>\n",
       "      <td>West Bengal</td>\n",
       "      <td>PURULIA</td>\n",
       "      <td>Wheat</td>\n",
       "      <td>2015</td>\n",
       "      <td>Rabi</td>\n",
       "      <td>855.0</td>\n",
       "      <td>1241.0</td>\n",
       "      <td>1.45</td>\n",
       "    </tr>\n",
       "    <tr>\n",
       "      <th>345332</th>\n",
       "      <td>West Bengal</td>\n",
       "      <td>PURULIA</td>\n",
       "      <td>Wheat</td>\n",
       "      <td>2016</td>\n",
       "      <td>Rabi</td>\n",
       "      <td>1366.0</td>\n",
       "      <td>2415.0</td>\n",
       "      <td>1.77</td>\n",
       "    </tr>\n",
       "    <tr>\n",
       "      <th>345333</th>\n",
       "      <td>West Bengal</td>\n",
       "      <td>PURULIA</td>\n",
       "      <td>Wheat</td>\n",
       "      <td>2017</td>\n",
       "      <td>Rabi</td>\n",
       "      <td>1052.0</td>\n",
       "      <td>2145.0</td>\n",
       "      <td>2.04</td>\n",
       "    </tr>\n",
       "    <tr>\n",
       "      <th>345334</th>\n",
       "      <td>West Bengal</td>\n",
       "      <td>PURULIA</td>\n",
       "      <td>Wheat</td>\n",
       "      <td>2018</td>\n",
       "      <td>Rabi</td>\n",
       "      <td>833.0</td>\n",
       "      <td>2114.0</td>\n",
       "      <td>2.54</td>\n",
       "    </tr>\n",
       "    <tr>\n",
       "      <th>345335</th>\n",
       "      <td>West Bengal</td>\n",
       "      <td>PURULIA</td>\n",
       "      <td>Wheat</td>\n",
       "      <td>2019</td>\n",
       "      <td>Rabi</td>\n",
       "      <td>516.0</td>\n",
       "      <td>931.0</td>\n",
       "      <td>1.80</td>\n",
       "    </tr>\n",
       "  </tbody>\n",
       "</table>\n",
       "<p>345336 rows × 8 columns</p>\n",
       "</div>"
      ],
      "text/plain": [
       "                             State District       Crop  Crop_Year  \\\n",
       "0       Andaman and Nicobar Island  NICOBARS  Arecanut       2007   \n",
       "1       Andaman and Nicobar Island  NICOBARS  Arecanut       2007   \n",
       "2       Andaman and Nicobar Island  NICOBARS  Arecanut       2008   \n",
       "3       Andaman and Nicobar Island  NICOBARS  Arecanut       2008   \n",
       "4       Andaman and Nicobar Island  NICOBARS  Arecanut       2009   \n",
       "...                            ...       ...       ...        ...   \n",
       "345331                 West Bengal   PURULIA     Wheat       2015   \n",
       "345332                 West Bengal   PURULIA     Wheat       2016   \n",
       "345333                 West Bengal   PURULIA     Wheat       2017   \n",
       "345334                 West Bengal   PURULIA     Wheat       2018   \n",
       "345335                 West Bengal   PURULIA     Wheat       2019   \n",
       "\n",
       "             Season   Area   Production  Yield  \n",
       "0       Kharif       2439.6      3415.0   1.40  \n",
       "1       Rabi         1626.4      2277.0   1.40  \n",
       "2       Autumn       4147.0      3060.0   0.74  \n",
       "3       Summer       4147.0      2660.0   0.64  \n",
       "4       Autumn       4153.0      3120.0   0.75  \n",
       "...             ...     ...         ...    ...  \n",
       "345331  Rabi          855.0      1241.0   1.45  \n",
       "345332  Rabi         1366.0      2415.0   1.77  \n",
       "345333  Rabi         1052.0      2145.0   2.04  \n",
       "345334  Rabi          833.0      2114.0   2.54  \n",
       "345335  Rabi          516.0       931.0   1.80  \n",
       "\n",
       "[345336 rows x 8 columns]"
      ]
     },
     "execution_count": 8,
     "metadata": {},
     "output_type": "execute_result"
    }
   ],
   "source": [
    "dataset"
   ]
  },
  {
   "cell_type": "code",
   "execution_count": 9,
   "id": "c8de0daa",
   "metadata": {
    "execution": {
     "iopub.execute_input": "2023-03-03T06:28:21.668034Z",
     "iopub.status.busy": "2023-03-03T06:28:21.667599Z",
     "iopub.status.idle": "2023-03-03T06:28:21.741394Z",
     "shell.execute_reply": "2023-03-03T06:28:21.740197Z"
    },
    "papermill": {
     "duration": 0.085222,
     "end_time": "2023-03-03T06:28:21.744236",
     "exception": false,
     "start_time": "2023-03-03T06:28:21.659014",
     "status": "completed"
    },
    "tags": []
   },
   "outputs": [
    {
     "data": {
      "text/plain": [
       "State         False\n",
       "District      False\n",
       "Crop          False\n",
       "Crop_Year     False\n",
       "Season        False\n",
       "Area          False\n",
       "Production    False\n",
       "Yield         False\n",
       "dtype: bool"
      ]
     },
     "execution_count": 9,
     "metadata": {},
     "output_type": "execute_result"
    }
   ],
   "source": [
    "dataset.isnull().any()"
   ]
  },
  {
   "cell_type": "code",
   "execution_count": 10,
   "id": "43eee3b6",
   "metadata": {
    "execution": {
     "iopub.execute_input": "2023-03-03T06:28:21.760238Z",
     "iopub.status.busy": "2023-03-03T06:28:21.759841Z",
     "iopub.status.idle": "2023-03-03T06:28:22.896646Z",
     "shell.execute_reply": "2023-03-03T06:28:22.895480Z"
    },
    "papermill": {
     "duration": 1.148301,
     "end_time": "2023-03-03T06:28:22.899632",
     "exception": false,
     "start_time": "2023-03-03T06:28:21.751331",
     "status": "completed"
    },
    "tags": []
   },
   "outputs": [],
   "source": [
    "from sklearn.preprocessing import LabelEncoder\n",
    "l1=LabelEncoder()"
   ]
  },
  {
   "cell_type": "code",
   "execution_count": 11,
   "id": "1db7fe5c",
   "metadata": {
    "execution": {
     "iopub.execute_input": "2023-03-03T06:28:22.915849Z",
     "iopub.status.busy": "2023-03-03T06:28:22.915416Z",
     "iopub.status.idle": "2023-03-03T06:28:23.225360Z",
     "shell.execute_reply": "2023-03-03T06:28:23.224216Z"
    },
    "papermill": {
     "duration": 0.321317,
     "end_time": "2023-03-03T06:28:23.227915",
     "exception": false,
     "start_time": "2023-03-03T06:28:22.906598",
     "status": "completed"
    },
    "tags": []
   },
   "outputs": [
    {
     "data": {
      "text/html": [
       "<div>\n",
       "<style scoped>\n",
       "    .dataframe tbody tr th:only-of-type {\n",
       "        vertical-align: middle;\n",
       "    }\n",
       "\n",
       "    .dataframe tbody tr th {\n",
       "        vertical-align: top;\n",
       "    }\n",
       "\n",
       "    .dataframe thead th {\n",
       "        text-align: right;\n",
       "    }\n",
       "</style>\n",
       "<table border=\"1\" class=\"dataframe\">\n",
       "  <thead>\n",
       "    <tr style=\"text-align: right;\">\n",
       "      <th></th>\n",
       "      <th>State</th>\n",
       "      <th>District</th>\n",
       "      <th>Crop</th>\n",
       "      <th>Crop_Year</th>\n",
       "      <th>Season</th>\n",
       "      <th>Area</th>\n",
       "      <th>Production</th>\n",
       "      <th>Yield</th>\n",
       "    </tr>\n",
       "  </thead>\n",
       "  <tbody>\n",
       "    <tr>\n",
       "      <th>0</th>\n",
       "      <td>0</td>\n",
       "      <td>NICOBARS</td>\n",
       "      <td>0</td>\n",
       "      <td>2007</td>\n",
       "      <td>1</td>\n",
       "      <td>2439.6</td>\n",
       "      <td>3415.0</td>\n",
       "      <td>1.40</td>\n",
       "    </tr>\n",
       "    <tr>\n",
       "      <th>1</th>\n",
       "      <td>0</td>\n",
       "      <td>NICOBARS</td>\n",
       "      <td>0</td>\n",
       "      <td>2007</td>\n",
       "      <td>2</td>\n",
       "      <td>1626.4</td>\n",
       "      <td>2277.0</td>\n",
       "      <td>1.40</td>\n",
       "    </tr>\n",
       "    <tr>\n",
       "      <th>2</th>\n",
       "      <td>0</td>\n",
       "      <td>NICOBARS</td>\n",
       "      <td>0</td>\n",
       "      <td>2008</td>\n",
       "      <td>0</td>\n",
       "      <td>4147.0</td>\n",
       "      <td>3060.0</td>\n",
       "      <td>0.74</td>\n",
       "    </tr>\n",
       "    <tr>\n",
       "      <th>3</th>\n",
       "      <td>0</td>\n",
       "      <td>NICOBARS</td>\n",
       "      <td>0</td>\n",
       "      <td>2008</td>\n",
       "      <td>3</td>\n",
       "      <td>4147.0</td>\n",
       "      <td>2660.0</td>\n",
       "      <td>0.64</td>\n",
       "    </tr>\n",
       "    <tr>\n",
       "      <th>4</th>\n",
       "      <td>0</td>\n",
       "      <td>NICOBARS</td>\n",
       "      <td>0</td>\n",
       "      <td>2009</td>\n",
       "      <td>0</td>\n",
       "      <td>4153.0</td>\n",
       "      <td>3120.0</td>\n",
       "      <td>0.75</td>\n",
       "    </tr>\n",
       "    <tr>\n",
       "      <th>...</th>\n",
       "      <td>...</td>\n",
       "      <td>...</td>\n",
       "      <td>...</td>\n",
       "      <td>...</td>\n",
       "      <td>...</td>\n",
       "      <td>...</td>\n",
       "      <td>...</td>\n",
       "      <td>...</td>\n",
       "    </tr>\n",
       "    <tr>\n",
       "      <th>345331</th>\n",
       "      <td>36</td>\n",
       "      <td>PURULIA</td>\n",
       "      <td>53</td>\n",
       "      <td>2015</td>\n",
       "      <td>2</td>\n",
       "      <td>855.0</td>\n",
       "      <td>1241.0</td>\n",
       "      <td>1.45</td>\n",
       "    </tr>\n",
       "    <tr>\n",
       "      <th>345332</th>\n",
       "      <td>36</td>\n",
       "      <td>PURULIA</td>\n",
       "      <td>53</td>\n",
       "      <td>2016</td>\n",
       "      <td>2</td>\n",
       "      <td>1366.0</td>\n",
       "      <td>2415.0</td>\n",
       "      <td>1.77</td>\n",
       "    </tr>\n",
       "    <tr>\n",
       "      <th>345333</th>\n",
       "      <td>36</td>\n",
       "      <td>PURULIA</td>\n",
       "      <td>53</td>\n",
       "      <td>2017</td>\n",
       "      <td>2</td>\n",
       "      <td>1052.0</td>\n",
       "      <td>2145.0</td>\n",
       "      <td>2.04</td>\n",
       "    </tr>\n",
       "    <tr>\n",
       "      <th>345334</th>\n",
       "      <td>36</td>\n",
       "      <td>PURULIA</td>\n",
       "      <td>53</td>\n",
       "      <td>2018</td>\n",
       "      <td>2</td>\n",
       "      <td>833.0</td>\n",
       "      <td>2114.0</td>\n",
       "      <td>2.54</td>\n",
       "    </tr>\n",
       "    <tr>\n",
       "      <th>345335</th>\n",
       "      <td>36</td>\n",
       "      <td>PURULIA</td>\n",
       "      <td>53</td>\n",
       "      <td>2019</td>\n",
       "      <td>2</td>\n",
       "      <td>516.0</td>\n",
       "      <td>931.0</td>\n",
       "      <td>1.80</td>\n",
       "    </tr>\n",
       "  </tbody>\n",
       "</table>\n",
       "<p>345336 rows × 8 columns</p>\n",
       "</div>"
      ],
      "text/plain": [
       "        State District   Crop  Crop_Year  Season   Area   Production  Yield\n",
       "0           0  NICOBARS     0       2007       1  2439.6      3415.0   1.40\n",
       "1           0  NICOBARS     0       2007       2  1626.4      2277.0   1.40\n",
       "2           0  NICOBARS     0       2008       0  4147.0      3060.0   0.74\n",
       "3           0  NICOBARS     0       2008       3  4147.0      2660.0   0.64\n",
       "4           0  NICOBARS     0       2009       0  4153.0      3120.0   0.75\n",
       "...       ...       ...   ...        ...     ...     ...         ...    ...\n",
       "345331     36   PURULIA    53       2015       2   855.0      1241.0   1.45\n",
       "345332     36   PURULIA    53       2016       2  1366.0      2415.0   1.77\n",
       "345333     36   PURULIA    53       2017       2  1052.0      2145.0   2.04\n",
       "345334     36   PURULIA    53       2018       2   833.0      2114.0   2.54\n",
       "345335     36   PURULIA    53       2019       2   516.0       931.0   1.80\n",
       "\n",
       "[345336 rows x 8 columns]"
      ]
     },
     "execution_count": 11,
     "metadata": {},
     "output_type": "execute_result"
    }
   ],
   "source": [
    "dataset[\"State\"]=l1.fit_transform(dataset[\"State\"])\n",
    "# dataset[\"District\"]=l1.fit_transform(dataset[\"District\"])\n",
    "dataset[\"Crop\"]=l1.fit_transform(dataset[\"Crop\"])\n",
    "dataset[\"Season\"]=l1.fit_transform(dataset[\"Season\"])\n",
    "dataset"
   ]
  },
  {
   "cell_type": "code",
   "execution_count": 12,
   "id": "0cfb7b0e",
   "metadata": {
    "execution": {
     "iopub.execute_input": "2023-03-03T06:28:23.245760Z",
     "iopub.status.busy": "2023-03-03T06:28:23.244800Z",
     "iopub.status.idle": "2023-03-03T06:28:23.252063Z",
     "shell.execute_reply": "2023-03-03T06:28:23.250819Z"
    },
    "papermill": {
     "duration": 0.018318,
     "end_time": "2023-03-03T06:28:23.254365",
     "exception": false,
     "start_time": "2023-03-03T06:28:23.236047",
     "status": "completed"
    },
    "tags": []
   },
   "outputs": [],
   "source": [
    "del dataset[dataset.columns[1]]"
   ]
  },
  {
   "cell_type": "code",
   "execution_count": 13,
   "id": "94ae2413",
   "metadata": {
    "execution": {
     "iopub.execute_input": "2023-03-03T06:28:23.270324Z",
     "iopub.status.busy": "2023-03-03T06:28:23.269886Z",
     "iopub.status.idle": "2023-03-03T06:28:23.289574Z",
     "shell.execute_reply": "2023-03-03T06:28:23.288273Z"
    },
    "papermill": {
     "duration": 0.030785,
     "end_time": "2023-03-03T06:28:23.292193",
     "exception": false,
     "start_time": "2023-03-03T06:28:23.261408",
     "status": "completed"
    },
    "tags": []
   },
   "outputs": [
    {
     "data": {
      "text/html": [
       "<div>\n",
       "<style scoped>\n",
       "    .dataframe tbody tr th:only-of-type {\n",
       "        vertical-align: middle;\n",
       "    }\n",
       "\n",
       "    .dataframe tbody tr th {\n",
       "        vertical-align: top;\n",
       "    }\n",
       "\n",
       "    .dataframe thead th {\n",
       "        text-align: right;\n",
       "    }\n",
       "</style>\n",
       "<table border=\"1\" class=\"dataframe\">\n",
       "  <thead>\n",
       "    <tr style=\"text-align: right;\">\n",
       "      <th></th>\n",
       "      <th>State</th>\n",
       "      <th>Crop</th>\n",
       "      <th>Crop_Year</th>\n",
       "      <th>Season</th>\n",
       "      <th>Area</th>\n",
       "      <th>Production</th>\n",
       "      <th>Yield</th>\n",
       "    </tr>\n",
       "  </thead>\n",
       "  <tbody>\n",
       "    <tr>\n",
       "      <th>0</th>\n",
       "      <td>0</td>\n",
       "      <td>0</td>\n",
       "      <td>2007</td>\n",
       "      <td>1</td>\n",
       "      <td>2439.6</td>\n",
       "      <td>3415.0</td>\n",
       "      <td>1.40</td>\n",
       "    </tr>\n",
       "    <tr>\n",
       "      <th>1</th>\n",
       "      <td>0</td>\n",
       "      <td>0</td>\n",
       "      <td>2007</td>\n",
       "      <td>2</td>\n",
       "      <td>1626.4</td>\n",
       "      <td>2277.0</td>\n",
       "      <td>1.40</td>\n",
       "    </tr>\n",
       "    <tr>\n",
       "      <th>2</th>\n",
       "      <td>0</td>\n",
       "      <td>0</td>\n",
       "      <td>2008</td>\n",
       "      <td>0</td>\n",
       "      <td>4147.0</td>\n",
       "      <td>3060.0</td>\n",
       "      <td>0.74</td>\n",
       "    </tr>\n",
       "    <tr>\n",
       "      <th>3</th>\n",
       "      <td>0</td>\n",
       "      <td>0</td>\n",
       "      <td>2008</td>\n",
       "      <td>3</td>\n",
       "      <td>4147.0</td>\n",
       "      <td>2660.0</td>\n",
       "      <td>0.64</td>\n",
       "    </tr>\n",
       "    <tr>\n",
       "      <th>4</th>\n",
       "      <td>0</td>\n",
       "      <td>0</td>\n",
       "      <td>2009</td>\n",
       "      <td>0</td>\n",
       "      <td>4153.0</td>\n",
       "      <td>3120.0</td>\n",
       "      <td>0.75</td>\n",
       "    </tr>\n",
       "    <tr>\n",
       "      <th>...</th>\n",
       "      <td>...</td>\n",
       "      <td>...</td>\n",
       "      <td>...</td>\n",
       "      <td>...</td>\n",
       "      <td>...</td>\n",
       "      <td>...</td>\n",
       "      <td>...</td>\n",
       "    </tr>\n",
       "    <tr>\n",
       "      <th>345331</th>\n",
       "      <td>36</td>\n",
       "      <td>53</td>\n",
       "      <td>2015</td>\n",
       "      <td>2</td>\n",
       "      <td>855.0</td>\n",
       "      <td>1241.0</td>\n",
       "      <td>1.45</td>\n",
       "    </tr>\n",
       "    <tr>\n",
       "      <th>345332</th>\n",
       "      <td>36</td>\n",
       "      <td>53</td>\n",
       "      <td>2016</td>\n",
       "      <td>2</td>\n",
       "      <td>1366.0</td>\n",
       "      <td>2415.0</td>\n",
       "      <td>1.77</td>\n",
       "    </tr>\n",
       "    <tr>\n",
       "      <th>345333</th>\n",
       "      <td>36</td>\n",
       "      <td>53</td>\n",
       "      <td>2017</td>\n",
       "      <td>2</td>\n",
       "      <td>1052.0</td>\n",
       "      <td>2145.0</td>\n",
       "      <td>2.04</td>\n",
       "    </tr>\n",
       "    <tr>\n",
       "      <th>345334</th>\n",
       "      <td>36</td>\n",
       "      <td>53</td>\n",
       "      <td>2018</td>\n",
       "      <td>2</td>\n",
       "      <td>833.0</td>\n",
       "      <td>2114.0</td>\n",
       "      <td>2.54</td>\n",
       "    </tr>\n",
       "    <tr>\n",
       "      <th>345335</th>\n",
       "      <td>36</td>\n",
       "      <td>53</td>\n",
       "      <td>2019</td>\n",
       "      <td>2</td>\n",
       "      <td>516.0</td>\n",
       "      <td>931.0</td>\n",
       "      <td>1.80</td>\n",
       "    </tr>\n",
       "  </tbody>\n",
       "</table>\n",
       "<p>345336 rows × 7 columns</p>\n",
       "</div>"
      ],
      "text/plain": [
       "        State  Crop  Crop_Year  Season   Area   Production  Yield\n",
       "0           0     0       2007       1  2439.6      3415.0   1.40\n",
       "1           0     0       2007       2  1626.4      2277.0   1.40\n",
       "2           0     0       2008       0  4147.0      3060.0   0.74\n",
       "3           0     0       2008       3  4147.0      2660.0   0.64\n",
       "4           0     0       2009       0  4153.0      3120.0   0.75\n",
       "...       ...   ...        ...     ...     ...         ...    ...\n",
       "345331     36    53       2015       2   855.0      1241.0   1.45\n",
       "345332     36    53       2016       2  1366.0      2415.0   1.77\n",
       "345333     36    53       2017       2  1052.0      2145.0   2.04\n",
       "345334     36    53       2018       2   833.0      2114.0   2.54\n",
       "345335     36    53       2019       2   516.0       931.0   1.80\n",
       "\n",
       "[345336 rows x 7 columns]"
      ]
     },
     "execution_count": 13,
     "metadata": {},
     "output_type": "execute_result"
    }
   ],
   "source": [
    "dataset"
   ]
  },
  {
   "cell_type": "code",
   "execution_count": 14,
   "id": "46287053",
   "metadata": {
    "execution": {
     "iopub.execute_input": "2023-03-03T06:28:23.309453Z",
     "iopub.status.busy": "2023-03-03T06:28:23.308977Z",
     "iopub.status.idle": "2023-03-03T06:28:23.344548Z",
     "shell.execute_reply": "2023-03-03T06:28:23.343247Z"
    },
    "papermill": {
     "duration": 0.047989,
     "end_time": "2023-03-03T06:28:23.347642",
     "exception": false,
     "start_time": "2023-03-03T06:28:23.299653",
     "status": "completed"
    },
    "tags": []
   },
   "outputs": [],
   "source": [
    "x=dataset.iloc[:,:-1].values\n",
    "y=dataset.iloc[:,-1].values"
   ]
  },
  {
   "cell_type": "code",
   "execution_count": 15,
   "id": "62f382dd",
   "metadata": {
    "execution": {
     "iopub.execute_input": "2023-03-03T06:28:23.364982Z",
     "iopub.status.busy": "2023-03-03T06:28:23.364161Z",
     "iopub.status.idle": "2023-03-03T06:28:23.373201Z",
     "shell.execute_reply": "2023-03-03T06:28:23.371841Z"
    },
    "papermill": {
     "duration": 0.020433,
     "end_time": "2023-03-03T06:28:23.375760",
     "exception": false,
     "start_time": "2023-03-03T06:28:23.355327",
     "status": "completed"
    },
    "tags": []
   },
   "outputs": [
    {
     "data": {
      "text/plain": [
       "array([[0.0000e+00, 0.0000e+00, 2.0070e+03, 1.0000e+00, 2.4396e+03,\n",
       "        3.4150e+03],\n",
       "       [0.0000e+00, 0.0000e+00, 2.0070e+03, 2.0000e+00, 1.6264e+03,\n",
       "        2.2770e+03],\n",
       "       [0.0000e+00, 0.0000e+00, 2.0080e+03, 0.0000e+00, 4.1470e+03,\n",
       "        3.0600e+03],\n",
       "       ...,\n",
       "       [3.6000e+01, 5.3000e+01, 2.0170e+03, 2.0000e+00, 1.0520e+03,\n",
       "        2.1450e+03],\n",
       "       [3.6000e+01, 5.3000e+01, 2.0180e+03, 2.0000e+00, 8.3300e+02,\n",
       "        2.1140e+03],\n",
       "       [3.6000e+01, 5.3000e+01, 2.0190e+03, 2.0000e+00, 5.1600e+02,\n",
       "        9.3100e+02]])"
      ]
     },
     "execution_count": 15,
     "metadata": {},
     "output_type": "execute_result"
    }
   ],
   "source": [
    "x"
   ]
  },
  {
   "cell_type": "code",
   "execution_count": 16,
   "id": "09188450",
   "metadata": {
    "execution": {
     "iopub.execute_input": "2023-03-03T06:28:23.392951Z",
     "iopub.status.busy": "2023-03-03T06:28:23.392224Z",
     "iopub.status.idle": "2023-03-03T06:28:23.399623Z",
     "shell.execute_reply": "2023-03-03T06:28:23.398242Z"
    },
    "papermill": {
     "duration": 0.018501,
     "end_time": "2023-03-03T06:28:23.401904",
     "exception": false,
     "start_time": "2023-03-03T06:28:23.383403",
     "status": "completed"
    },
    "tags": []
   },
   "outputs": [
    {
     "data": {
      "text/plain": [
       "array([1.4 , 1.4 , 0.74, ..., 2.04, 2.54, 1.8 ])"
      ]
     },
     "execution_count": 16,
     "metadata": {},
     "output_type": "execute_result"
    }
   ],
   "source": [
    "y"
   ]
  },
  {
   "cell_type": "code",
   "execution_count": 17,
   "id": "8eaf867b",
   "metadata": {
    "execution": {
     "iopub.execute_input": "2023-03-03T06:28:23.419941Z",
     "iopub.status.busy": "2023-03-03T06:28:23.419535Z",
     "iopub.status.idle": "2023-03-03T06:28:23.564705Z",
     "shell.execute_reply": "2023-03-03T06:28:23.563389Z"
    },
    "papermill": {
     "duration": 0.157754,
     "end_time": "2023-03-03T06:28:23.567426",
     "exception": false,
     "start_time": "2023-03-03T06:28:23.409672",
     "status": "completed"
    },
    "tags": []
   },
   "outputs": [],
   "source": [
    "from sklearn.model_selection import train_test_split\n",
    "x_train,x_test,y_train,y_test=train_test_split(x,y,test_size=0.2,random_state=9)"
   ]
  },
  {
   "cell_type": "code",
   "execution_count": 18,
   "id": "817f9c2d",
   "metadata": {
    "execution": {
     "iopub.execute_input": "2023-03-03T06:28:23.585165Z",
     "iopub.status.busy": "2023-03-03T06:28:23.584010Z",
     "iopub.status.idle": "2023-03-03T06:28:23.817028Z",
     "shell.execute_reply": "2023-03-03T06:28:23.815227Z"
    },
    "papermill": {
     "duration": 0.246959,
     "end_time": "2023-03-03T06:28:23.822058",
     "exception": false,
     "start_time": "2023-03-03T06:28:23.575099",
     "status": "completed"
    },
    "tags": []
   },
   "outputs": [
    {
     "data": {
      "text/plain": [
       "LinearRegression()"
      ]
     },
     "execution_count": 18,
     "metadata": {},
     "output_type": "execute_result"
    }
   ],
   "source": [
    "from sklearn.linear_model import LinearRegression\n",
    "l1=LinearRegression()\n",
    "l1.fit(x_train,y_train)"
   ]
  },
  {
   "cell_type": "code",
   "execution_count": 19,
   "id": "c8e8fdbf",
   "metadata": {
    "execution": {
     "iopub.execute_input": "2023-03-03T06:28:23.865259Z",
     "iopub.status.busy": "2023-03-03T06:28:23.864495Z",
     "iopub.status.idle": "2023-03-03T06:28:23.877057Z",
     "shell.execute_reply": "2023-03-03T06:28:23.875271Z"
    },
    "papermill": {
     "duration": 0.03951,
     "end_time": "2023-03-03T06:28:23.881683",
     "exception": false,
     "start_time": "2023-03-03T06:28:23.842173",
     "status": "completed"
    },
    "tags": []
   },
   "outputs": [
    {
     "name": "stdout",
     "output_type": "stream",
     "text": [
      "[ -34.90824145   78.68950942  -77.01536338 ...   54.08007146 -127.98430832\n",
      "   14.69465451]\n"
     ]
    }
   ],
   "source": [
    "y_pred=l1.predict(x_test)\n",
    "print(y_pred)"
   ]
  },
  {
   "cell_type": "code",
   "execution_count": 20,
   "id": "f060ed6f",
   "metadata": {
    "execution": {
     "iopub.execute_input": "2023-03-03T06:28:23.926324Z",
     "iopub.status.busy": "2023-03-03T06:28:23.925569Z",
     "iopub.status.idle": "2023-03-03T06:28:23.949548Z",
     "shell.execute_reply": "2023-03-03T06:28:23.947749Z"
    },
    "papermill": {
     "duration": 0.053601,
     "end_time": "2023-03-03T06:28:23.954976",
     "exception": false,
     "start_time": "2023-03-03T06:28:23.901375",
     "status": "completed"
    },
    "tags": []
   },
   "outputs": [
    {
     "data": {
      "text/plain": [
       "22.557793434629602"
      ]
     },
     "execution_count": 20,
     "metadata": {},
     "output_type": "execute_result"
    }
   ],
   "source": [
    "from sklearn.metrics import r2_score\n",
    "ac=r2_score(y_test,y_pred)*100\n",
    "ac"
   ]
  },
  {
   "cell_type": "code",
   "execution_count": 21,
   "id": "6fc5c51e",
   "metadata": {
    "execution": {
     "iopub.execute_input": "2023-03-03T06:28:23.995014Z",
     "iopub.status.busy": "2023-03-03T06:28:23.994627Z",
     "iopub.status.idle": "2023-03-03T06:28:25.065222Z",
     "shell.execute_reply": "2023-03-03T06:28:25.063800Z"
    },
    "papermill": {
     "duration": 1.092402,
     "end_time": "2023-03-03T06:28:25.068165",
     "exception": false,
     "start_time": "2023-03-03T06:28:23.975763",
     "status": "completed"
    },
    "tags": []
   },
   "outputs": [
    {
     "data": {
      "text/html": [
       "<a href='Crop_data.csv' target='_blank'>Crop_data.csv</a><br>"
      ],
      "text/plain": [
       "/kaggle/working/Crop_data.csv"
      ]
     },
     "execution_count": 21,
     "metadata": {},
     "output_type": "execute_result"
    }
   ],
   "source": [
    "import os \n",
    "dataset.to_csv(r'Crop_data.csv',index=False)\n",
    "from IPython.display import FileLink\n",
    "FileLink(r'Crop_data.csv')"
   ]
  },
  {
   "cell_type": "code",
   "execution_count": null,
   "id": "720f70ff",
   "metadata": {
    "papermill": {
     "duration": 0.007691,
     "end_time": "2023-03-03T06:28:25.083712",
     "exception": false,
     "start_time": "2023-03-03T06:28:25.076021",
     "status": "completed"
    },
    "tags": []
   },
   "outputs": [],
   "source": []
  }
 ],
 "metadata": {
  "kernelspec": {
   "display_name": "Python 3",
   "language": "python",
   "name": "python3"
  },
  "language_info": {
   "codemirror_mode": {
    "name": "ipython",
    "version": 3
   },
   "file_extension": ".py",
   "mimetype": "text/x-python",
   "name": "python",
   "nbconvert_exporter": "python",
   "pygments_lexer": "ipython3",
   "version": "3.7.12"
  },
  "papermill": {
   "default_parameters": {},
   "duration": 15.759403,
   "end_time": "2023-03-03T06:28:25.814088",
   "environment_variables": {},
   "exception": null,
   "input_path": "__notebook__.ipynb",
   "output_path": "__notebook__.ipynb",
   "parameters": {},
   "start_time": "2023-03-03T06:28:10.054685",
   "version": "2.4.0"
  }
 },
 "nbformat": 4,
 "nbformat_minor": 5
}
