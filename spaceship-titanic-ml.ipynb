{
 "cells": [
  {
   "cell_type": "code",
   "execution_count": 1,
   "id": "7de6d1ca",
   "metadata": {
    "_cell_guid": "b1076dfc-b9ad-4769-8c92-a6c4dae69d19",
    "_uuid": "8f2839f25d086af736a60e9eeb907d3b93b6e0e5",
    "execution": {
     "iopub.execute_input": "2023-03-06T11:30:52.718138Z",
     "iopub.status.busy": "2023-03-06T11:30:52.716843Z",
     "iopub.status.idle": "2023-03-06T11:30:52.734123Z",
     "shell.execute_reply": "2023-03-06T11:30:52.732623Z"
    },
    "papermill": {
     "duration": 0.034189,
     "end_time": "2023-03-06T11:30:52.736939",
     "exception": false,
     "start_time": "2023-03-06T11:30:52.702750",
     "status": "completed"
    },
    "tags": []
   },
   "outputs": [
    {
     "name": "stdout",
     "output_type": "stream",
     "text": [
      "/kaggle/input/spaceship-titanic/sample_submission.csv\n",
      "/kaggle/input/spaceship-titanic/train.csv\n",
      "/kaggle/input/spaceship-titanic/test.csv\n"
     ]
    }
   ],
   "source": [
    "# This Python 3 environment comes with many helpful analytics libraries installed\n",
    "# It is defined by the kaggle/python Docker image: https://github.com/kaggle/docker-python\n",
    "# For example, here's several helpful packages to load\n",
    "\n",
    "import numpy as np # linear algebra\n",
    "import pandas as pd # data processing, CSV file I/O (e.g. pd.read_csv)\n",
    "\n",
    "# Input data files are available in the read-only \"../input/\" directory\n",
    "# For example, running this (by clicking run or pressing Shift+Enter) will list all files under the input directory\n",
    "\n",
    "import os\n",
    "for dirname, _, filenames in os.walk('/kaggle/input'):\n",
    "    for filename in filenames:\n",
    "        print(os.path.join(dirname, filename))\n",
    "\n",
    "# You can write up to 20GB to the current directory (/kaggle/working/) that gets preserved as output when you create a version using \"Save & Run All\" \n",
    "# You can also write temporary files to /kaggle/temp/, but they won't be saved outside of the current session"
   ]
  },
  {
   "cell_type": "markdown",
   "id": "77fc6f01",
   "metadata": {
    "papermill": {
     "duration": 0.010381,
     "end_time": "2023-03-06T11:30:52.758834",
     "exception": false,
     "start_time": "2023-03-06T11:30:52.748453",
     "status": "completed"
    },
    "tags": []
   },
   "source": [
    "# Import Libaries"
   ]
  },
  {
   "cell_type": "code",
   "execution_count": 2,
   "id": "a144f7c2",
   "metadata": {
    "execution": {
     "iopub.execute_input": "2023-03-06T11:30:52.783823Z",
     "iopub.status.busy": "2023-03-06T11:30:52.783321Z",
     "iopub.status.idle": "2023-03-06T11:30:52.788340Z",
     "shell.execute_reply": "2023-03-06T11:30:52.787268Z"
    },
    "papermill": {
     "duration": 0.02054,
     "end_time": "2023-03-06T11:30:52.790748",
     "exception": false,
     "start_time": "2023-03-06T11:30:52.770208",
     "status": "completed"
    },
    "tags": []
   },
   "outputs": [],
   "source": [
    "import pandas as pd\n",
    "import numpy as np"
   ]
  },
  {
   "cell_type": "markdown",
   "id": "93a831aa",
   "metadata": {
    "papermill": {
     "duration": 0.013048,
     "end_time": "2023-03-06T11:30:52.814524",
     "exception": false,
     "start_time": "2023-03-06T11:30:52.801476",
     "status": "completed"
    },
    "tags": []
   },
   "source": [
    "# Load Train dataset"
   ]
  },
  {
   "cell_type": "code",
   "execution_count": 3,
   "id": "948f682b",
   "metadata": {
    "execution": {
     "iopub.execute_input": "2023-03-06T11:30:52.838988Z",
     "iopub.status.busy": "2023-03-06T11:30:52.838526Z",
     "iopub.status.idle": "2023-03-06T11:30:52.946701Z",
     "shell.execute_reply": "2023-03-06T11:30:52.945362Z"
    },
    "papermill": {
     "duration": 0.123749,
     "end_time": "2023-03-06T11:30:52.949289",
     "exception": false,
     "start_time": "2023-03-06T11:30:52.825540",
     "status": "completed"
    },
    "tags": []
   },
   "outputs": [
    {
     "data": {
      "text/html": [
       "<div>\n",
       "<style scoped>\n",
       "    .dataframe tbody tr th:only-of-type {\n",
       "        vertical-align: middle;\n",
       "    }\n",
       "\n",
       "    .dataframe tbody tr th {\n",
       "        vertical-align: top;\n",
       "    }\n",
       "\n",
       "    .dataframe thead th {\n",
       "        text-align: right;\n",
       "    }\n",
       "</style>\n",
       "<table border=\"1\" class=\"dataframe\">\n",
       "  <thead>\n",
       "    <tr style=\"text-align: right;\">\n",
       "      <th></th>\n",
       "      <th>PassengerId</th>\n",
       "      <th>HomePlanet</th>\n",
       "      <th>CryoSleep</th>\n",
       "      <th>Cabin</th>\n",
       "      <th>Destination</th>\n",
       "      <th>Age</th>\n",
       "      <th>VIP</th>\n",
       "      <th>RoomService</th>\n",
       "      <th>FoodCourt</th>\n",
       "      <th>ShoppingMall</th>\n",
       "      <th>Spa</th>\n",
       "      <th>VRDeck</th>\n",
       "      <th>Name</th>\n",
       "      <th>Transported</th>\n",
       "    </tr>\n",
       "  </thead>\n",
       "  <tbody>\n",
       "    <tr>\n",
       "      <th>0</th>\n",
       "      <td>0001_01</td>\n",
       "      <td>Europa</td>\n",
       "      <td>False</td>\n",
       "      <td>B/0/P</td>\n",
       "      <td>TRAPPIST-1e</td>\n",
       "      <td>39.0</td>\n",
       "      <td>False</td>\n",
       "      <td>0.0</td>\n",
       "      <td>0.0</td>\n",
       "      <td>0.0</td>\n",
       "      <td>0.0</td>\n",
       "      <td>0.0</td>\n",
       "      <td>Maham Ofracculy</td>\n",
       "      <td>False</td>\n",
       "    </tr>\n",
       "    <tr>\n",
       "      <th>1</th>\n",
       "      <td>0002_01</td>\n",
       "      <td>Earth</td>\n",
       "      <td>False</td>\n",
       "      <td>F/0/S</td>\n",
       "      <td>TRAPPIST-1e</td>\n",
       "      <td>24.0</td>\n",
       "      <td>False</td>\n",
       "      <td>109.0</td>\n",
       "      <td>9.0</td>\n",
       "      <td>25.0</td>\n",
       "      <td>549.0</td>\n",
       "      <td>44.0</td>\n",
       "      <td>Juanna Vines</td>\n",
       "      <td>True</td>\n",
       "    </tr>\n",
       "    <tr>\n",
       "      <th>2</th>\n",
       "      <td>0003_01</td>\n",
       "      <td>Europa</td>\n",
       "      <td>False</td>\n",
       "      <td>A/0/S</td>\n",
       "      <td>TRAPPIST-1e</td>\n",
       "      <td>58.0</td>\n",
       "      <td>True</td>\n",
       "      <td>43.0</td>\n",
       "      <td>3576.0</td>\n",
       "      <td>0.0</td>\n",
       "      <td>6715.0</td>\n",
       "      <td>49.0</td>\n",
       "      <td>Altark Susent</td>\n",
       "      <td>False</td>\n",
       "    </tr>\n",
       "    <tr>\n",
       "      <th>3</th>\n",
       "      <td>0003_02</td>\n",
       "      <td>Europa</td>\n",
       "      <td>False</td>\n",
       "      <td>A/0/S</td>\n",
       "      <td>TRAPPIST-1e</td>\n",
       "      <td>33.0</td>\n",
       "      <td>False</td>\n",
       "      <td>0.0</td>\n",
       "      <td>1283.0</td>\n",
       "      <td>371.0</td>\n",
       "      <td>3329.0</td>\n",
       "      <td>193.0</td>\n",
       "      <td>Solam Susent</td>\n",
       "      <td>False</td>\n",
       "    </tr>\n",
       "    <tr>\n",
       "      <th>4</th>\n",
       "      <td>0004_01</td>\n",
       "      <td>Earth</td>\n",
       "      <td>False</td>\n",
       "      <td>F/1/S</td>\n",
       "      <td>TRAPPIST-1e</td>\n",
       "      <td>16.0</td>\n",
       "      <td>False</td>\n",
       "      <td>303.0</td>\n",
       "      <td>70.0</td>\n",
       "      <td>151.0</td>\n",
       "      <td>565.0</td>\n",
       "      <td>2.0</td>\n",
       "      <td>Willy Santantines</td>\n",
       "      <td>True</td>\n",
       "    </tr>\n",
       "    <tr>\n",
       "      <th>...</th>\n",
       "      <td>...</td>\n",
       "      <td>...</td>\n",
       "      <td>...</td>\n",
       "      <td>...</td>\n",
       "      <td>...</td>\n",
       "      <td>...</td>\n",
       "      <td>...</td>\n",
       "      <td>...</td>\n",
       "      <td>...</td>\n",
       "      <td>...</td>\n",
       "      <td>...</td>\n",
       "      <td>...</td>\n",
       "      <td>...</td>\n",
       "      <td>...</td>\n",
       "    </tr>\n",
       "    <tr>\n",
       "      <th>8688</th>\n",
       "      <td>9276_01</td>\n",
       "      <td>Europa</td>\n",
       "      <td>False</td>\n",
       "      <td>A/98/P</td>\n",
       "      <td>55 Cancri e</td>\n",
       "      <td>41.0</td>\n",
       "      <td>True</td>\n",
       "      <td>0.0</td>\n",
       "      <td>6819.0</td>\n",
       "      <td>0.0</td>\n",
       "      <td>1643.0</td>\n",
       "      <td>74.0</td>\n",
       "      <td>Gravior Noxnuther</td>\n",
       "      <td>False</td>\n",
       "    </tr>\n",
       "    <tr>\n",
       "      <th>8689</th>\n",
       "      <td>9278_01</td>\n",
       "      <td>Earth</td>\n",
       "      <td>True</td>\n",
       "      <td>G/1499/S</td>\n",
       "      <td>PSO J318.5-22</td>\n",
       "      <td>18.0</td>\n",
       "      <td>False</td>\n",
       "      <td>0.0</td>\n",
       "      <td>0.0</td>\n",
       "      <td>0.0</td>\n",
       "      <td>0.0</td>\n",
       "      <td>0.0</td>\n",
       "      <td>Kurta Mondalley</td>\n",
       "      <td>False</td>\n",
       "    </tr>\n",
       "    <tr>\n",
       "      <th>8690</th>\n",
       "      <td>9279_01</td>\n",
       "      <td>Earth</td>\n",
       "      <td>False</td>\n",
       "      <td>G/1500/S</td>\n",
       "      <td>TRAPPIST-1e</td>\n",
       "      <td>26.0</td>\n",
       "      <td>False</td>\n",
       "      <td>0.0</td>\n",
       "      <td>0.0</td>\n",
       "      <td>1872.0</td>\n",
       "      <td>1.0</td>\n",
       "      <td>0.0</td>\n",
       "      <td>Fayey Connon</td>\n",
       "      <td>True</td>\n",
       "    </tr>\n",
       "    <tr>\n",
       "      <th>8691</th>\n",
       "      <td>9280_01</td>\n",
       "      <td>Europa</td>\n",
       "      <td>False</td>\n",
       "      <td>E/608/S</td>\n",
       "      <td>55 Cancri e</td>\n",
       "      <td>32.0</td>\n",
       "      <td>False</td>\n",
       "      <td>0.0</td>\n",
       "      <td>1049.0</td>\n",
       "      <td>0.0</td>\n",
       "      <td>353.0</td>\n",
       "      <td>3235.0</td>\n",
       "      <td>Celeon Hontichre</td>\n",
       "      <td>False</td>\n",
       "    </tr>\n",
       "    <tr>\n",
       "      <th>8692</th>\n",
       "      <td>9280_02</td>\n",
       "      <td>Europa</td>\n",
       "      <td>False</td>\n",
       "      <td>E/608/S</td>\n",
       "      <td>TRAPPIST-1e</td>\n",
       "      <td>44.0</td>\n",
       "      <td>False</td>\n",
       "      <td>126.0</td>\n",
       "      <td>4688.0</td>\n",
       "      <td>0.0</td>\n",
       "      <td>0.0</td>\n",
       "      <td>12.0</td>\n",
       "      <td>Propsh Hontichre</td>\n",
       "      <td>True</td>\n",
       "    </tr>\n",
       "  </tbody>\n",
       "</table>\n",
       "<p>8693 rows × 14 columns</p>\n",
       "</div>"
      ],
      "text/plain": [
       "     PassengerId HomePlanet CryoSleep     Cabin    Destination   Age    VIP  \\\n",
       "0        0001_01     Europa     False     B/0/P    TRAPPIST-1e  39.0  False   \n",
       "1        0002_01      Earth     False     F/0/S    TRAPPIST-1e  24.0  False   \n",
       "2        0003_01     Europa     False     A/0/S    TRAPPIST-1e  58.0   True   \n",
       "3        0003_02     Europa     False     A/0/S    TRAPPIST-1e  33.0  False   \n",
       "4        0004_01      Earth     False     F/1/S    TRAPPIST-1e  16.0  False   \n",
       "...          ...        ...       ...       ...            ...   ...    ...   \n",
       "8688     9276_01     Europa     False    A/98/P    55 Cancri e  41.0   True   \n",
       "8689     9278_01      Earth      True  G/1499/S  PSO J318.5-22  18.0  False   \n",
       "8690     9279_01      Earth     False  G/1500/S    TRAPPIST-1e  26.0  False   \n",
       "8691     9280_01     Europa     False   E/608/S    55 Cancri e  32.0  False   \n",
       "8692     9280_02     Europa     False   E/608/S    TRAPPIST-1e  44.0  False   \n",
       "\n",
       "      RoomService  FoodCourt  ShoppingMall     Spa  VRDeck               Name  \\\n",
       "0             0.0        0.0           0.0     0.0     0.0    Maham Ofracculy   \n",
       "1           109.0        9.0          25.0   549.0    44.0       Juanna Vines   \n",
       "2            43.0     3576.0           0.0  6715.0    49.0      Altark Susent   \n",
       "3             0.0     1283.0         371.0  3329.0   193.0       Solam Susent   \n",
       "4           303.0       70.0         151.0   565.0     2.0  Willy Santantines   \n",
       "...           ...        ...           ...     ...     ...                ...   \n",
       "8688          0.0     6819.0           0.0  1643.0    74.0  Gravior Noxnuther   \n",
       "8689          0.0        0.0           0.0     0.0     0.0    Kurta Mondalley   \n",
       "8690          0.0        0.0        1872.0     1.0     0.0       Fayey Connon   \n",
       "8691          0.0     1049.0           0.0   353.0  3235.0   Celeon Hontichre   \n",
       "8692        126.0     4688.0           0.0     0.0    12.0   Propsh Hontichre   \n",
       "\n",
       "      Transported  \n",
       "0           False  \n",
       "1            True  \n",
       "2           False  \n",
       "3           False  \n",
       "4            True  \n",
       "...           ...  \n",
       "8688        False  \n",
       "8689        False  \n",
       "8690         True  \n",
       "8691        False  \n",
       "8692         True  \n",
       "\n",
       "[8693 rows x 14 columns]"
      ]
     },
     "execution_count": 3,
     "metadata": {},
     "output_type": "execute_result"
    }
   ],
   "source": [
    "dataset=pd.read_csv(\"/kaggle/input/spaceship-titanic/train.csv\")\n",
    "dataset"
   ]
  },
  {
   "cell_type": "code",
   "execution_count": 4,
   "id": "afcaaf59",
   "metadata": {
    "execution": {
     "iopub.execute_input": "2023-03-06T11:30:52.976390Z",
     "iopub.status.busy": "2023-03-06T11:30:52.974971Z",
     "iopub.status.idle": "2023-03-06T11:30:53.006563Z",
     "shell.execute_reply": "2023-03-06T11:30:53.004329Z"
    },
    "papermill": {
     "duration": 0.049669,
     "end_time": "2023-03-06T11:30:53.010580",
     "exception": false,
     "start_time": "2023-03-06T11:30:52.960911",
     "status": "completed"
    },
    "tags": []
   },
   "outputs": [
    {
     "name": "stdout",
     "output_type": "stream",
     "text": [
      "<class 'pandas.core.frame.DataFrame'>\n",
      "RangeIndex: 8693 entries, 0 to 8692\n",
      "Data columns (total 14 columns):\n",
      " #   Column        Non-Null Count  Dtype  \n",
      "---  ------        --------------  -----  \n",
      " 0   PassengerId   8693 non-null   object \n",
      " 1   HomePlanet    8492 non-null   object \n",
      " 2   CryoSleep     8476 non-null   object \n",
      " 3   Cabin         8494 non-null   object \n",
      " 4   Destination   8511 non-null   object \n",
      " 5   Age           8514 non-null   float64\n",
      " 6   VIP           8490 non-null   object \n",
      " 7   RoomService   8512 non-null   float64\n",
      " 8   FoodCourt     8510 non-null   float64\n",
      " 9   ShoppingMall  8485 non-null   float64\n",
      " 10  Spa           8510 non-null   float64\n",
      " 11  VRDeck        8505 non-null   float64\n",
      " 12  Name          8493 non-null   object \n",
      " 13  Transported   8693 non-null   bool   \n",
      "dtypes: bool(1), float64(6), object(7)\n",
      "memory usage: 891.5+ KB\n"
     ]
    }
   ],
   "source": [
    "dataset.info()"
   ]
  },
  {
   "cell_type": "code",
   "execution_count": 5,
   "id": "ce9df76b",
   "metadata": {
    "execution": {
     "iopub.execute_input": "2023-03-06T11:30:53.037565Z",
     "iopub.status.busy": "2023-03-06T11:30:53.037057Z",
     "iopub.status.idle": "2023-03-06T11:30:53.051901Z",
     "shell.execute_reply": "2023-03-06T11:30:53.050319Z"
    },
    "papermill": {
     "duration": 0.032458,
     "end_time": "2023-03-06T11:30:53.055656",
     "exception": false,
     "start_time": "2023-03-06T11:30:53.023198",
     "status": "completed"
    },
    "tags": []
   },
   "outputs": [
    {
     "data": {
      "text/plain": [
       "PassengerId       0\n",
       "HomePlanet      201\n",
       "CryoSleep       217\n",
       "Cabin           199\n",
       "Destination     182\n",
       "Age             179\n",
       "VIP             203\n",
       "RoomService     181\n",
       "FoodCourt       183\n",
       "ShoppingMall    208\n",
       "Spa             183\n",
       "VRDeck          188\n",
       "Name            200\n",
       "Transported       0\n",
       "dtype: int64"
      ]
     },
     "execution_count": 5,
     "metadata": {},
     "output_type": "execute_result"
    }
   ],
   "source": [
    "dataset.isnull().sum()"
   ]
  },
  {
   "cell_type": "markdown",
   "id": "b7578c58",
   "metadata": {
    "papermill": {
     "duration": 0.010983,
     "end_time": "2023-03-06T11:30:53.077959",
     "exception": false,
     "start_time": "2023-03-06T11:30:53.066976",
     "status": "completed"
    },
    "tags": []
   },
   "source": [
    "# Slicing Train dataset"
   ]
  },
  {
   "cell_type": "code",
   "execution_count": 6,
   "id": "81cad90d",
   "metadata": {
    "execution": {
     "iopub.execute_input": "2023-03-06T11:30:53.103519Z",
     "iopub.status.busy": "2023-03-06T11:30:53.102284Z",
     "iopub.status.idle": "2023-03-06T11:30:53.138701Z",
     "shell.execute_reply": "2023-03-06T11:30:53.136618Z"
    },
    "papermill": {
     "duration": 0.052944,
     "end_time": "2023-03-06T11:30:53.142396",
     "exception": false,
     "start_time": "2023-03-06T11:30:53.089452",
     "status": "completed"
    },
    "tags": []
   },
   "outputs": [
    {
     "data": {
      "text/html": [
       "<div>\n",
       "<style scoped>\n",
       "    .dataframe tbody tr th:only-of-type {\n",
       "        vertical-align: middle;\n",
       "    }\n",
       "\n",
       "    .dataframe tbody tr th {\n",
       "        vertical-align: top;\n",
       "    }\n",
       "\n",
       "    .dataframe thead th {\n",
       "        text-align: right;\n",
       "    }\n",
       "</style>\n",
       "<table border=\"1\" class=\"dataframe\">\n",
       "  <thead>\n",
       "    <tr style=\"text-align: right;\">\n",
       "      <th></th>\n",
       "      <th>PassengerId</th>\n",
       "      <th>HomePlanet</th>\n",
       "      <th>CryoSleep</th>\n",
       "      <th>Cabin</th>\n",
       "      <th>Destination</th>\n",
       "      <th>Age</th>\n",
       "      <th>VIP</th>\n",
       "      <th>RoomService</th>\n",
       "      <th>FoodCourt</th>\n",
       "      <th>ShoppingMall</th>\n",
       "      <th>Spa</th>\n",
       "      <th>VRDeck</th>\n",
       "      <th>Name</th>\n",
       "    </tr>\n",
       "  </thead>\n",
       "  <tbody>\n",
       "    <tr>\n",
       "      <th>0</th>\n",
       "      <td>0001_01</td>\n",
       "      <td>Europa</td>\n",
       "      <td>False</td>\n",
       "      <td>B/0/P</td>\n",
       "      <td>TRAPPIST-1e</td>\n",
       "      <td>39.0</td>\n",
       "      <td>False</td>\n",
       "      <td>0.0</td>\n",
       "      <td>0.0</td>\n",
       "      <td>0.0</td>\n",
       "      <td>0.0</td>\n",
       "      <td>0.0</td>\n",
       "      <td>Maham Ofracculy</td>\n",
       "    </tr>\n",
       "    <tr>\n",
       "      <th>1</th>\n",
       "      <td>0002_01</td>\n",
       "      <td>Earth</td>\n",
       "      <td>False</td>\n",
       "      <td>F/0/S</td>\n",
       "      <td>TRAPPIST-1e</td>\n",
       "      <td>24.0</td>\n",
       "      <td>False</td>\n",
       "      <td>109.0</td>\n",
       "      <td>9.0</td>\n",
       "      <td>25.0</td>\n",
       "      <td>549.0</td>\n",
       "      <td>44.0</td>\n",
       "      <td>Juanna Vines</td>\n",
       "    </tr>\n",
       "    <tr>\n",
       "      <th>2</th>\n",
       "      <td>0003_01</td>\n",
       "      <td>Europa</td>\n",
       "      <td>False</td>\n",
       "      <td>A/0/S</td>\n",
       "      <td>TRAPPIST-1e</td>\n",
       "      <td>58.0</td>\n",
       "      <td>True</td>\n",
       "      <td>43.0</td>\n",
       "      <td>3576.0</td>\n",
       "      <td>0.0</td>\n",
       "      <td>6715.0</td>\n",
       "      <td>49.0</td>\n",
       "      <td>Altark Susent</td>\n",
       "    </tr>\n",
       "    <tr>\n",
       "      <th>3</th>\n",
       "      <td>0003_02</td>\n",
       "      <td>Europa</td>\n",
       "      <td>False</td>\n",
       "      <td>A/0/S</td>\n",
       "      <td>TRAPPIST-1e</td>\n",
       "      <td>33.0</td>\n",
       "      <td>False</td>\n",
       "      <td>0.0</td>\n",
       "      <td>1283.0</td>\n",
       "      <td>371.0</td>\n",
       "      <td>3329.0</td>\n",
       "      <td>193.0</td>\n",
       "      <td>Solam Susent</td>\n",
       "    </tr>\n",
       "    <tr>\n",
       "      <th>4</th>\n",
       "      <td>0004_01</td>\n",
       "      <td>Earth</td>\n",
       "      <td>False</td>\n",
       "      <td>F/1/S</td>\n",
       "      <td>TRAPPIST-1e</td>\n",
       "      <td>16.0</td>\n",
       "      <td>False</td>\n",
       "      <td>303.0</td>\n",
       "      <td>70.0</td>\n",
       "      <td>151.0</td>\n",
       "      <td>565.0</td>\n",
       "      <td>2.0</td>\n",
       "      <td>Willy Santantines</td>\n",
       "    </tr>\n",
       "    <tr>\n",
       "      <th>...</th>\n",
       "      <td>...</td>\n",
       "      <td>...</td>\n",
       "      <td>...</td>\n",
       "      <td>...</td>\n",
       "      <td>...</td>\n",
       "      <td>...</td>\n",
       "      <td>...</td>\n",
       "      <td>...</td>\n",
       "      <td>...</td>\n",
       "      <td>...</td>\n",
       "      <td>...</td>\n",
       "      <td>...</td>\n",
       "      <td>...</td>\n",
       "    </tr>\n",
       "    <tr>\n",
       "      <th>8688</th>\n",
       "      <td>9276_01</td>\n",
       "      <td>Europa</td>\n",
       "      <td>False</td>\n",
       "      <td>A/98/P</td>\n",
       "      <td>55 Cancri e</td>\n",
       "      <td>41.0</td>\n",
       "      <td>True</td>\n",
       "      <td>0.0</td>\n",
       "      <td>6819.0</td>\n",
       "      <td>0.0</td>\n",
       "      <td>1643.0</td>\n",
       "      <td>74.0</td>\n",
       "      <td>Gravior Noxnuther</td>\n",
       "    </tr>\n",
       "    <tr>\n",
       "      <th>8689</th>\n",
       "      <td>9278_01</td>\n",
       "      <td>Earth</td>\n",
       "      <td>True</td>\n",
       "      <td>G/1499/S</td>\n",
       "      <td>PSO J318.5-22</td>\n",
       "      <td>18.0</td>\n",
       "      <td>False</td>\n",
       "      <td>0.0</td>\n",
       "      <td>0.0</td>\n",
       "      <td>0.0</td>\n",
       "      <td>0.0</td>\n",
       "      <td>0.0</td>\n",
       "      <td>Kurta Mondalley</td>\n",
       "    </tr>\n",
       "    <tr>\n",
       "      <th>8690</th>\n",
       "      <td>9279_01</td>\n",
       "      <td>Earth</td>\n",
       "      <td>False</td>\n",
       "      <td>G/1500/S</td>\n",
       "      <td>TRAPPIST-1e</td>\n",
       "      <td>26.0</td>\n",
       "      <td>False</td>\n",
       "      <td>0.0</td>\n",
       "      <td>0.0</td>\n",
       "      <td>1872.0</td>\n",
       "      <td>1.0</td>\n",
       "      <td>0.0</td>\n",
       "      <td>Fayey Connon</td>\n",
       "    </tr>\n",
       "    <tr>\n",
       "      <th>8691</th>\n",
       "      <td>9280_01</td>\n",
       "      <td>Europa</td>\n",
       "      <td>False</td>\n",
       "      <td>E/608/S</td>\n",
       "      <td>55 Cancri e</td>\n",
       "      <td>32.0</td>\n",
       "      <td>False</td>\n",
       "      <td>0.0</td>\n",
       "      <td>1049.0</td>\n",
       "      <td>0.0</td>\n",
       "      <td>353.0</td>\n",
       "      <td>3235.0</td>\n",
       "      <td>Celeon Hontichre</td>\n",
       "    </tr>\n",
       "    <tr>\n",
       "      <th>8692</th>\n",
       "      <td>9280_02</td>\n",
       "      <td>Europa</td>\n",
       "      <td>False</td>\n",
       "      <td>E/608/S</td>\n",
       "      <td>TRAPPIST-1e</td>\n",
       "      <td>44.0</td>\n",
       "      <td>False</td>\n",
       "      <td>126.0</td>\n",
       "      <td>4688.0</td>\n",
       "      <td>0.0</td>\n",
       "      <td>0.0</td>\n",
       "      <td>12.0</td>\n",
       "      <td>Propsh Hontichre</td>\n",
       "    </tr>\n",
       "  </tbody>\n",
       "</table>\n",
       "<p>8693 rows × 13 columns</p>\n",
       "</div>"
      ],
      "text/plain": [
       "     PassengerId HomePlanet CryoSleep     Cabin    Destination   Age    VIP  \\\n",
       "0        0001_01     Europa     False     B/0/P    TRAPPIST-1e  39.0  False   \n",
       "1        0002_01      Earth     False     F/0/S    TRAPPIST-1e  24.0  False   \n",
       "2        0003_01     Europa     False     A/0/S    TRAPPIST-1e  58.0   True   \n",
       "3        0003_02     Europa     False     A/0/S    TRAPPIST-1e  33.0  False   \n",
       "4        0004_01      Earth     False     F/1/S    TRAPPIST-1e  16.0  False   \n",
       "...          ...        ...       ...       ...            ...   ...    ...   \n",
       "8688     9276_01     Europa     False    A/98/P    55 Cancri e  41.0   True   \n",
       "8689     9278_01      Earth      True  G/1499/S  PSO J318.5-22  18.0  False   \n",
       "8690     9279_01      Earth     False  G/1500/S    TRAPPIST-1e  26.0  False   \n",
       "8691     9280_01     Europa     False   E/608/S    55 Cancri e  32.0  False   \n",
       "8692     9280_02     Europa     False   E/608/S    TRAPPIST-1e  44.0  False   \n",
       "\n",
       "      RoomService  FoodCourt  ShoppingMall     Spa  VRDeck               Name  \n",
       "0             0.0        0.0           0.0     0.0     0.0    Maham Ofracculy  \n",
       "1           109.0        9.0          25.0   549.0    44.0       Juanna Vines  \n",
       "2            43.0     3576.0           0.0  6715.0    49.0      Altark Susent  \n",
       "3             0.0     1283.0         371.0  3329.0   193.0       Solam Susent  \n",
       "4           303.0       70.0         151.0   565.0     2.0  Willy Santantines  \n",
       "...           ...        ...           ...     ...     ...                ...  \n",
       "8688          0.0     6819.0           0.0  1643.0    74.0  Gravior Noxnuther  \n",
       "8689          0.0        0.0           0.0     0.0     0.0    Kurta Mondalley  \n",
       "8690          0.0        0.0        1872.0     1.0     0.0       Fayey Connon  \n",
       "8691          0.0     1049.0           0.0   353.0  3235.0   Celeon Hontichre  \n",
       "8692        126.0     4688.0           0.0     0.0    12.0   Propsh Hontichre  \n",
       "\n",
       "[8693 rows x 13 columns]"
      ]
     },
     "execution_count": 6,
     "metadata": {},
     "output_type": "execute_result"
    }
   ],
   "source": [
    "x=dataset.iloc[:,:-1]\n",
    "x"
   ]
  },
  {
   "cell_type": "markdown",
   "id": "a9d87f83",
   "metadata": {
    "papermill": {
     "duration": 0.011447,
     "end_time": "2023-03-06T11:30:53.166220",
     "exception": false,
     "start_time": "2023-03-06T11:30:53.154773",
     "status": "completed"
    },
    "tags": []
   },
   "source": [
    "# Converting string data"
   ]
  },
  {
   "cell_type": "code",
   "execution_count": 7,
   "id": "d2cbc852",
   "metadata": {
    "execution": {
     "iopub.execute_input": "2023-03-06T11:30:53.192556Z",
     "iopub.status.busy": "2023-03-06T11:30:53.191608Z",
     "iopub.status.idle": "2023-03-06T11:30:54.518368Z",
     "shell.execute_reply": "2023-03-06T11:30:54.517002Z"
    },
    "papermill": {
     "duration": 1.34354,
     "end_time": "2023-03-06T11:30:54.521786",
     "exception": false,
     "start_time": "2023-03-06T11:30:53.178246",
     "status": "completed"
    },
    "tags": []
   },
   "outputs": [],
   "source": [
    "from sklearn.preprocessing import LabelEncoder\n",
    "l1=LabelEncoder()"
   ]
  },
  {
   "cell_type": "code",
   "execution_count": 8,
   "id": "83027532",
   "metadata": {
    "execution": {
     "iopub.execute_input": "2023-03-06T11:30:54.548771Z",
     "iopub.status.busy": "2023-03-06T11:30:54.548261Z",
     "iopub.status.idle": "2023-03-06T11:30:54.668848Z",
     "shell.execute_reply": "2023-03-06T11:30:54.666841Z"
    },
    "papermill": {
     "duration": 0.137482,
     "end_time": "2023-03-06T11:30:54.671597",
     "exception": false,
     "start_time": "2023-03-06T11:30:54.534115",
     "status": "completed"
    },
    "tags": []
   },
   "outputs": [
    {
     "name": "stdout",
     "output_type": "stream",
     "text": [
      "      PassengerId  HomePlanet  CryoSleep  Cabin  Destination   Age  VIP  \\\n",
      "0               0           1          0    149            2  39.0    0   \n",
      "1               1           0          0   2184            2  24.0    0   \n",
      "2               2           1          0      1            2  58.0    1   \n",
      "3               3           1          0      1            2  33.0    0   \n",
      "4               4           0          0   2186            2  16.0    0   \n",
      "...           ...         ...        ...    ...          ...   ...  ...   \n",
      "8688         8688           1          0    146            0  41.0    1   \n",
      "8689         8689           0          1   5280            1  18.0    0   \n",
      "8690         8690           0          0   5285            2  26.0    0   \n",
      "8691         8691           1          0   2131            0  32.0    0   \n",
      "8692         8692           1          0   2131            2  44.0    0   \n",
      "\n",
      "      RoomService  FoodCourt  ShoppingMall     Spa  VRDeck  Name  Transported  \n",
      "0             0.0        0.0           0.0     0.0     0.0  5252        False  \n",
      "1           109.0        9.0          25.0   549.0    44.0  4502         True  \n",
      "2            43.0     3576.0           0.0  6715.0    49.0   457        False  \n",
      "3             0.0     1283.0         371.0  3329.0   193.0  7149        False  \n",
      "4           303.0       70.0         151.0   565.0     2.0  8319         True  \n",
      "...           ...        ...           ...     ...     ...   ...          ...  \n",
      "8688          0.0     6819.0           0.0  1643.0    74.0  3524        False  \n",
      "8689          0.0        0.0           0.0     0.0     0.0  4780        False  \n",
      "8690          0.0        0.0        1872.0     1.0     0.0  3002         True  \n",
      "8691          0.0     1049.0           0.0   353.0  3235.0  1596        False  \n",
      "8692        126.0     4688.0           0.0     0.0    12.0  6380         True  \n",
      "\n",
      "[8693 rows x 14 columns]\n"
     ]
    }
   ],
   "source": [
    "for D1 in dataset.columns:\n",
    "    if dataset[D1].dtype == object:\n",
    "        dataset[D1] = dataset[D1].astype(str)\n",
    "        X1=dataset[D1].unique()\n",
    "        X2=X1[-2]\n",
    "        \n",
    "        dataset[D1]=dataset[D1].fillna(X2)\n",
    "        dataset[D1]=l1.fit_transform(dataset[D1])\n",
    "    elif dataset[D1].dtype == float or dataset[D1].dtype == int:\n",
    "        m1=dataset[D1].mean()\n",
    "        m1=round(m1)\n",
    "        dataset[D1]=dataset[D1].fillna(m1)\n",
    "        \n",
    "print(dataset)"
   ]
  },
  {
   "cell_type": "code",
   "execution_count": 9,
   "id": "ef785e16",
   "metadata": {
    "execution": {
     "iopub.execute_input": "2023-03-06T11:30:54.698255Z",
     "iopub.status.busy": "2023-03-06T11:30:54.697770Z",
     "iopub.status.idle": "2023-03-06T11:30:54.704552Z",
     "shell.execute_reply": "2023-03-06T11:30:54.703172Z"
    },
    "papermill": {
     "duration": 0.023301,
     "end_time": "2023-03-06T11:30:54.707109",
     "exception": false,
     "start_time": "2023-03-06T11:30:54.683808",
     "status": "completed"
    },
    "tags": []
   },
   "outputs": [],
   "source": [
    "del dataset[\"Transported\"]"
   ]
  },
  {
   "cell_type": "code",
   "execution_count": 10,
   "id": "2f1aa871",
   "metadata": {
    "execution": {
     "iopub.execute_input": "2023-03-06T11:30:54.734214Z",
     "iopub.status.busy": "2023-03-06T11:30:54.733713Z",
     "iopub.status.idle": "2023-03-06T11:30:54.761842Z",
     "shell.execute_reply": "2023-03-06T11:30:54.760393Z"
    },
    "papermill": {
     "duration": 0.045294,
     "end_time": "2023-03-06T11:30:54.764813",
     "exception": false,
     "start_time": "2023-03-06T11:30:54.719519",
     "status": "completed"
    },
    "tags": []
   },
   "outputs": [
    {
     "data": {
      "text/html": [
       "<div>\n",
       "<style scoped>\n",
       "    .dataframe tbody tr th:only-of-type {\n",
       "        vertical-align: middle;\n",
       "    }\n",
       "\n",
       "    .dataframe tbody tr th {\n",
       "        vertical-align: top;\n",
       "    }\n",
       "\n",
       "    .dataframe thead th {\n",
       "        text-align: right;\n",
       "    }\n",
       "</style>\n",
       "<table border=\"1\" class=\"dataframe\">\n",
       "  <thead>\n",
       "    <tr style=\"text-align: right;\">\n",
       "      <th></th>\n",
       "      <th>PassengerId</th>\n",
       "      <th>HomePlanet</th>\n",
       "      <th>CryoSleep</th>\n",
       "      <th>Cabin</th>\n",
       "      <th>Destination</th>\n",
       "      <th>Age</th>\n",
       "      <th>VIP</th>\n",
       "      <th>RoomService</th>\n",
       "      <th>FoodCourt</th>\n",
       "      <th>ShoppingMall</th>\n",
       "      <th>Spa</th>\n",
       "      <th>VRDeck</th>\n",
       "      <th>Name</th>\n",
       "    </tr>\n",
       "  </thead>\n",
       "  <tbody>\n",
       "    <tr>\n",
       "      <th>0</th>\n",
       "      <td>0</td>\n",
       "      <td>1</td>\n",
       "      <td>0</td>\n",
       "      <td>149</td>\n",
       "      <td>2</td>\n",
       "      <td>39.0</td>\n",
       "      <td>0</td>\n",
       "      <td>0.0</td>\n",
       "      <td>0.0</td>\n",
       "      <td>0.0</td>\n",
       "      <td>0.0</td>\n",
       "      <td>0.0</td>\n",
       "      <td>5252</td>\n",
       "    </tr>\n",
       "    <tr>\n",
       "      <th>1</th>\n",
       "      <td>1</td>\n",
       "      <td>0</td>\n",
       "      <td>0</td>\n",
       "      <td>2184</td>\n",
       "      <td>2</td>\n",
       "      <td>24.0</td>\n",
       "      <td>0</td>\n",
       "      <td>109.0</td>\n",
       "      <td>9.0</td>\n",
       "      <td>25.0</td>\n",
       "      <td>549.0</td>\n",
       "      <td>44.0</td>\n",
       "      <td>4502</td>\n",
       "    </tr>\n",
       "    <tr>\n",
       "      <th>2</th>\n",
       "      <td>2</td>\n",
       "      <td>1</td>\n",
       "      <td>0</td>\n",
       "      <td>1</td>\n",
       "      <td>2</td>\n",
       "      <td>58.0</td>\n",
       "      <td>1</td>\n",
       "      <td>43.0</td>\n",
       "      <td>3576.0</td>\n",
       "      <td>0.0</td>\n",
       "      <td>6715.0</td>\n",
       "      <td>49.0</td>\n",
       "      <td>457</td>\n",
       "    </tr>\n",
       "    <tr>\n",
       "      <th>3</th>\n",
       "      <td>3</td>\n",
       "      <td>1</td>\n",
       "      <td>0</td>\n",
       "      <td>1</td>\n",
       "      <td>2</td>\n",
       "      <td>33.0</td>\n",
       "      <td>0</td>\n",
       "      <td>0.0</td>\n",
       "      <td>1283.0</td>\n",
       "      <td>371.0</td>\n",
       "      <td>3329.0</td>\n",
       "      <td>193.0</td>\n",
       "      <td>7149</td>\n",
       "    </tr>\n",
       "    <tr>\n",
       "      <th>4</th>\n",
       "      <td>4</td>\n",
       "      <td>0</td>\n",
       "      <td>0</td>\n",
       "      <td>2186</td>\n",
       "      <td>2</td>\n",
       "      <td>16.0</td>\n",
       "      <td>0</td>\n",
       "      <td>303.0</td>\n",
       "      <td>70.0</td>\n",
       "      <td>151.0</td>\n",
       "      <td>565.0</td>\n",
       "      <td>2.0</td>\n",
       "      <td>8319</td>\n",
       "    </tr>\n",
       "    <tr>\n",
       "      <th>...</th>\n",
       "      <td>...</td>\n",
       "      <td>...</td>\n",
       "      <td>...</td>\n",
       "      <td>...</td>\n",
       "      <td>...</td>\n",
       "      <td>...</td>\n",
       "      <td>...</td>\n",
       "      <td>...</td>\n",
       "      <td>...</td>\n",
       "      <td>...</td>\n",
       "      <td>...</td>\n",
       "      <td>...</td>\n",
       "      <td>...</td>\n",
       "    </tr>\n",
       "    <tr>\n",
       "      <th>8688</th>\n",
       "      <td>8688</td>\n",
       "      <td>1</td>\n",
       "      <td>0</td>\n",
       "      <td>146</td>\n",
       "      <td>0</td>\n",
       "      <td>41.0</td>\n",
       "      <td>1</td>\n",
       "      <td>0.0</td>\n",
       "      <td>6819.0</td>\n",
       "      <td>0.0</td>\n",
       "      <td>1643.0</td>\n",
       "      <td>74.0</td>\n",
       "      <td>3524</td>\n",
       "    </tr>\n",
       "    <tr>\n",
       "      <th>8689</th>\n",
       "      <td>8689</td>\n",
       "      <td>0</td>\n",
       "      <td>1</td>\n",
       "      <td>5280</td>\n",
       "      <td>1</td>\n",
       "      <td>18.0</td>\n",
       "      <td>0</td>\n",
       "      <td>0.0</td>\n",
       "      <td>0.0</td>\n",
       "      <td>0.0</td>\n",
       "      <td>0.0</td>\n",
       "      <td>0.0</td>\n",
       "      <td>4780</td>\n",
       "    </tr>\n",
       "    <tr>\n",
       "      <th>8690</th>\n",
       "      <td>8690</td>\n",
       "      <td>0</td>\n",
       "      <td>0</td>\n",
       "      <td>5285</td>\n",
       "      <td>2</td>\n",
       "      <td>26.0</td>\n",
       "      <td>0</td>\n",
       "      <td>0.0</td>\n",
       "      <td>0.0</td>\n",
       "      <td>1872.0</td>\n",
       "      <td>1.0</td>\n",
       "      <td>0.0</td>\n",
       "      <td>3002</td>\n",
       "    </tr>\n",
       "    <tr>\n",
       "      <th>8691</th>\n",
       "      <td>8691</td>\n",
       "      <td>1</td>\n",
       "      <td>0</td>\n",
       "      <td>2131</td>\n",
       "      <td>0</td>\n",
       "      <td>32.0</td>\n",
       "      <td>0</td>\n",
       "      <td>0.0</td>\n",
       "      <td>1049.0</td>\n",
       "      <td>0.0</td>\n",
       "      <td>353.0</td>\n",
       "      <td>3235.0</td>\n",
       "      <td>1596</td>\n",
       "    </tr>\n",
       "    <tr>\n",
       "      <th>8692</th>\n",
       "      <td>8692</td>\n",
       "      <td>1</td>\n",
       "      <td>0</td>\n",
       "      <td>2131</td>\n",
       "      <td>2</td>\n",
       "      <td>44.0</td>\n",
       "      <td>0</td>\n",
       "      <td>126.0</td>\n",
       "      <td>4688.0</td>\n",
       "      <td>0.0</td>\n",
       "      <td>0.0</td>\n",
       "      <td>12.0</td>\n",
       "      <td>6380</td>\n",
       "    </tr>\n",
       "  </tbody>\n",
       "</table>\n",
       "<p>8693 rows × 13 columns</p>\n",
       "</div>"
      ],
      "text/plain": [
       "      PassengerId  HomePlanet  CryoSleep  Cabin  Destination   Age  VIP  \\\n",
       "0               0           1          0    149            2  39.0    0   \n",
       "1               1           0          0   2184            2  24.0    0   \n",
       "2               2           1          0      1            2  58.0    1   \n",
       "3               3           1          0      1            2  33.0    0   \n",
       "4               4           0          0   2186            2  16.0    0   \n",
       "...           ...         ...        ...    ...          ...   ...  ...   \n",
       "8688         8688           1          0    146            0  41.0    1   \n",
       "8689         8689           0          1   5280            1  18.0    0   \n",
       "8690         8690           0          0   5285            2  26.0    0   \n",
       "8691         8691           1          0   2131            0  32.0    0   \n",
       "8692         8692           1          0   2131            2  44.0    0   \n",
       "\n",
       "      RoomService  FoodCourt  ShoppingMall     Spa  VRDeck  Name  \n",
       "0             0.0        0.0           0.0     0.0     0.0  5252  \n",
       "1           109.0        9.0          25.0   549.0    44.0  4502  \n",
       "2            43.0     3576.0           0.0  6715.0    49.0   457  \n",
       "3             0.0     1283.0         371.0  3329.0   193.0  7149  \n",
       "4           303.0       70.0         151.0   565.0     2.0  8319  \n",
       "...           ...        ...           ...     ...     ...   ...  \n",
       "8688          0.0     6819.0           0.0  1643.0    74.0  3524  \n",
       "8689          0.0        0.0           0.0     0.0     0.0  4780  \n",
       "8690          0.0        0.0        1872.0     1.0     0.0  3002  \n",
       "8691          0.0     1049.0           0.0   353.0  3235.0  1596  \n",
       "8692        126.0     4688.0           0.0     0.0    12.0  6380  \n",
       "\n",
       "[8693 rows x 13 columns]"
      ]
     },
     "execution_count": 10,
     "metadata": {},
     "output_type": "execute_result"
    }
   ],
   "source": [
    "dataset"
   ]
  },
  {
   "cell_type": "markdown",
   "id": "019b7a25",
   "metadata": {
    "papermill": {
     "duration": 0.0124,
     "end_time": "2023-03-06T11:30:54.790589",
     "exception": false,
     "start_time": "2023-03-06T11:30:54.778189",
     "status": "completed"
    },
    "tags": []
   },
   "source": [
    "# Load Test data"
   ]
  },
  {
   "cell_type": "code",
   "execution_count": 11,
   "id": "a43b4dfd",
   "metadata": {
    "execution": {
     "iopub.execute_input": "2023-03-06T11:30:54.817864Z",
     "iopub.status.busy": "2023-03-06T11:30:54.817404Z",
     "iopub.status.idle": "2023-03-06T11:30:54.874732Z",
     "shell.execute_reply": "2023-03-06T11:30:54.873707Z"
    },
    "papermill": {
     "duration": 0.074048,
     "end_time": "2023-03-06T11:30:54.877371",
     "exception": false,
     "start_time": "2023-03-06T11:30:54.803323",
     "status": "completed"
    },
    "tags": []
   },
   "outputs": [
    {
     "data": {
      "text/html": [
       "<div>\n",
       "<style scoped>\n",
       "    .dataframe tbody tr th:only-of-type {\n",
       "        vertical-align: middle;\n",
       "    }\n",
       "\n",
       "    .dataframe tbody tr th {\n",
       "        vertical-align: top;\n",
       "    }\n",
       "\n",
       "    .dataframe thead th {\n",
       "        text-align: right;\n",
       "    }\n",
       "</style>\n",
       "<table border=\"1\" class=\"dataframe\">\n",
       "  <thead>\n",
       "    <tr style=\"text-align: right;\">\n",
       "      <th></th>\n",
       "      <th>PassengerId</th>\n",
       "      <th>HomePlanet</th>\n",
       "      <th>CryoSleep</th>\n",
       "      <th>Cabin</th>\n",
       "      <th>Destination</th>\n",
       "      <th>Age</th>\n",
       "      <th>VIP</th>\n",
       "      <th>RoomService</th>\n",
       "      <th>FoodCourt</th>\n",
       "      <th>ShoppingMall</th>\n",
       "      <th>Spa</th>\n",
       "      <th>VRDeck</th>\n",
       "      <th>Name</th>\n",
       "    </tr>\n",
       "  </thead>\n",
       "  <tbody>\n",
       "    <tr>\n",
       "      <th>0</th>\n",
       "      <td>0013_01</td>\n",
       "      <td>Earth</td>\n",
       "      <td>True</td>\n",
       "      <td>G/3/S</td>\n",
       "      <td>TRAPPIST-1e</td>\n",
       "      <td>27.0</td>\n",
       "      <td>False</td>\n",
       "      <td>0.0</td>\n",
       "      <td>0.0</td>\n",
       "      <td>0.0</td>\n",
       "      <td>0.0</td>\n",
       "      <td>0.0</td>\n",
       "      <td>Nelly Carsoning</td>\n",
       "    </tr>\n",
       "    <tr>\n",
       "      <th>1</th>\n",
       "      <td>0018_01</td>\n",
       "      <td>Earth</td>\n",
       "      <td>False</td>\n",
       "      <td>F/4/S</td>\n",
       "      <td>TRAPPIST-1e</td>\n",
       "      <td>19.0</td>\n",
       "      <td>False</td>\n",
       "      <td>0.0</td>\n",
       "      <td>9.0</td>\n",
       "      <td>0.0</td>\n",
       "      <td>2823.0</td>\n",
       "      <td>0.0</td>\n",
       "      <td>Lerome Peckers</td>\n",
       "    </tr>\n",
       "    <tr>\n",
       "      <th>2</th>\n",
       "      <td>0019_01</td>\n",
       "      <td>Europa</td>\n",
       "      <td>True</td>\n",
       "      <td>C/0/S</td>\n",
       "      <td>55 Cancri e</td>\n",
       "      <td>31.0</td>\n",
       "      <td>False</td>\n",
       "      <td>0.0</td>\n",
       "      <td>0.0</td>\n",
       "      <td>0.0</td>\n",
       "      <td>0.0</td>\n",
       "      <td>0.0</td>\n",
       "      <td>Sabih Unhearfus</td>\n",
       "    </tr>\n",
       "    <tr>\n",
       "      <th>3</th>\n",
       "      <td>0021_01</td>\n",
       "      <td>Europa</td>\n",
       "      <td>False</td>\n",
       "      <td>C/1/S</td>\n",
       "      <td>TRAPPIST-1e</td>\n",
       "      <td>38.0</td>\n",
       "      <td>False</td>\n",
       "      <td>0.0</td>\n",
       "      <td>6652.0</td>\n",
       "      <td>0.0</td>\n",
       "      <td>181.0</td>\n",
       "      <td>585.0</td>\n",
       "      <td>Meratz Caltilter</td>\n",
       "    </tr>\n",
       "    <tr>\n",
       "      <th>4</th>\n",
       "      <td>0023_01</td>\n",
       "      <td>Earth</td>\n",
       "      <td>False</td>\n",
       "      <td>F/5/S</td>\n",
       "      <td>TRAPPIST-1e</td>\n",
       "      <td>20.0</td>\n",
       "      <td>False</td>\n",
       "      <td>10.0</td>\n",
       "      <td>0.0</td>\n",
       "      <td>635.0</td>\n",
       "      <td>0.0</td>\n",
       "      <td>0.0</td>\n",
       "      <td>Brence Harperez</td>\n",
       "    </tr>\n",
       "    <tr>\n",
       "      <th>...</th>\n",
       "      <td>...</td>\n",
       "      <td>...</td>\n",
       "      <td>...</td>\n",
       "      <td>...</td>\n",
       "      <td>...</td>\n",
       "      <td>...</td>\n",
       "      <td>...</td>\n",
       "      <td>...</td>\n",
       "      <td>...</td>\n",
       "      <td>...</td>\n",
       "      <td>...</td>\n",
       "      <td>...</td>\n",
       "      <td>...</td>\n",
       "    </tr>\n",
       "    <tr>\n",
       "      <th>4272</th>\n",
       "      <td>9266_02</td>\n",
       "      <td>Earth</td>\n",
       "      <td>True</td>\n",
       "      <td>G/1496/S</td>\n",
       "      <td>TRAPPIST-1e</td>\n",
       "      <td>34.0</td>\n",
       "      <td>False</td>\n",
       "      <td>0.0</td>\n",
       "      <td>0.0</td>\n",
       "      <td>0.0</td>\n",
       "      <td>0.0</td>\n",
       "      <td>0.0</td>\n",
       "      <td>Jeron Peter</td>\n",
       "    </tr>\n",
       "    <tr>\n",
       "      <th>4273</th>\n",
       "      <td>9269_01</td>\n",
       "      <td>Earth</td>\n",
       "      <td>False</td>\n",
       "      <td>NaN</td>\n",
       "      <td>TRAPPIST-1e</td>\n",
       "      <td>42.0</td>\n",
       "      <td>False</td>\n",
       "      <td>0.0</td>\n",
       "      <td>847.0</td>\n",
       "      <td>17.0</td>\n",
       "      <td>10.0</td>\n",
       "      <td>144.0</td>\n",
       "      <td>Matty Scheron</td>\n",
       "    </tr>\n",
       "    <tr>\n",
       "      <th>4274</th>\n",
       "      <td>9271_01</td>\n",
       "      <td>Mars</td>\n",
       "      <td>True</td>\n",
       "      <td>D/296/P</td>\n",
       "      <td>55 Cancri e</td>\n",
       "      <td>NaN</td>\n",
       "      <td>False</td>\n",
       "      <td>0.0</td>\n",
       "      <td>0.0</td>\n",
       "      <td>0.0</td>\n",
       "      <td>0.0</td>\n",
       "      <td>0.0</td>\n",
       "      <td>Jayrin Pore</td>\n",
       "    </tr>\n",
       "    <tr>\n",
       "      <th>4275</th>\n",
       "      <td>9273_01</td>\n",
       "      <td>Europa</td>\n",
       "      <td>False</td>\n",
       "      <td>D/297/P</td>\n",
       "      <td>NaN</td>\n",
       "      <td>NaN</td>\n",
       "      <td>False</td>\n",
       "      <td>0.0</td>\n",
       "      <td>2680.0</td>\n",
       "      <td>0.0</td>\n",
       "      <td>0.0</td>\n",
       "      <td>523.0</td>\n",
       "      <td>Kitakan Conale</td>\n",
       "    </tr>\n",
       "    <tr>\n",
       "      <th>4276</th>\n",
       "      <td>9277_01</td>\n",
       "      <td>Earth</td>\n",
       "      <td>True</td>\n",
       "      <td>G/1498/S</td>\n",
       "      <td>PSO J318.5-22</td>\n",
       "      <td>43.0</td>\n",
       "      <td>False</td>\n",
       "      <td>0.0</td>\n",
       "      <td>0.0</td>\n",
       "      <td>0.0</td>\n",
       "      <td>0.0</td>\n",
       "      <td>0.0</td>\n",
       "      <td>Lilace Leonzaley</td>\n",
       "    </tr>\n",
       "  </tbody>\n",
       "</table>\n",
       "<p>4277 rows × 13 columns</p>\n",
       "</div>"
      ],
      "text/plain": [
       "     PassengerId HomePlanet CryoSleep     Cabin    Destination   Age    VIP  \\\n",
       "0        0013_01      Earth      True     G/3/S    TRAPPIST-1e  27.0  False   \n",
       "1        0018_01      Earth     False     F/4/S    TRAPPIST-1e  19.0  False   \n",
       "2        0019_01     Europa      True     C/0/S    55 Cancri e  31.0  False   \n",
       "3        0021_01     Europa     False     C/1/S    TRAPPIST-1e  38.0  False   \n",
       "4        0023_01      Earth     False     F/5/S    TRAPPIST-1e  20.0  False   \n",
       "...          ...        ...       ...       ...            ...   ...    ...   \n",
       "4272     9266_02      Earth      True  G/1496/S    TRAPPIST-1e  34.0  False   \n",
       "4273     9269_01      Earth     False       NaN    TRAPPIST-1e  42.0  False   \n",
       "4274     9271_01       Mars      True   D/296/P    55 Cancri e   NaN  False   \n",
       "4275     9273_01     Europa     False   D/297/P            NaN   NaN  False   \n",
       "4276     9277_01      Earth      True  G/1498/S  PSO J318.5-22  43.0  False   \n",
       "\n",
       "      RoomService  FoodCourt  ShoppingMall     Spa  VRDeck              Name  \n",
       "0             0.0        0.0           0.0     0.0     0.0   Nelly Carsoning  \n",
       "1             0.0        9.0           0.0  2823.0     0.0    Lerome Peckers  \n",
       "2             0.0        0.0           0.0     0.0     0.0   Sabih Unhearfus  \n",
       "3             0.0     6652.0           0.0   181.0   585.0  Meratz Caltilter  \n",
       "4            10.0        0.0         635.0     0.0     0.0   Brence Harperez  \n",
       "...           ...        ...           ...     ...     ...               ...  \n",
       "4272          0.0        0.0           0.0     0.0     0.0       Jeron Peter  \n",
       "4273          0.0      847.0          17.0    10.0   144.0     Matty Scheron  \n",
       "4274          0.0        0.0           0.0     0.0     0.0       Jayrin Pore  \n",
       "4275          0.0     2680.0           0.0     0.0   523.0    Kitakan Conale  \n",
       "4276          0.0        0.0           0.0     0.0     0.0  Lilace Leonzaley  \n",
       "\n",
       "[4277 rows x 13 columns]"
      ]
     },
     "execution_count": 11,
     "metadata": {},
     "output_type": "execute_result"
    }
   ],
   "source": [
    "data=pd.read_csv(\"/kaggle/input/spaceship-titanic/test.csv\")\n",
    "data"
   ]
  },
  {
   "cell_type": "markdown",
   "id": "0155dde0",
   "metadata": {
    "papermill": {
     "duration": 0.012767,
     "end_time": "2023-03-06T11:30:54.903572",
     "exception": false,
     "start_time": "2023-03-06T11:30:54.890805",
     "status": "completed"
    },
    "tags": []
   },
   "source": [
    "# Converting string data"
   ]
  },
  {
   "cell_type": "code",
   "execution_count": 12,
   "id": "48e244bd",
   "metadata": {
    "execution": {
     "iopub.execute_input": "2023-03-06T11:30:54.934015Z",
     "iopub.status.busy": "2023-03-06T11:30:54.932502Z",
     "iopub.status.idle": "2023-03-06T11:30:55.005252Z",
     "shell.execute_reply": "2023-03-06T11:30:55.003405Z"
    },
    "papermill": {
     "duration": 0.092796,
     "end_time": "2023-03-06T11:30:55.009362",
     "exception": false,
     "start_time": "2023-03-06T11:30:54.916566",
     "status": "completed"
    },
    "tags": []
   },
   "outputs": [
    {
     "name": "stdout",
     "output_type": "stream",
     "text": [
      "      PassengerId  HomePlanet  CryoSleep  Cabin  Destination   Age  VIP  \\\n",
      "0               0           0          1   2784            2  27.0    0   \n",
      "1               1           0          0   1867            2  19.0    0   \n",
      "2               2           1          1    257            0  31.0    0   \n",
      "3               3           1          0    259            2  38.0    0   \n",
      "4               4           0          0   1940            2  20.0    0   \n",
      "...           ...         ...        ...    ...          ...   ...  ...   \n",
      "4272         4272           0          1   2679            2  34.0    0   \n",
      "4273         4273           0          0   3265            2  42.0    0   \n",
      "4274         4274           2          1    602            0  29.0    0   \n",
      "4275         4275           1          0    603            3  29.0    0   \n",
      "4276         4276           0          1   2680            1  43.0    0   \n",
      "\n",
      "      RoomService  FoodCourt  ShoppingMall     Spa  VRDeck  Name  \n",
      "0             0.0        0.0           0.0     0.0     0.0  2912  \n",
      "1             0.0        9.0           0.0  2823.0     0.0  2406  \n",
      "2             0.0        0.0           0.0     0.0     0.0  3376  \n",
      "3             0.0     6652.0           0.0   181.0   585.0  2711  \n",
      "4            10.0        0.0         635.0     0.0     0.0   668  \n",
      "...           ...        ...           ...     ...     ...   ...  \n",
      "4272          0.0        0.0           0.0     0.0     0.0  2105  \n",
      "4273          0.0      847.0          17.0    10.0   144.0  2654  \n",
      "4274          0.0        0.0           0.0     0.0     0.0  2085  \n",
      "4275          0.0     2680.0           0.0     0.0   523.0  2327  \n",
      "4276          0.0        0.0           0.0     0.0     0.0  2439  \n",
      "\n",
      "[4277 rows x 13 columns]\n"
     ]
    }
   ],
   "source": [
    "for D1 in data.columns:\n",
    "    if data[D1].dtype == object:\n",
    "        data[D1] = data[D1].astype(str)\n",
    "        X1=data[D1].unique()\n",
    "        X2=X1[-2]\n",
    "        \n",
    "        data[D1]=data[D1].fillna(X2)\n",
    "        data[D1]=l1.fit_transform(data[D1])\n",
    "    elif data[D1].dtype == float or data[D1].dtype == int:\n",
    "        m1=data[D1].mean()\n",
    "        m1=round(m1)\n",
    "        data[D1]=data[D1].fillna(m1)\n",
    "        \n",
    "print(data)"
   ]
  },
  {
   "cell_type": "code",
   "execution_count": 13,
   "id": "479a494b",
   "metadata": {
    "execution": {
     "iopub.execute_input": "2023-03-06T11:30:55.038540Z",
     "iopub.status.busy": "2023-03-06T11:30:55.037633Z",
     "iopub.status.idle": "2023-03-06T11:30:55.065479Z",
     "shell.execute_reply": "2023-03-06T11:30:55.064095Z"
    },
    "papermill": {
     "duration": 0.044954,
     "end_time": "2023-03-06T11:30:55.068209",
     "exception": false,
     "start_time": "2023-03-06T11:30:55.023255",
     "status": "completed"
    },
    "tags": []
   },
   "outputs": [
    {
     "data": {
      "text/html": [
       "<div>\n",
       "<style scoped>\n",
       "    .dataframe tbody tr th:only-of-type {\n",
       "        vertical-align: middle;\n",
       "    }\n",
       "\n",
       "    .dataframe tbody tr th {\n",
       "        vertical-align: top;\n",
       "    }\n",
       "\n",
       "    .dataframe thead th {\n",
       "        text-align: right;\n",
       "    }\n",
       "</style>\n",
       "<table border=\"1\" class=\"dataframe\">\n",
       "  <thead>\n",
       "    <tr style=\"text-align: right;\">\n",
       "      <th></th>\n",
       "      <th>PassengerId</th>\n",
       "      <th>HomePlanet</th>\n",
       "      <th>CryoSleep</th>\n",
       "      <th>Cabin</th>\n",
       "      <th>Destination</th>\n",
       "      <th>Age</th>\n",
       "      <th>VIP</th>\n",
       "      <th>RoomService</th>\n",
       "      <th>FoodCourt</th>\n",
       "      <th>ShoppingMall</th>\n",
       "      <th>Spa</th>\n",
       "      <th>VRDeck</th>\n",
       "      <th>Name</th>\n",
       "    </tr>\n",
       "  </thead>\n",
       "  <tbody>\n",
       "    <tr>\n",
       "      <th>0</th>\n",
       "      <td>0</td>\n",
       "      <td>0</td>\n",
       "      <td>1</td>\n",
       "      <td>2784</td>\n",
       "      <td>2</td>\n",
       "      <td>27.0</td>\n",
       "      <td>0</td>\n",
       "      <td>0.0</td>\n",
       "      <td>0.0</td>\n",
       "      <td>0.0</td>\n",
       "      <td>0.0</td>\n",
       "      <td>0.0</td>\n",
       "      <td>2912</td>\n",
       "    </tr>\n",
       "    <tr>\n",
       "      <th>1</th>\n",
       "      <td>1</td>\n",
       "      <td>0</td>\n",
       "      <td>0</td>\n",
       "      <td>1867</td>\n",
       "      <td>2</td>\n",
       "      <td>19.0</td>\n",
       "      <td>0</td>\n",
       "      <td>0.0</td>\n",
       "      <td>9.0</td>\n",
       "      <td>0.0</td>\n",
       "      <td>2823.0</td>\n",
       "      <td>0.0</td>\n",
       "      <td>2406</td>\n",
       "    </tr>\n",
       "    <tr>\n",
       "      <th>2</th>\n",
       "      <td>2</td>\n",
       "      <td>1</td>\n",
       "      <td>1</td>\n",
       "      <td>257</td>\n",
       "      <td>0</td>\n",
       "      <td>31.0</td>\n",
       "      <td>0</td>\n",
       "      <td>0.0</td>\n",
       "      <td>0.0</td>\n",
       "      <td>0.0</td>\n",
       "      <td>0.0</td>\n",
       "      <td>0.0</td>\n",
       "      <td>3376</td>\n",
       "    </tr>\n",
       "    <tr>\n",
       "      <th>3</th>\n",
       "      <td>3</td>\n",
       "      <td>1</td>\n",
       "      <td>0</td>\n",
       "      <td>259</td>\n",
       "      <td>2</td>\n",
       "      <td>38.0</td>\n",
       "      <td>0</td>\n",
       "      <td>0.0</td>\n",
       "      <td>6652.0</td>\n",
       "      <td>0.0</td>\n",
       "      <td>181.0</td>\n",
       "      <td>585.0</td>\n",
       "      <td>2711</td>\n",
       "    </tr>\n",
       "    <tr>\n",
       "      <th>4</th>\n",
       "      <td>4</td>\n",
       "      <td>0</td>\n",
       "      <td>0</td>\n",
       "      <td>1940</td>\n",
       "      <td>2</td>\n",
       "      <td>20.0</td>\n",
       "      <td>0</td>\n",
       "      <td>10.0</td>\n",
       "      <td>0.0</td>\n",
       "      <td>635.0</td>\n",
       "      <td>0.0</td>\n",
       "      <td>0.0</td>\n",
       "      <td>668</td>\n",
       "    </tr>\n",
       "    <tr>\n",
       "      <th>...</th>\n",
       "      <td>...</td>\n",
       "      <td>...</td>\n",
       "      <td>...</td>\n",
       "      <td>...</td>\n",
       "      <td>...</td>\n",
       "      <td>...</td>\n",
       "      <td>...</td>\n",
       "      <td>...</td>\n",
       "      <td>...</td>\n",
       "      <td>...</td>\n",
       "      <td>...</td>\n",
       "      <td>...</td>\n",
       "      <td>...</td>\n",
       "    </tr>\n",
       "    <tr>\n",
       "      <th>4272</th>\n",
       "      <td>4272</td>\n",
       "      <td>0</td>\n",
       "      <td>1</td>\n",
       "      <td>2679</td>\n",
       "      <td>2</td>\n",
       "      <td>34.0</td>\n",
       "      <td>0</td>\n",
       "      <td>0.0</td>\n",
       "      <td>0.0</td>\n",
       "      <td>0.0</td>\n",
       "      <td>0.0</td>\n",
       "      <td>0.0</td>\n",
       "      <td>2105</td>\n",
       "    </tr>\n",
       "    <tr>\n",
       "      <th>4273</th>\n",
       "      <td>4273</td>\n",
       "      <td>0</td>\n",
       "      <td>0</td>\n",
       "      <td>3265</td>\n",
       "      <td>2</td>\n",
       "      <td>42.0</td>\n",
       "      <td>0</td>\n",
       "      <td>0.0</td>\n",
       "      <td>847.0</td>\n",
       "      <td>17.0</td>\n",
       "      <td>10.0</td>\n",
       "      <td>144.0</td>\n",
       "      <td>2654</td>\n",
       "    </tr>\n",
       "    <tr>\n",
       "      <th>4274</th>\n",
       "      <td>4274</td>\n",
       "      <td>2</td>\n",
       "      <td>1</td>\n",
       "      <td>602</td>\n",
       "      <td>0</td>\n",
       "      <td>29.0</td>\n",
       "      <td>0</td>\n",
       "      <td>0.0</td>\n",
       "      <td>0.0</td>\n",
       "      <td>0.0</td>\n",
       "      <td>0.0</td>\n",
       "      <td>0.0</td>\n",
       "      <td>2085</td>\n",
       "    </tr>\n",
       "    <tr>\n",
       "      <th>4275</th>\n",
       "      <td>4275</td>\n",
       "      <td>1</td>\n",
       "      <td>0</td>\n",
       "      <td>603</td>\n",
       "      <td>3</td>\n",
       "      <td>29.0</td>\n",
       "      <td>0</td>\n",
       "      <td>0.0</td>\n",
       "      <td>2680.0</td>\n",
       "      <td>0.0</td>\n",
       "      <td>0.0</td>\n",
       "      <td>523.0</td>\n",
       "      <td>2327</td>\n",
       "    </tr>\n",
       "    <tr>\n",
       "      <th>4276</th>\n",
       "      <td>4276</td>\n",
       "      <td>0</td>\n",
       "      <td>1</td>\n",
       "      <td>2680</td>\n",
       "      <td>1</td>\n",
       "      <td>43.0</td>\n",
       "      <td>0</td>\n",
       "      <td>0.0</td>\n",
       "      <td>0.0</td>\n",
       "      <td>0.0</td>\n",
       "      <td>0.0</td>\n",
       "      <td>0.0</td>\n",
       "      <td>2439</td>\n",
       "    </tr>\n",
       "  </tbody>\n",
       "</table>\n",
       "<p>4277 rows × 13 columns</p>\n",
       "</div>"
      ],
      "text/plain": [
       "      PassengerId  HomePlanet  CryoSleep  Cabin  Destination   Age  VIP  \\\n",
       "0               0           0          1   2784            2  27.0    0   \n",
       "1               1           0          0   1867            2  19.0    0   \n",
       "2               2           1          1    257            0  31.0    0   \n",
       "3               3           1          0    259            2  38.0    0   \n",
       "4               4           0          0   1940            2  20.0    0   \n",
       "...           ...         ...        ...    ...          ...   ...  ...   \n",
       "4272         4272           0          1   2679            2  34.0    0   \n",
       "4273         4273           0          0   3265            2  42.0    0   \n",
       "4274         4274           2          1    602            0  29.0    0   \n",
       "4275         4275           1          0    603            3  29.0    0   \n",
       "4276         4276           0          1   2680            1  43.0    0   \n",
       "\n",
       "      RoomService  FoodCourt  ShoppingMall     Spa  VRDeck  Name  \n",
       "0             0.0        0.0           0.0     0.0     0.0  2912  \n",
       "1             0.0        9.0           0.0  2823.0     0.0  2406  \n",
       "2             0.0        0.0           0.0     0.0     0.0  3376  \n",
       "3             0.0     6652.0           0.0   181.0   585.0  2711  \n",
       "4            10.0        0.0         635.0     0.0     0.0   668  \n",
       "...           ...        ...           ...     ...     ...   ...  \n",
       "4272          0.0        0.0           0.0     0.0     0.0  2105  \n",
       "4273          0.0      847.0          17.0    10.0   144.0  2654  \n",
       "4274          0.0        0.0           0.0     0.0     0.0  2085  \n",
       "4275          0.0     2680.0           0.0     0.0   523.0  2327  \n",
       "4276          0.0        0.0           0.0     0.0     0.0  2439  \n",
       "\n",
       "[4277 rows x 13 columns]"
      ]
     },
     "execution_count": 13,
     "metadata": {},
     "output_type": "execute_result"
    }
   ],
   "source": [
    "data"
   ]
  },
  {
   "cell_type": "code",
   "execution_count": 14,
   "id": "f7f00198",
   "metadata": {
    "execution": {
     "iopub.execute_input": "2023-03-06T11:30:55.097121Z",
     "iopub.status.busy": "2023-03-06T11:30:55.096706Z",
     "iopub.status.idle": "2023-03-06T11:30:55.114225Z",
     "shell.execute_reply": "2023-03-06T11:30:55.112521Z"
    },
    "papermill": {
     "duration": 0.035987,
     "end_time": "2023-03-06T11:30:55.117253",
     "exception": false,
     "start_time": "2023-03-06T11:30:55.081266",
     "status": "completed"
    },
    "tags": []
   },
   "outputs": [
    {
     "name": "stdout",
     "output_type": "stream",
     "text": [
      "<class 'pandas.core.frame.DataFrame'>\n",
      "RangeIndex: 8693 entries, 0 to 8692\n",
      "Data columns (total 13 columns):\n",
      " #   Column        Non-Null Count  Dtype  \n",
      "---  ------        --------------  -----  \n",
      " 0   PassengerId   8693 non-null   int64  \n",
      " 1   HomePlanet    8693 non-null   int64  \n",
      " 2   CryoSleep     8693 non-null   int64  \n",
      " 3   Cabin         8693 non-null   int64  \n",
      " 4   Destination   8693 non-null   int64  \n",
      " 5   Age           8693 non-null   float64\n",
      " 6   VIP           8693 non-null   int64  \n",
      " 7   RoomService   8693 non-null   float64\n",
      " 8   FoodCourt     8693 non-null   float64\n",
      " 9   ShoppingMall  8693 non-null   float64\n",
      " 10  Spa           8693 non-null   float64\n",
      " 11  VRDeck        8693 non-null   float64\n",
      " 12  Name          8693 non-null   int64  \n",
      "dtypes: float64(6), int64(7)\n",
      "memory usage: 883.0 KB\n"
     ]
    }
   ],
   "source": [
    "dataset.info()"
   ]
  },
  {
   "cell_type": "code",
   "execution_count": 15,
   "id": "b7ec247b",
   "metadata": {
    "execution": {
     "iopub.execute_input": "2023-03-06T11:30:55.146281Z",
     "iopub.status.busy": "2023-03-06T11:30:55.145819Z",
     "iopub.status.idle": "2023-03-06T11:30:55.161925Z",
     "shell.execute_reply": "2023-03-06T11:30:55.160564Z"
    },
    "papermill": {
     "duration": 0.035154,
     "end_time": "2023-03-06T11:30:55.165762",
     "exception": false,
     "start_time": "2023-03-06T11:30:55.130608",
     "status": "completed"
    },
    "tags": []
   },
   "outputs": [
    {
     "name": "stdout",
     "output_type": "stream",
     "text": [
      "<class 'pandas.core.frame.DataFrame'>\n",
      "RangeIndex: 4277 entries, 0 to 4276\n",
      "Data columns (total 13 columns):\n",
      " #   Column        Non-Null Count  Dtype  \n",
      "---  ------        --------------  -----  \n",
      " 0   PassengerId   4277 non-null   int64  \n",
      " 1   HomePlanet    4277 non-null   int64  \n",
      " 2   CryoSleep     4277 non-null   int64  \n",
      " 3   Cabin         4277 non-null   int64  \n",
      " 4   Destination   4277 non-null   int64  \n",
      " 5   Age           4277 non-null   float64\n",
      " 6   VIP           4277 non-null   int64  \n",
      " 7   RoomService   4277 non-null   float64\n",
      " 8   FoodCourt     4277 non-null   float64\n",
      " 9   ShoppingMall  4277 non-null   float64\n",
      " 10  Spa           4277 non-null   float64\n",
      " 11  VRDeck        4277 non-null   float64\n",
      " 12  Name          4277 non-null   int64  \n",
      "dtypes: float64(6), int64(7)\n",
      "memory usage: 434.5 KB\n"
     ]
    }
   ],
   "source": [
    "data.info()"
   ]
  },
  {
   "cell_type": "markdown",
   "id": "d38f8694",
   "metadata": {
    "papermill": {
     "duration": 0.012838,
     "end_time": "2023-03-06T11:30:55.192683",
     "exception": false,
     "start_time": "2023-03-06T11:30:55.179845",
     "status": "completed"
    },
    "tags": []
   },
   "source": [
    "# Loading Training dataset"
   ]
  },
  {
   "cell_type": "code",
   "execution_count": 16,
   "id": "f3a5480e",
   "metadata": {
    "execution": {
     "iopub.execute_input": "2023-03-06T11:30:55.223261Z",
     "iopub.status.busy": "2023-03-06T11:30:55.222182Z",
     "iopub.status.idle": "2023-03-06T11:30:55.283991Z",
     "shell.execute_reply": "2023-03-06T11:30:55.282543Z"
    },
    "papermill": {
     "duration": 0.080273,
     "end_time": "2023-03-06T11:30:55.286907",
     "exception": false,
     "start_time": "2023-03-06T11:30:55.206634",
     "status": "completed"
    },
    "tags": []
   },
   "outputs": [
    {
     "data": {
      "text/html": [
       "<div>\n",
       "<style scoped>\n",
       "    .dataframe tbody tr th:only-of-type {\n",
       "        vertical-align: middle;\n",
       "    }\n",
       "\n",
       "    .dataframe tbody tr th {\n",
       "        vertical-align: top;\n",
       "    }\n",
       "\n",
       "    .dataframe thead th {\n",
       "        text-align: right;\n",
       "    }\n",
       "</style>\n",
       "<table border=\"1\" class=\"dataframe\">\n",
       "  <thead>\n",
       "    <tr style=\"text-align: right;\">\n",
       "      <th></th>\n",
       "      <th>PassengerId</th>\n",
       "      <th>HomePlanet</th>\n",
       "      <th>CryoSleep</th>\n",
       "      <th>Cabin</th>\n",
       "      <th>Destination</th>\n",
       "      <th>Age</th>\n",
       "      <th>VIP</th>\n",
       "      <th>RoomService</th>\n",
       "      <th>FoodCourt</th>\n",
       "      <th>ShoppingMall</th>\n",
       "      <th>Spa</th>\n",
       "      <th>VRDeck</th>\n",
       "      <th>Name</th>\n",
       "      <th>Transported</th>\n",
       "    </tr>\n",
       "  </thead>\n",
       "  <tbody>\n",
       "    <tr>\n",
       "      <th>0</th>\n",
       "      <td>0001_01</td>\n",
       "      <td>Europa</td>\n",
       "      <td>False</td>\n",
       "      <td>B/0/P</td>\n",
       "      <td>TRAPPIST-1e</td>\n",
       "      <td>39.0</td>\n",
       "      <td>False</td>\n",
       "      <td>0.0</td>\n",
       "      <td>0.0</td>\n",
       "      <td>0.0</td>\n",
       "      <td>0.0</td>\n",
       "      <td>0.0</td>\n",
       "      <td>Maham Ofracculy</td>\n",
       "      <td>False</td>\n",
       "    </tr>\n",
       "    <tr>\n",
       "      <th>1</th>\n",
       "      <td>0002_01</td>\n",
       "      <td>Earth</td>\n",
       "      <td>False</td>\n",
       "      <td>F/0/S</td>\n",
       "      <td>TRAPPIST-1e</td>\n",
       "      <td>24.0</td>\n",
       "      <td>False</td>\n",
       "      <td>109.0</td>\n",
       "      <td>9.0</td>\n",
       "      <td>25.0</td>\n",
       "      <td>549.0</td>\n",
       "      <td>44.0</td>\n",
       "      <td>Juanna Vines</td>\n",
       "      <td>True</td>\n",
       "    </tr>\n",
       "    <tr>\n",
       "      <th>2</th>\n",
       "      <td>0003_01</td>\n",
       "      <td>Europa</td>\n",
       "      <td>False</td>\n",
       "      <td>A/0/S</td>\n",
       "      <td>TRAPPIST-1e</td>\n",
       "      <td>58.0</td>\n",
       "      <td>True</td>\n",
       "      <td>43.0</td>\n",
       "      <td>3576.0</td>\n",
       "      <td>0.0</td>\n",
       "      <td>6715.0</td>\n",
       "      <td>49.0</td>\n",
       "      <td>Altark Susent</td>\n",
       "      <td>False</td>\n",
       "    </tr>\n",
       "    <tr>\n",
       "      <th>3</th>\n",
       "      <td>0003_02</td>\n",
       "      <td>Europa</td>\n",
       "      <td>False</td>\n",
       "      <td>A/0/S</td>\n",
       "      <td>TRAPPIST-1e</td>\n",
       "      <td>33.0</td>\n",
       "      <td>False</td>\n",
       "      <td>0.0</td>\n",
       "      <td>1283.0</td>\n",
       "      <td>371.0</td>\n",
       "      <td>3329.0</td>\n",
       "      <td>193.0</td>\n",
       "      <td>Solam Susent</td>\n",
       "      <td>False</td>\n",
       "    </tr>\n",
       "    <tr>\n",
       "      <th>4</th>\n",
       "      <td>0004_01</td>\n",
       "      <td>Earth</td>\n",
       "      <td>False</td>\n",
       "      <td>F/1/S</td>\n",
       "      <td>TRAPPIST-1e</td>\n",
       "      <td>16.0</td>\n",
       "      <td>False</td>\n",
       "      <td>303.0</td>\n",
       "      <td>70.0</td>\n",
       "      <td>151.0</td>\n",
       "      <td>565.0</td>\n",
       "      <td>2.0</td>\n",
       "      <td>Willy Santantines</td>\n",
       "      <td>True</td>\n",
       "    </tr>\n",
       "    <tr>\n",
       "      <th>...</th>\n",
       "      <td>...</td>\n",
       "      <td>...</td>\n",
       "      <td>...</td>\n",
       "      <td>...</td>\n",
       "      <td>...</td>\n",
       "      <td>...</td>\n",
       "      <td>...</td>\n",
       "      <td>...</td>\n",
       "      <td>...</td>\n",
       "      <td>...</td>\n",
       "      <td>...</td>\n",
       "      <td>...</td>\n",
       "      <td>...</td>\n",
       "      <td>...</td>\n",
       "    </tr>\n",
       "    <tr>\n",
       "      <th>8688</th>\n",
       "      <td>9276_01</td>\n",
       "      <td>Europa</td>\n",
       "      <td>False</td>\n",
       "      <td>A/98/P</td>\n",
       "      <td>55 Cancri e</td>\n",
       "      <td>41.0</td>\n",
       "      <td>True</td>\n",
       "      <td>0.0</td>\n",
       "      <td>6819.0</td>\n",
       "      <td>0.0</td>\n",
       "      <td>1643.0</td>\n",
       "      <td>74.0</td>\n",
       "      <td>Gravior Noxnuther</td>\n",
       "      <td>False</td>\n",
       "    </tr>\n",
       "    <tr>\n",
       "      <th>8689</th>\n",
       "      <td>9278_01</td>\n",
       "      <td>Earth</td>\n",
       "      <td>True</td>\n",
       "      <td>G/1499/S</td>\n",
       "      <td>PSO J318.5-22</td>\n",
       "      <td>18.0</td>\n",
       "      <td>False</td>\n",
       "      <td>0.0</td>\n",
       "      <td>0.0</td>\n",
       "      <td>0.0</td>\n",
       "      <td>0.0</td>\n",
       "      <td>0.0</td>\n",
       "      <td>Kurta Mondalley</td>\n",
       "      <td>False</td>\n",
       "    </tr>\n",
       "    <tr>\n",
       "      <th>8690</th>\n",
       "      <td>9279_01</td>\n",
       "      <td>Earth</td>\n",
       "      <td>False</td>\n",
       "      <td>G/1500/S</td>\n",
       "      <td>TRAPPIST-1e</td>\n",
       "      <td>26.0</td>\n",
       "      <td>False</td>\n",
       "      <td>0.0</td>\n",
       "      <td>0.0</td>\n",
       "      <td>1872.0</td>\n",
       "      <td>1.0</td>\n",
       "      <td>0.0</td>\n",
       "      <td>Fayey Connon</td>\n",
       "      <td>True</td>\n",
       "    </tr>\n",
       "    <tr>\n",
       "      <th>8691</th>\n",
       "      <td>9280_01</td>\n",
       "      <td>Europa</td>\n",
       "      <td>False</td>\n",
       "      <td>E/608/S</td>\n",
       "      <td>55 Cancri e</td>\n",
       "      <td>32.0</td>\n",
       "      <td>False</td>\n",
       "      <td>0.0</td>\n",
       "      <td>1049.0</td>\n",
       "      <td>0.0</td>\n",
       "      <td>353.0</td>\n",
       "      <td>3235.0</td>\n",
       "      <td>Celeon Hontichre</td>\n",
       "      <td>False</td>\n",
       "    </tr>\n",
       "    <tr>\n",
       "      <th>8692</th>\n",
       "      <td>9280_02</td>\n",
       "      <td>Europa</td>\n",
       "      <td>False</td>\n",
       "      <td>E/608/S</td>\n",
       "      <td>TRAPPIST-1e</td>\n",
       "      <td>44.0</td>\n",
       "      <td>False</td>\n",
       "      <td>126.0</td>\n",
       "      <td>4688.0</td>\n",
       "      <td>0.0</td>\n",
       "      <td>0.0</td>\n",
       "      <td>12.0</td>\n",
       "      <td>Propsh Hontichre</td>\n",
       "      <td>True</td>\n",
       "    </tr>\n",
       "  </tbody>\n",
       "</table>\n",
       "<p>8693 rows × 14 columns</p>\n",
       "</div>"
      ],
      "text/plain": [
       "     PassengerId HomePlanet CryoSleep     Cabin    Destination   Age    VIP  \\\n",
       "0        0001_01     Europa     False     B/0/P    TRAPPIST-1e  39.0  False   \n",
       "1        0002_01      Earth     False     F/0/S    TRAPPIST-1e  24.0  False   \n",
       "2        0003_01     Europa     False     A/0/S    TRAPPIST-1e  58.0   True   \n",
       "3        0003_02     Europa     False     A/0/S    TRAPPIST-1e  33.0  False   \n",
       "4        0004_01      Earth     False     F/1/S    TRAPPIST-1e  16.0  False   \n",
       "...          ...        ...       ...       ...            ...   ...    ...   \n",
       "8688     9276_01     Europa     False    A/98/P    55 Cancri e  41.0   True   \n",
       "8689     9278_01      Earth      True  G/1499/S  PSO J318.5-22  18.0  False   \n",
       "8690     9279_01      Earth     False  G/1500/S    TRAPPIST-1e  26.0  False   \n",
       "8691     9280_01     Europa     False   E/608/S    55 Cancri e  32.0  False   \n",
       "8692     9280_02     Europa     False   E/608/S    TRAPPIST-1e  44.0  False   \n",
       "\n",
       "      RoomService  FoodCourt  ShoppingMall     Spa  VRDeck               Name  \\\n",
       "0             0.0        0.0           0.0     0.0     0.0    Maham Ofracculy   \n",
       "1           109.0        9.0          25.0   549.0    44.0       Juanna Vines   \n",
       "2            43.0     3576.0           0.0  6715.0    49.0      Altark Susent   \n",
       "3             0.0     1283.0         371.0  3329.0   193.0       Solam Susent   \n",
       "4           303.0       70.0         151.0   565.0     2.0  Willy Santantines   \n",
       "...           ...        ...           ...     ...     ...                ...   \n",
       "8688          0.0     6819.0           0.0  1643.0    74.0  Gravior Noxnuther   \n",
       "8689          0.0        0.0           0.0     0.0     0.0    Kurta Mondalley   \n",
       "8690          0.0        0.0        1872.0     1.0     0.0       Fayey Connon   \n",
       "8691          0.0     1049.0           0.0   353.0  3235.0   Celeon Hontichre   \n",
       "8692        126.0     4688.0           0.0     0.0    12.0   Propsh Hontichre   \n",
       "\n",
       "      Transported  \n",
       "0           False  \n",
       "1            True  \n",
       "2           False  \n",
       "3           False  \n",
       "4            True  \n",
       "...           ...  \n",
       "8688        False  \n",
       "8689        False  \n",
       "8690         True  \n",
       "8691        False  \n",
       "8692         True  \n",
       "\n",
       "[8693 rows x 14 columns]"
      ]
     },
     "execution_count": 16,
     "metadata": {},
     "output_type": "execute_result"
    }
   ],
   "source": [
    "dataset1=pd.read_csv(\"/kaggle/input/spaceship-titanic/train.csv\")\n",
    "dataset1"
   ]
  },
  {
   "cell_type": "code",
   "execution_count": 17,
   "id": "097d8ea9",
   "metadata": {
    "execution": {
     "iopub.execute_input": "2023-03-06T11:30:55.318806Z",
     "iopub.status.busy": "2023-03-06T11:30:55.317859Z",
     "iopub.status.idle": "2023-03-06T11:30:55.324785Z",
     "shell.execute_reply": "2023-03-06T11:30:55.323395Z"
    },
    "papermill": {
     "duration": 0.026121,
     "end_time": "2023-03-06T11:30:55.327641",
     "exception": false,
     "start_time": "2023-03-06T11:30:55.301520",
     "status": "completed"
    },
    "tags": []
   },
   "outputs": [],
   "source": [
    "from sklearn.preprocessing import LabelEncoder\n",
    "l2=LabelEncoder()\n",
    "dataset1[\"Transported\"]=l2.fit_transform(dataset1[\"Transported\"])"
   ]
  },
  {
   "cell_type": "markdown",
   "id": "af3a69a4",
   "metadata": {
    "papermill": {
     "duration": 0.013968,
     "end_time": "2023-03-06T11:30:55.355785",
     "exception": false,
     "start_time": "2023-03-06T11:30:55.341817",
     "status": "completed"
    },
    "tags": []
   },
   "source": [
    "# Data Preprocessing"
   ]
  },
  {
   "cell_type": "code",
   "execution_count": 18,
   "id": "8427fea9",
   "metadata": {
    "execution": {
     "iopub.execute_input": "2023-03-06T11:30:55.385665Z",
     "iopub.status.busy": "2023-03-06T11:30:55.385240Z",
     "iopub.status.idle": "2023-03-06T11:30:55.394246Z",
     "shell.execute_reply": "2023-03-06T11:30:55.393262Z"
    },
    "papermill": {
     "duration": 0.027044,
     "end_time": "2023-03-06T11:30:55.396635",
     "exception": false,
     "start_time": "2023-03-06T11:30:55.369591",
     "status": "completed"
    },
    "tags": []
   },
   "outputs": [
    {
     "data": {
      "text/plain": [
       "0       0\n",
       "1       1\n",
       "2       0\n",
       "3       0\n",
       "4       1\n",
       "       ..\n",
       "8688    0\n",
       "8689    0\n",
       "8690    1\n",
       "8691    0\n",
       "8692    1\n",
       "Name: Transported, Length: 8693, dtype: int64"
      ]
     },
     "execution_count": 18,
     "metadata": {},
     "output_type": "execute_result"
    }
   ],
   "source": [
    "dataset1[\"Transported\"]"
   ]
  },
  {
   "cell_type": "markdown",
   "id": "7321a688",
   "metadata": {
    "papermill": {
     "duration": 0.013206,
     "end_time": "2023-03-06T11:30:55.423508",
     "exception": false,
     "start_time": "2023-03-06T11:30:55.410302",
     "status": "completed"
    },
    "tags": []
   },
   "source": [
    "# Data Slicing"
   ]
  },
  {
   "cell_type": "code",
   "execution_count": 19,
   "id": "f6f70368",
   "metadata": {
    "execution": {
     "iopub.execute_input": "2023-03-06T11:30:55.453831Z",
     "iopub.status.busy": "2023-03-06T11:30:55.453135Z",
     "iopub.status.idle": "2023-03-06T11:30:55.461032Z",
     "shell.execute_reply": "2023-03-06T11:30:55.459600Z"
    },
    "papermill": {
     "duration": 0.026555,
     "end_time": "2023-03-06T11:30:55.464042",
     "exception": false,
     "start_time": "2023-03-06T11:30:55.437487",
     "status": "completed"
    },
    "tags": []
   },
   "outputs": [],
   "source": [
    "x=dataset.iloc[:,:].values\n",
    "y=dataset1.iloc[:,-1].values"
   ]
  },
  {
   "cell_type": "code",
   "execution_count": 20,
   "id": "0645735b",
   "metadata": {
    "execution": {
     "iopub.execute_input": "2023-03-06T11:30:55.495098Z",
     "iopub.status.busy": "2023-03-06T11:30:55.494401Z",
     "iopub.status.idle": "2023-03-06T11:30:55.501497Z",
     "shell.execute_reply": "2023-03-06T11:30:55.500375Z"
    },
    "papermill": {
     "duration": 0.026309,
     "end_time": "2023-03-06T11:30:55.504073",
     "exception": false,
     "start_time": "2023-03-06T11:30:55.477764",
     "status": "completed"
    },
    "tags": []
   },
   "outputs": [
    {
     "data": {
      "text/plain": [
       "array([[0.000e+00, 1.000e+00, 0.000e+00, ..., 0.000e+00, 0.000e+00,\n",
       "        5.252e+03],\n",
       "       [1.000e+00, 0.000e+00, 0.000e+00, ..., 5.490e+02, 4.400e+01,\n",
       "        4.502e+03],\n",
       "       [2.000e+00, 1.000e+00, 0.000e+00, ..., 6.715e+03, 4.900e+01,\n",
       "        4.570e+02],\n",
       "       ...,\n",
       "       [8.690e+03, 0.000e+00, 0.000e+00, ..., 1.000e+00, 0.000e+00,\n",
       "        3.002e+03],\n",
       "       [8.691e+03, 1.000e+00, 0.000e+00, ..., 3.530e+02, 3.235e+03,\n",
       "        1.596e+03],\n",
       "       [8.692e+03, 1.000e+00, 0.000e+00, ..., 0.000e+00, 1.200e+01,\n",
       "        6.380e+03]])"
      ]
     },
     "execution_count": 20,
     "metadata": {},
     "output_type": "execute_result"
    }
   ],
   "source": [
    "x"
   ]
  },
  {
   "cell_type": "code",
   "execution_count": 21,
   "id": "cf8d028d",
   "metadata": {
    "execution": {
     "iopub.execute_input": "2023-03-06T11:30:55.534804Z",
     "iopub.status.busy": "2023-03-06T11:30:55.534108Z",
     "iopub.status.idle": "2023-03-06T11:30:55.540984Z",
     "shell.execute_reply": "2023-03-06T11:30:55.539690Z"
    },
    "papermill": {
     "duration": 0.025302,
     "end_time": "2023-03-06T11:30:55.544001",
     "exception": false,
     "start_time": "2023-03-06T11:30:55.518699",
     "status": "completed"
    },
    "tags": []
   },
   "outputs": [
    {
     "data": {
      "text/plain": [
       "array([0, 1, 0, ..., 1, 0, 1])"
      ]
     },
     "execution_count": 21,
     "metadata": {},
     "output_type": "execute_result"
    }
   ],
   "source": [
    "y"
   ]
  },
  {
   "cell_type": "code",
   "execution_count": 22,
   "id": "cd54a2c7",
   "metadata": {
    "execution": {
     "iopub.execute_input": "2023-03-06T11:30:55.574600Z",
     "iopub.status.busy": "2023-03-06T11:30:55.573473Z",
     "iopub.status.idle": "2023-03-06T11:30:55.580791Z",
     "shell.execute_reply": "2023-03-06T11:30:55.579400Z"
    },
    "papermill": {
     "duration": 0.025674,
     "end_time": "2023-03-06T11:30:55.583585",
     "exception": false,
     "start_time": "2023-03-06T11:30:55.557911",
     "status": "completed"
    },
    "tags": []
   },
   "outputs": [],
   "source": [
    "data1=dataset.iloc[:,:].values"
   ]
  },
  {
   "cell_type": "markdown",
   "id": "c6b762f2",
   "metadata": {
    "papermill": {
     "duration": 0.01413,
     "end_time": "2023-03-06T11:30:55.611657",
     "exception": false,
     "start_time": "2023-03-06T11:30:55.597527",
     "status": "completed"
    },
    "tags": []
   },
   "source": [
    "# Using Standard Scaler"
   ]
  },
  {
   "cell_type": "code",
   "execution_count": 23,
   "id": "47bbcf45",
   "metadata": {
    "execution": {
     "iopub.execute_input": "2023-03-06T11:30:55.642981Z",
     "iopub.status.busy": "2023-03-06T11:30:55.642563Z",
     "iopub.status.idle": "2023-03-06T11:30:55.656403Z",
     "shell.execute_reply": "2023-03-06T11:30:55.654615Z"
    },
    "papermill": {
     "duration": 0.032342,
     "end_time": "2023-03-06T11:30:55.659399",
     "exception": false,
     "start_time": "2023-03-06T11:30:55.627057",
     "status": "completed"
    },
    "tags": []
   },
   "outputs": [],
   "source": [
    "from sklearn.preprocessing import StandardScaler\n",
    "s1=StandardScaler()\n",
    "x=s1.fit_transform(x)\n",
    "data1=s1.fit_transform(data1)"
   ]
  },
  {
   "cell_type": "code",
   "execution_count": 24,
   "id": "35cec579",
   "metadata": {
    "execution": {
     "iopub.execute_input": "2023-03-06T11:30:55.690151Z",
     "iopub.status.busy": "2023-03-06T11:30:55.689702Z",
     "iopub.status.idle": "2023-03-06T11:30:55.696397Z",
     "shell.execute_reply": "2023-03-06T11:30:55.695389Z"
    },
    "papermill": {
     "duration": 0.025696,
     "end_time": "2023-03-06T11:30:55.699048",
     "exception": false,
     "start_time": "2023-03-06T11:30:55.673352",
     "status": "completed"
    },
    "tags": []
   },
   "outputs": [
    {
     "data": {
      "text/plain": [
       "(4277, 13)"
      ]
     },
     "execution_count": 24,
     "metadata": {},
     "output_type": "execute_result"
    }
   ],
   "source": [
    "data.shape"
   ]
  },
  {
   "cell_type": "code",
   "execution_count": 25,
   "id": "21ff2174",
   "metadata": {
    "execution": {
     "iopub.execute_input": "2023-03-06T11:30:55.729086Z",
     "iopub.status.busy": "2023-03-06T11:30:55.728672Z",
     "iopub.status.idle": "2023-03-06T11:30:55.821101Z",
     "shell.execute_reply": "2023-03-06T11:30:55.819740Z"
    },
    "papermill": {
     "duration": 0.110892,
     "end_time": "2023-03-06T11:30:55.824134",
     "exception": false,
     "start_time": "2023-03-06T11:30:55.713242",
     "status": "completed"
    },
    "tags": []
   },
   "outputs": [],
   "source": [
    "from sklearn.model_selection import train_test_split\n",
    "x_train,x_test,y_train,y_test=train_test_split(x,y,test_size=0.2,random_state=9)"
   ]
  },
  {
   "cell_type": "markdown",
   "id": "441f53fe",
   "metadata": {
    "papermill": {
     "duration": 0.013695,
     "end_time": "2023-03-06T11:30:55.851796",
     "exception": false,
     "start_time": "2023-03-06T11:30:55.838101",
     "status": "completed"
    },
    "tags": []
   },
   "source": [
    "# Using Logistic regression"
   ]
  },
  {
   "cell_type": "code",
   "execution_count": 26,
   "id": "d12de369",
   "metadata": {
    "execution": {
     "iopub.execute_input": "2023-03-06T11:30:55.882578Z",
     "iopub.status.busy": "2023-03-06T11:30:55.881357Z",
     "iopub.status.idle": "2023-03-06T11:30:56.048224Z",
     "shell.execute_reply": "2023-03-06T11:30:56.046358Z"
    },
    "papermill": {
     "duration": 0.187492,
     "end_time": "2023-03-06T11:30:56.053247",
     "exception": false,
     "start_time": "2023-03-06T11:30:55.865755",
     "status": "completed"
    },
    "tags": []
   },
   "outputs": [
    {
     "data": {
      "text/plain": [
       "LogisticRegression()"
      ]
     },
     "execution_count": 26,
     "metadata": {},
     "output_type": "execute_result"
    }
   ],
   "source": [
    "from sklearn.linear_model import LogisticRegression \n",
    "l3=LogisticRegression()\n",
    "l3.fit(x_train,y_train)"
   ]
  },
  {
   "cell_type": "code",
   "execution_count": 27,
   "id": "2ad28a15",
   "metadata": {
    "execution": {
     "iopub.execute_input": "2023-03-06T11:30:56.137988Z",
     "iopub.status.busy": "2023-03-06T11:30:56.137094Z",
     "iopub.status.idle": "2023-03-06T11:30:56.158853Z",
     "shell.execute_reply": "2023-03-06T11:30:56.157052Z"
    },
    "papermill": {
     "duration": 0.070327,
     "end_time": "2023-03-06T11:30:56.164652",
     "exception": false,
     "start_time": "2023-03-06T11:30:56.094325",
     "status": "completed"
    },
    "tags": []
   },
   "outputs": [
    {
     "data": {
      "text/plain": [
       "array([0, 0, 1, ..., 1, 1, 1])"
      ]
     },
     "execution_count": 27,
     "metadata": {},
     "output_type": "execute_result"
    }
   ],
   "source": [
    "y_pred=l3.predict(x_test)\n",
    "y_pred"
   ]
  },
  {
   "cell_type": "code",
   "execution_count": 28,
   "id": "c491f339",
   "metadata": {
    "execution": {
     "iopub.execute_input": "2023-03-06T11:30:56.246306Z",
     "iopub.status.busy": "2023-03-06T11:30:56.245410Z",
     "iopub.status.idle": "2023-03-06T11:30:56.263426Z",
     "shell.execute_reply": "2023-03-06T11:30:56.261870Z"
    },
    "papermill": {
     "duration": 0.062953,
     "end_time": "2023-03-06T11:30:56.266437",
     "exception": false,
     "start_time": "2023-03-06T11:30:56.203484",
     "status": "completed"
    },
    "tags": []
   },
   "outputs": [
    {
     "data": {
      "text/plain": [
       "76.65324899367452"
      ]
     },
     "execution_count": 28,
     "metadata": {},
     "output_type": "execute_result"
    }
   ],
   "source": [
    "from sklearn.metrics import accuracy_score\n",
    "ac=accuracy_score(y_test,y_pred)*100\n",
    "ac"
   ]
  },
  {
   "cell_type": "markdown",
   "id": "231fa333",
   "metadata": {
    "papermill": {
     "duration": 0.016521,
     "end_time": "2023-03-06T11:30:56.297195",
     "exception": false,
     "start_time": "2023-03-06T11:30:56.280674",
     "status": "completed"
    },
    "tags": []
   },
   "source": [
    "# SVM Support Vector Machine"
   ]
  },
  {
   "cell_type": "code",
   "execution_count": 29,
   "id": "c19013fa",
   "metadata": {
    "execution": {
     "iopub.execute_input": "2023-03-06T11:30:56.329988Z",
     "iopub.status.busy": "2023-03-06T11:30:56.328586Z",
     "iopub.status.idle": "2023-03-06T11:30:58.767577Z",
     "shell.execute_reply": "2023-03-06T11:30:58.765192Z"
    },
    "papermill": {
     "duration": 2.458714,
     "end_time": "2023-03-06T11:30:58.770696",
     "exception": false,
     "start_time": "2023-03-06T11:30:56.311982",
     "status": "completed"
    },
    "tags": []
   },
   "outputs": [
    {
     "data": {
      "text/plain": [
       "SVC(kernel='linear', random_state=11)"
      ]
     },
     "execution_count": 29,
     "metadata": {},
     "output_type": "execute_result"
    }
   ],
   "source": [
    "from sklearn.svm import SVC\n",
    "svc1=SVC(kernel='linear',random_state=11)\n",
    "svc1.fit(x_train,y_train)"
   ]
  },
  {
   "cell_type": "code",
   "execution_count": 30,
   "id": "1fb505b6",
   "metadata": {
    "execution": {
     "iopub.execute_input": "2023-03-06T11:30:58.807151Z",
     "iopub.status.busy": "2023-03-06T11:30:58.806710Z",
     "iopub.status.idle": "2023-03-06T11:30:59.004646Z",
     "shell.execute_reply": "2023-03-06T11:30:59.002561Z"
    },
    "papermill": {
     "duration": 0.220502,
     "end_time": "2023-03-06T11:30:59.008280",
     "exception": false,
     "start_time": "2023-03-06T11:30:58.787778",
     "status": "completed"
    },
    "tags": []
   },
   "outputs": [
    {
     "data": {
      "text/plain": [
       "array([0, 0, 1, ..., 1, 1, 1])"
      ]
     },
     "execution_count": 30,
     "metadata": {},
     "output_type": "execute_result"
    }
   ],
   "source": [
    "y_pred1=svc1.predict(x_test)\n",
    "y_pred1"
   ]
  },
  {
   "cell_type": "code",
   "execution_count": 31,
   "id": "11f729c7",
   "metadata": {
    "execution": {
     "iopub.execute_input": "2023-03-06T11:30:59.043432Z",
     "iopub.status.busy": "2023-03-06T11:30:59.041903Z",
     "iopub.status.idle": "2023-03-06T11:30:59.051206Z",
     "shell.execute_reply": "2023-03-06T11:30:59.049389Z"
    },
    "papermill": {
     "duration": 0.029876,
     "end_time": "2023-03-06T11:30:59.054862",
     "exception": false,
     "start_time": "2023-03-06T11:30:59.024986",
     "status": "completed"
    },
    "tags": []
   },
   "outputs": [
    {
     "name": "stdout",
     "output_type": "stream",
     "text": [
      "78.26336975273146\n"
     ]
    }
   ],
   "source": [
    "from sklearn.metrics import accuracy_score\n",
    "ac1=accuracy_score(y_test,y_pred1)*100\n",
    "print(ac1)"
   ]
  },
  {
   "cell_type": "code",
   "execution_count": 32,
   "id": "741e01df",
   "metadata": {
    "execution": {
     "iopub.execute_input": "2023-03-06T11:30:59.086753Z",
     "iopub.status.busy": "2023-03-06T11:30:59.085515Z",
     "iopub.status.idle": "2023-03-06T11:31:03.554935Z",
     "shell.execute_reply": "2023-03-06T11:31:03.553487Z"
    },
    "papermill": {
     "duration": 4.488341,
     "end_time": "2023-03-06T11:31:03.557772",
     "exception": false,
     "start_time": "2023-03-06T11:30:59.069431",
     "status": "completed"
    },
    "tags": []
   },
   "outputs": [
    {
     "data": {
      "text/plain": [
       "SVC(kernel='linear', random_state=11)"
      ]
     },
     "execution_count": 32,
     "metadata": {},
     "output_type": "execute_result"
    }
   ],
   "source": [
    "from sklearn.svm import SVC\n",
    "svc2=SVC(kernel='linear',random_state=11)\n",
    "svc2.fit(x,y)"
   ]
  },
  {
   "cell_type": "code",
   "execution_count": 33,
   "id": "07cea1a1",
   "metadata": {
    "execution": {
     "iopub.execute_input": "2023-03-06T11:31:03.591445Z",
     "iopub.status.busy": "2023-03-06T11:31:03.590913Z",
     "iopub.status.idle": "2023-03-06T11:31:04.187902Z",
     "shell.execute_reply": "2023-03-06T11:31:04.186462Z"
    },
    "papermill": {
     "duration": 0.616874,
     "end_time": "2023-03-06T11:31:04.190822",
     "exception": false,
     "start_time": "2023-03-06T11:31:03.573948",
     "status": "completed"
    },
    "tags": []
   },
   "outputs": [
    {
     "name": "stderr",
     "output_type": "stream",
     "text": [
      "/opt/conda/lib/python3.7/site-packages/sklearn/base.py:444: UserWarning: X has feature names, but SVC was fitted without feature names\n",
      "  f\"X has feature names, but {self.__class__.__name__} was fitted without\"\n"
     ]
    },
    {
     "data": {
      "text/plain": [
       "array([0, 0, 0, ..., 1, 1, 0])"
      ]
     },
     "execution_count": 33,
     "metadata": {},
     "output_type": "execute_result"
    }
   ],
   "source": [
    "y_pred_3=svc2.predict(data)\n",
    "y_pred_3"
   ]
  },
  {
   "cell_type": "code",
   "execution_count": 34,
   "id": "66eca3c9",
   "metadata": {
    "execution": {
     "iopub.execute_input": "2023-03-06T11:31:04.225667Z",
     "iopub.status.busy": "2023-03-06T11:31:04.225219Z",
     "iopub.status.idle": "2023-03-06T11:31:04.233365Z",
     "shell.execute_reply": "2023-03-06T11:31:04.231974Z"
    },
    "papermill": {
     "duration": 0.029657,
     "end_time": "2023-03-06T11:31:04.236198",
     "exception": false,
     "start_time": "2023-03-06T11:31:04.206541",
     "status": "completed"
    },
    "tags": []
   },
   "outputs": [],
   "source": [
    "end=[]\n",
    "for x in y_pred_3:\n",
    "    if x==0:\n",
    "        end.append(False)\n",
    "    else:\n",
    "        end.append(True)"
   ]
  },
  {
   "cell_type": "code",
   "execution_count": 35,
   "id": "420e8e7c",
   "metadata": {
    "execution": {
     "iopub.execute_input": "2023-03-06T11:31:04.268868Z",
     "iopub.status.busy": "2023-03-06T11:31:04.267898Z",
     "iopub.status.idle": "2023-03-06T11:31:04.303852Z",
     "shell.execute_reply": "2023-03-06T11:31:04.302463Z"
    },
    "papermill": {
     "duration": 0.055556,
     "end_time": "2023-03-06T11:31:04.306705",
     "exception": false,
     "start_time": "2023-03-06T11:31:04.251149",
     "status": "completed"
    },
    "tags": []
   },
   "outputs": [
    {
     "data": {
      "text/html": [
       "<div>\n",
       "<style scoped>\n",
       "    .dataframe tbody tr th:only-of-type {\n",
       "        vertical-align: middle;\n",
       "    }\n",
       "\n",
       "    .dataframe tbody tr th {\n",
       "        vertical-align: top;\n",
       "    }\n",
       "\n",
       "    .dataframe thead th {\n",
       "        text-align: right;\n",
       "    }\n",
       "</style>\n",
       "<table border=\"1\" class=\"dataframe\">\n",
       "  <thead>\n",
       "    <tr style=\"text-align: right;\">\n",
       "      <th></th>\n",
       "      <th>PassengerId</th>\n",
       "      <th>Transported</th>\n",
       "    </tr>\n",
       "  </thead>\n",
       "  <tbody>\n",
       "    <tr>\n",
       "      <th>0</th>\n",
       "      <td>0013_01</td>\n",
       "      <td>False</td>\n",
       "    </tr>\n",
       "    <tr>\n",
       "      <th>1</th>\n",
       "      <td>0018_01</td>\n",
       "      <td>False</td>\n",
       "    </tr>\n",
       "    <tr>\n",
       "      <th>2</th>\n",
       "      <td>0019_01</td>\n",
       "      <td>False</td>\n",
       "    </tr>\n",
       "    <tr>\n",
       "      <th>3</th>\n",
       "      <td>0021_01</td>\n",
       "      <td>True</td>\n",
       "    </tr>\n",
       "    <tr>\n",
       "      <th>4</th>\n",
       "      <td>0023_01</td>\n",
       "      <td>True</td>\n",
       "    </tr>\n",
       "    <tr>\n",
       "      <th>...</th>\n",
       "      <td>...</td>\n",
       "      <td>...</td>\n",
       "    </tr>\n",
       "    <tr>\n",
       "      <th>4272</th>\n",
       "      <td>9266_02</td>\n",
       "      <td>False</td>\n",
       "    </tr>\n",
       "    <tr>\n",
       "      <th>4273</th>\n",
       "      <td>9269_01</td>\n",
       "      <td>True</td>\n",
       "    </tr>\n",
       "    <tr>\n",
       "      <th>4274</th>\n",
       "      <td>9271_01</td>\n",
       "      <td>True</td>\n",
       "    </tr>\n",
       "    <tr>\n",
       "      <th>4275</th>\n",
       "      <td>9273_01</td>\n",
       "      <td>True</td>\n",
       "    </tr>\n",
       "    <tr>\n",
       "      <th>4276</th>\n",
       "      <td>9277_01</td>\n",
       "      <td>False</td>\n",
       "    </tr>\n",
       "  </tbody>\n",
       "</table>\n",
       "<p>4277 rows × 2 columns</p>\n",
       "</div>"
      ],
      "text/plain": [
       "     PassengerId  Transported\n",
       "0        0013_01        False\n",
       "1        0018_01        False\n",
       "2        0019_01        False\n",
       "3        0021_01         True\n",
       "4        0023_01         True\n",
       "...          ...          ...\n",
       "4272     9266_02        False\n",
       "4273     9269_01         True\n",
       "4274     9271_01         True\n",
       "4275     9273_01         True\n",
       "4276     9277_01        False\n",
       "\n",
       "[4277 rows x 2 columns]"
      ]
     },
     "execution_count": 35,
     "metadata": {},
     "output_type": "execute_result"
    }
   ],
   "source": [
    "end1=pd.read_csv(r\"/kaggle/input/spaceship-titanic/test.csv\")\n",
    "end1.insert(1,\"Transported\",end)\n",
    "end2=end1.iloc[:,[0,1]]\n",
    "end2"
   ]
  },
  {
   "cell_type": "code",
   "execution_count": 36,
   "id": "ec83a67a",
   "metadata": {
    "execution": {
     "iopub.execute_input": "2023-03-06T11:31:04.341396Z",
     "iopub.status.busy": "2023-03-06T11:31:04.340914Z",
     "iopub.status.idle": "2023-03-06T11:31:04.359475Z",
     "shell.execute_reply": "2023-03-06T11:31:04.358149Z"
    },
    "papermill": {
     "duration": 0.039817,
     "end_time": "2023-03-06T11:31:04.362152",
     "exception": false,
     "start_time": "2023-03-06T11:31:04.322335",
     "status": "completed"
    },
    "tags": []
   },
   "outputs": [
    {
     "data": {
      "text/html": [
       "<a href='sample_submission.csv' target='_blank'>sample_submission.csv</a><br>"
      ],
      "text/plain": [
       "/kaggle/working/sample_submission.csv"
      ]
     },
     "execution_count": 36,
     "metadata": {},
     "output_type": "execute_result"
    }
   ],
   "source": [
    "import os\n",
    "end2.to_csv(r'sample_submission.csv',index=False)\n",
    "\n",
    "\n",
    "from IPython.display import FileLink\n",
    "FileLink(r'sample_submission.csv')"
   ]
  },
  {
   "cell_type": "code",
   "execution_count": null,
   "id": "b7d962e7",
   "metadata": {
    "papermill": {
     "duration": 0.014774,
     "end_time": "2023-03-06T11:31:04.392412",
     "exception": false,
     "start_time": "2023-03-06T11:31:04.377638",
     "status": "completed"
    },
    "tags": []
   },
   "outputs": [],
   "source": []
  }
 ],
 "metadata": {
  "kernelspec": {
   "display_name": "Python 3 (ipykernel)",
   "language": "python",
   "name": "python3"
  },
  "language_info": {
   "codemirror_mode": {
    "name": "ipython",
    "version": 3
   },
   "file_extension": ".py",
   "mimetype": "text/x-python",
   "name": "python",
   "nbconvert_exporter": "python",
   "pygments_lexer": "ipython3",
   "version": "3.12.4"
  },
  "papermill": {
   "default_parameters": {},
   "duration": 24.999448,
   "end_time": "2023-03-06T11:31:05.334554",
   "environment_variables": {},
   "exception": null,
   "input_path": "__notebook__.ipynb",
   "output_path": "__notebook__.ipynb",
   "parameters": {},
   "start_time": "2023-03-06T11:30:40.335106",
   "version": "2.4.0"
  }
 },
 "nbformat": 4,
 "nbformat_minor": 5
}
