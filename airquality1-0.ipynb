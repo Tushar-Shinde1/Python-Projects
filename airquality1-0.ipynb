{
 "cells": [
  {
   "cell_type": "code",
   "execution_count": 1,
   "id": "9116a949",
   "metadata": {
    "_cell_guid": "b1076dfc-b9ad-4769-8c92-a6c4dae69d19",
    "_uuid": "8f2839f25d086af736a60e9eeb907d3b93b6e0e5",
    "execution": {
     "iopub.execute_input": "2023-01-11T07:32:18.881211Z",
     "iopub.status.busy": "2023-01-11T07:32:18.880217Z",
     "iopub.status.idle": "2023-01-11T07:32:18.899347Z",
     "shell.execute_reply": "2023-01-11T07:32:18.898079Z"
    },
    "papermill": {
     "duration": 0.030517,
     "end_time": "2023-01-11T07:32:18.901920",
     "exception": false,
     "start_time": "2023-01-11T07:32:18.871403",
     "status": "completed"
    },
    "tags": []
   },
   "outputs": [
    {
     "name": "stdout",
     "output_type": "stream",
     "text": [
      "/kaggle/input/airqualityuci/AirQualityUCI.csv\n"
     ]
    }
   ],
   "source": [
    "# This Python 3 environment comes with many helpful analytics libraries installed\n",
    "# It is defined by the kaggle/python Docker image: https://github.com/kaggle/docker-python\n",
    "# For example, here's several helpful packages to load\n",
    "\n",
    "import numpy as np # linear algebra\n",
    "import pandas as pd # data processing, CSV file I/O (e.g. pd.read_csv)\n",
    "\n",
    "# Input data files are available in the read-only \"../input/\" directory\n",
    "# For example, running this (by clicking run or pressing Shift+Enter) will list all files under the input directory\n",
    "\n",
    "import os\n",
    "for dirname, _, filenames in os.walk('/kaggle/input'):\n",
    "    for filename in filenames:\n",
    "        print(os.path.join(dirname, filename))\n",
    "\n",
    "# You can write up to 20GB to the current directory (/kaggle/working/) that gets preserved as output when you create a version using \"Save & Run All\" \n",
    "# You can also write temporary files to /kaggle/temp/, but they won't be saved outside of the current session"
   ]
  },
  {
   "cell_type": "code",
   "execution_count": 2,
   "id": "ce7b61cd",
   "metadata": {
    "execution": {
     "iopub.execute_input": "2023-01-11T07:32:18.914692Z",
     "iopub.status.busy": "2023-01-11T07:32:18.914002Z",
     "iopub.status.idle": "2023-01-11T07:32:18.918922Z",
     "shell.execute_reply": "2023-01-11T07:32:18.917991Z"
    },
    "papermill": {
     "duration": 0.014113,
     "end_time": "2023-01-11T07:32:18.921355",
     "exception": false,
     "start_time": "2023-01-11T07:32:18.907242",
     "status": "completed"
    },
    "tags": []
   },
   "outputs": [],
   "source": [
    "import pandas as pd\n",
    "import numpy as np"
   ]
  },
  {
   "cell_type": "code",
   "execution_count": 3,
   "id": "cb13268c",
   "metadata": {
    "execution": {
     "iopub.execute_input": "2023-01-11T07:32:18.934127Z",
     "iopub.status.busy": "2023-01-11T07:32:18.933374Z",
     "iopub.status.idle": "2023-01-11T07:32:19.018966Z",
     "shell.execute_reply": "2023-01-11T07:32:19.017706Z"
    },
    "papermill": {
     "duration": 0.094745,
     "end_time": "2023-01-11T07:32:19.021450",
     "exception": false,
     "start_time": "2023-01-11T07:32:18.926705",
     "status": "completed"
    },
    "tags": []
   },
   "outputs": [
    {
     "data": {
      "text/html": [
       "<div>\n",
       "<style scoped>\n",
       "    .dataframe tbody tr th:only-of-type {\n",
       "        vertical-align: middle;\n",
       "    }\n",
       "\n",
       "    .dataframe tbody tr th {\n",
       "        vertical-align: top;\n",
       "    }\n",
       "\n",
       "    .dataframe thead th {\n",
       "        text-align: right;\n",
       "    }\n",
       "</style>\n",
       "<table border=\"1\" class=\"dataframe\">\n",
       "  <thead>\n",
       "    <tr style=\"text-align: right;\">\n",
       "      <th></th>\n",
       "      <th>Date</th>\n",
       "      <th>Time</th>\n",
       "      <th>CO(GT)</th>\n",
       "      <th>PT08.S1(CO)</th>\n",
       "      <th>NMHC(GT)</th>\n",
       "      <th>C6H6(GT)</th>\n",
       "      <th>PT08.S2(NMHC)</th>\n",
       "      <th>NOx(GT)</th>\n",
       "      <th>PT08.S3(NOx)</th>\n",
       "      <th>NO2(GT)</th>\n",
       "      <th>PT08.S4(NO2)</th>\n",
       "      <th>PT08.S5(O3)</th>\n",
       "      <th>T</th>\n",
       "      <th>RH</th>\n",
       "      <th>AH</th>\n",
       "      <th>Unnamed: 15</th>\n",
       "      <th>Unnamed: 16</th>\n",
       "    </tr>\n",
       "  </thead>\n",
       "  <tbody>\n",
       "    <tr>\n",
       "      <th>0</th>\n",
       "      <td>10-03-2004</td>\n",
       "      <td>18:00:00</td>\n",
       "      <td>2.6</td>\n",
       "      <td>1360.0</td>\n",
       "      <td>150.0</td>\n",
       "      <td>11.9</td>\n",
       "      <td>1046.0</td>\n",
       "      <td>166.0</td>\n",
       "      <td>1056.0</td>\n",
       "      <td>113.0</td>\n",
       "      <td>1692.0</td>\n",
       "      <td>1268.0</td>\n",
       "      <td>13.6</td>\n",
       "      <td>48.9</td>\n",
       "      <td>0.7578</td>\n",
       "      <td>NaN</td>\n",
       "      <td>NaN</td>\n",
       "    </tr>\n",
       "    <tr>\n",
       "      <th>1</th>\n",
       "      <td>10-03-2004</td>\n",
       "      <td>19:00:00</td>\n",
       "      <td>2.0</td>\n",
       "      <td>1292.0</td>\n",
       "      <td>112.0</td>\n",
       "      <td>9.4</td>\n",
       "      <td>955.0</td>\n",
       "      <td>103.0</td>\n",
       "      <td>1174.0</td>\n",
       "      <td>92.0</td>\n",
       "      <td>1559.0</td>\n",
       "      <td>972.0</td>\n",
       "      <td>13.3</td>\n",
       "      <td>47.7</td>\n",
       "      <td>0.7255</td>\n",
       "      <td>NaN</td>\n",
       "      <td>NaN</td>\n",
       "    </tr>\n",
       "    <tr>\n",
       "      <th>2</th>\n",
       "      <td>10-03-2004</td>\n",
       "      <td>20:00:00</td>\n",
       "      <td>2.2</td>\n",
       "      <td>1402.0</td>\n",
       "      <td>88.0</td>\n",
       "      <td>9.0</td>\n",
       "      <td>939.0</td>\n",
       "      <td>131.0</td>\n",
       "      <td>1140.0</td>\n",
       "      <td>114.0</td>\n",
       "      <td>1555.0</td>\n",
       "      <td>1074.0</td>\n",
       "      <td>11.9</td>\n",
       "      <td>54.0</td>\n",
       "      <td>0.7502</td>\n",
       "      <td>NaN</td>\n",
       "      <td>NaN</td>\n",
       "    </tr>\n",
       "    <tr>\n",
       "      <th>3</th>\n",
       "      <td>10-03-2004</td>\n",
       "      <td>21:00:00</td>\n",
       "      <td>2.2</td>\n",
       "      <td>1376.0</td>\n",
       "      <td>80.0</td>\n",
       "      <td>9.2</td>\n",
       "      <td>948.0</td>\n",
       "      <td>172.0</td>\n",
       "      <td>1092.0</td>\n",
       "      <td>122.0</td>\n",
       "      <td>1584.0</td>\n",
       "      <td>1203.0</td>\n",
       "      <td>11.0</td>\n",
       "      <td>60.0</td>\n",
       "      <td>0.7867</td>\n",
       "      <td>NaN</td>\n",
       "      <td>NaN</td>\n",
       "    </tr>\n",
       "    <tr>\n",
       "      <th>4</th>\n",
       "      <td>10-03-2004</td>\n",
       "      <td>22:00:00</td>\n",
       "      <td>1.6</td>\n",
       "      <td>1272.0</td>\n",
       "      <td>51.0</td>\n",
       "      <td>6.5</td>\n",
       "      <td>836.0</td>\n",
       "      <td>131.0</td>\n",
       "      <td>1205.0</td>\n",
       "      <td>116.0</td>\n",
       "      <td>1490.0</td>\n",
       "      <td>1110.0</td>\n",
       "      <td>11.2</td>\n",
       "      <td>59.6</td>\n",
       "      <td>0.7888</td>\n",
       "      <td>NaN</td>\n",
       "      <td>NaN</td>\n",
       "    </tr>\n",
       "    <tr>\n",
       "      <th>...</th>\n",
       "      <td>...</td>\n",
       "      <td>...</td>\n",
       "      <td>...</td>\n",
       "      <td>...</td>\n",
       "      <td>...</td>\n",
       "      <td>...</td>\n",
       "      <td>...</td>\n",
       "      <td>...</td>\n",
       "      <td>...</td>\n",
       "      <td>...</td>\n",
       "      <td>...</td>\n",
       "      <td>...</td>\n",
       "      <td>...</td>\n",
       "      <td>...</td>\n",
       "      <td>...</td>\n",
       "      <td>...</td>\n",
       "      <td>...</td>\n",
       "    </tr>\n",
       "    <tr>\n",
       "      <th>9466</th>\n",
       "      <td>NaN</td>\n",
       "      <td>NaN</td>\n",
       "      <td>NaN</td>\n",
       "      <td>NaN</td>\n",
       "      <td>NaN</td>\n",
       "      <td>NaN</td>\n",
       "      <td>NaN</td>\n",
       "      <td>NaN</td>\n",
       "      <td>NaN</td>\n",
       "      <td>NaN</td>\n",
       "      <td>NaN</td>\n",
       "      <td>NaN</td>\n",
       "      <td>NaN</td>\n",
       "      <td>NaN</td>\n",
       "      <td>NaN</td>\n",
       "      <td>NaN</td>\n",
       "      <td>NaN</td>\n",
       "    </tr>\n",
       "    <tr>\n",
       "      <th>9467</th>\n",
       "      <td>NaN</td>\n",
       "      <td>NaN</td>\n",
       "      <td>NaN</td>\n",
       "      <td>NaN</td>\n",
       "      <td>NaN</td>\n",
       "      <td>NaN</td>\n",
       "      <td>NaN</td>\n",
       "      <td>NaN</td>\n",
       "      <td>NaN</td>\n",
       "      <td>NaN</td>\n",
       "      <td>NaN</td>\n",
       "      <td>NaN</td>\n",
       "      <td>NaN</td>\n",
       "      <td>NaN</td>\n",
       "      <td>NaN</td>\n",
       "      <td>NaN</td>\n",
       "      <td>NaN</td>\n",
       "    </tr>\n",
       "    <tr>\n",
       "      <th>9468</th>\n",
       "      <td>NaN</td>\n",
       "      <td>NaN</td>\n",
       "      <td>NaN</td>\n",
       "      <td>NaN</td>\n",
       "      <td>NaN</td>\n",
       "      <td>NaN</td>\n",
       "      <td>NaN</td>\n",
       "      <td>NaN</td>\n",
       "      <td>NaN</td>\n",
       "      <td>NaN</td>\n",
       "      <td>NaN</td>\n",
       "      <td>NaN</td>\n",
       "      <td>NaN</td>\n",
       "      <td>NaN</td>\n",
       "      <td>NaN</td>\n",
       "      <td>NaN</td>\n",
       "      <td>NaN</td>\n",
       "    </tr>\n",
       "    <tr>\n",
       "      <th>9469</th>\n",
       "      <td>NaN</td>\n",
       "      <td>NaN</td>\n",
       "      <td>NaN</td>\n",
       "      <td>NaN</td>\n",
       "      <td>NaN</td>\n",
       "      <td>NaN</td>\n",
       "      <td>NaN</td>\n",
       "      <td>NaN</td>\n",
       "      <td>NaN</td>\n",
       "      <td>NaN</td>\n",
       "      <td>NaN</td>\n",
       "      <td>NaN</td>\n",
       "      <td>NaN</td>\n",
       "      <td>NaN</td>\n",
       "      <td>NaN</td>\n",
       "      <td>NaN</td>\n",
       "      <td>NaN</td>\n",
       "    </tr>\n",
       "    <tr>\n",
       "      <th>9470</th>\n",
       "      <td>NaN</td>\n",
       "      <td>NaN</td>\n",
       "      <td>NaN</td>\n",
       "      <td>NaN</td>\n",
       "      <td>NaN</td>\n",
       "      <td>NaN</td>\n",
       "      <td>NaN</td>\n",
       "      <td>NaN</td>\n",
       "      <td>NaN</td>\n",
       "      <td>NaN</td>\n",
       "      <td>NaN</td>\n",
       "      <td>NaN</td>\n",
       "      <td>NaN</td>\n",
       "      <td>NaN</td>\n",
       "      <td>NaN</td>\n",
       "      <td>NaN</td>\n",
       "      <td>NaN</td>\n",
       "    </tr>\n",
       "  </tbody>\n",
       "</table>\n",
       "<p>9471 rows × 17 columns</p>\n",
       "</div>"
      ],
      "text/plain": [
       "            Date      Time  CO(GT)  PT08.S1(CO)  NMHC(GT)  C6H6(GT)  \\\n",
       "0     10-03-2004  18:00:00     2.6       1360.0     150.0      11.9   \n",
       "1     10-03-2004  19:00:00     2.0       1292.0     112.0       9.4   \n",
       "2     10-03-2004  20:00:00     2.2       1402.0      88.0       9.0   \n",
       "3     10-03-2004  21:00:00     2.2       1376.0      80.0       9.2   \n",
       "4     10-03-2004  22:00:00     1.6       1272.0      51.0       6.5   \n",
       "...          ...       ...     ...          ...       ...       ...   \n",
       "9466         NaN       NaN     NaN          NaN       NaN       NaN   \n",
       "9467         NaN       NaN     NaN          NaN       NaN       NaN   \n",
       "9468         NaN       NaN     NaN          NaN       NaN       NaN   \n",
       "9469         NaN       NaN     NaN          NaN       NaN       NaN   \n",
       "9470         NaN       NaN     NaN          NaN       NaN       NaN   \n",
       "\n",
       "      PT08.S2(NMHC)  NOx(GT)  PT08.S3(NOx)  NO2(GT)  PT08.S4(NO2)  \\\n",
       "0            1046.0    166.0        1056.0    113.0        1692.0   \n",
       "1             955.0    103.0        1174.0     92.0        1559.0   \n",
       "2             939.0    131.0        1140.0    114.0        1555.0   \n",
       "3             948.0    172.0        1092.0    122.0        1584.0   \n",
       "4             836.0    131.0        1205.0    116.0        1490.0   \n",
       "...             ...      ...           ...      ...           ...   \n",
       "9466            NaN      NaN           NaN      NaN           NaN   \n",
       "9467            NaN      NaN           NaN      NaN           NaN   \n",
       "9468            NaN      NaN           NaN      NaN           NaN   \n",
       "9469            NaN      NaN           NaN      NaN           NaN   \n",
       "9470            NaN      NaN           NaN      NaN           NaN   \n",
       "\n",
       "      PT08.S5(O3)     T    RH      AH  Unnamed: 15  Unnamed: 16  \n",
       "0          1268.0  13.6  48.9  0.7578          NaN          NaN  \n",
       "1           972.0  13.3  47.7  0.7255          NaN          NaN  \n",
       "2          1074.0  11.9  54.0  0.7502          NaN          NaN  \n",
       "3          1203.0  11.0  60.0  0.7867          NaN          NaN  \n",
       "4          1110.0  11.2  59.6  0.7888          NaN          NaN  \n",
       "...           ...   ...   ...     ...          ...          ...  \n",
       "9466          NaN   NaN   NaN     NaN          NaN          NaN  \n",
       "9467          NaN   NaN   NaN     NaN          NaN          NaN  \n",
       "9468          NaN   NaN   NaN     NaN          NaN          NaN  \n",
       "9469          NaN   NaN   NaN     NaN          NaN          NaN  \n",
       "9470          NaN   NaN   NaN     NaN          NaN          NaN  \n",
       "\n",
       "[9471 rows x 17 columns]"
      ]
     },
     "execution_count": 3,
     "metadata": {},
     "output_type": "execute_result"
    }
   ],
   "source": [
    "data=pd.read_csv(\"/kaggle/input/airqualityuci/AirQualityUCI.csv\")\n",
    "data"
   ]
  },
  {
   "cell_type": "code",
   "execution_count": 4,
   "id": "f9a7a7a7",
   "metadata": {
    "execution": {
     "iopub.execute_input": "2023-01-11T07:32:19.034485Z",
     "iopub.status.busy": "2023-01-11T07:32:19.034097Z",
     "iopub.status.idle": "2023-01-11T07:32:19.060806Z",
     "shell.execute_reply": "2023-01-11T07:32:19.059239Z"
    },
    "papermill": {
     "duration": 0.036639,
     "end_time": "2023-01-11T07:32:19.063721",
     "exception": false,
     "start_time": "2023-01-11T07:32:19.027082",
     "status": "completed"
    },
    "tags": []
   },
   "outputs": [
    {
     "name": "stdout",
     "output_type": "stream",
     "text": [
      "<class 'pandas.core.frame.DataFrame'>\n",
      "RangeIndex: 9471 entries, 0 to 9470\n",
      "Data columns (total 17 columns):\n",
      " #   Column         Non-Null Count  Dtype  \n",
      "---  ------         --------------  -----  \n",
      " 0   Date           9357 non-null   object \n",
      " 1   Time           9357 non-null   object \n",
      " 2   CO(GT)         9357 non-null   float64\n",
      " 3   PT08.S1(CO)    9357 non-null   float64\n",
      " 4   NMHC(GT)       9357 non-null   float64\n",
      " 5   C6H6(GT)       9357 non-null   float64\n",
      " 6   PT08.S2(NMHC)  9357 non-null   float64\n",
      " 7   NOx(GT)        9357 non-null   float64\n",
      " 8   PT08.S3(NOx)   9357 non-null   float64\n",
      " 9   NO2(GT)        9357 non-null   float64\n",
      " 10  PT08.S4(NO2)   9357 non-null   float64\n",
      " 11  PT08.S5(O3)    9357 non-null   float64\n",
      " 12  T              9357 non-null   float64\n",
      " 13  RH             9357 non-null   float64\n",
      " 14  AH             9357 non-null   float64\n",
      " 15  Unnamed: 15    0 non-null      float64\n",
      " 16  Unnamed: 16    0 non-null      float64\n",
      "dtypes: float64(15), object(2)\n",
      "memory usage: 1.2+ MB\n"
     ]
    }
   ],
   "source": [
    "data.info()"
   ]
  },
  {
   "cell_type": "code",
   "execution_count": 5,
   "id": "a13f122f",
   "metadata": {
    "execution": {
     "iopub.execute_input": "2023-01-11T07:32:19.077071Z",
     "iopub.status.busy": "2023-01-11T07:32:19.076642Z",
     "iopub.status.idle": "2023-01-11T07:32:19.086692Z",
     "shell.execute_reply": "2023-01-11T07:32:19.085785Z"
    },
    "papermill": {
     "duration": 0.019401,
     "end_time": "2023-01-11T07:32:19.088822",
     "exception": false,
     "start_time": "2023-01-11T07:32:19.069421",
     "status": "completed"
    },
    "tags": []
   },
   "outputs": [
    {
     "data": {
      "text/plain": [
       "Date              114\n",
       "Time              114\n",
       "CO(GT)            114\n",
       "PT08.S1(CO)       114\n",
       "NMHC(GT)          114\n",
       "C6H6(GT)          114\n",
       "PT08.S2(NMHC)     114\n",
       "NOx(GT)           114\n",
       "PT08.S3(NOx)      114\n",
       "NO2(GT)           114\n",
       "PT08.S4(NO2)      114\n",
       "PT08.S5(O3)       114\n",
       "T                 114\n",
       "RH                114\n",
       "AH                114\n",
       "Unnamed: 15      9471\n",
       "Unnamed: 16      9471\n",
       "dtype: int64"
      ]
     },
     "execution_count": 5,
     "metadata": {},
     "output_type": "execute_result"
    }
   ],
   "source": [
    "data.isnull().sum()"
   ]
  },
  {
   "cell_type": "code",
   "execution_count": 6,
   "id": "db2ed53d",
   "metadata": {
    "execution": {
     "iopub.execute_input": "2023-01-11T07:32:19.103381Z",
     "iopub.status.busy": "2023-01-11T07:32:19.102594Z",
     "iopub.status.idle": "2023-01-11T07:32:19.109620Z",
     "shell.execute_reply": "2023-01-11T07:32:19.108804Z"
    },
    "papermill": {
     "duration": 0.017263,
     "end_time": "2023-01-11T07:32:19.111831",
     "exception": false,
     "start_time": "2023-01-11T07:32:19.094568",
     "status": "completed"
    },
    "tags": []
   },
   "outputs": [],
   "source": [
    "dataset=data.fillna(1000)"
   ]
  },
  {
   "cell_type": "code",
   "execution_count": 7,
   "id": "e54f4d47",
   "metadata": {
    "execution": {
     "iopub.execute_input": "2023-01-11T07:32:19.125499Z",
     "iopub.status.busy": "2023-01-11T07:32:19.124790Z",
     "iopub.status.idle": "2023-01-11T07:32:19.159527Z",
     "shell.execute_reply": "2023-01-11T07:32:19.158294Z"
    },
    "papermill": {
     "duration": 0.044279,
     "end_time": "2023-01-11T07:32:19.161882",
     "exception": false,
     "start_time": "2023-01-11T07:32:19.117603",
     "status": "completed"
    },
    "tags": []
   },
   "outputs": [
    {
     "data": {
      "text/html": [
       "<div>\n",
       "<style scoped>\n",
       "    .dataframe tbody tr th:only-of-type {\n",
       "        vertical-align: middle;\n",
       "    }\n",
       "\n",
       "    .dataframe tbody tr th {\n",
       "        vertical-align: top;\n",
       "    }\n",
       "\n",
       "    .dataframe thead th {\n",
       "        text-align: right;\n",
       "    }\n",
       "</style>\n",
       "<table border=\"1\" class=\"dataframe\">\n",
       "  <thead>\n",
       "    <tr style=\"text-align: right;\">\n",
       "      <th></th>\n",
       "      <th>Date</th>\n",
       "      <th>Time</th>\n",
       "      <th>CO(GT)</th>\n",
       "      <th>PT08.S1(CO)</th>\n",
       "      <th>NMHC(GT)</th>\n",
       "      <th>C6H6(GT)</th>\n",
       "      <th>PT08.S2(NMHC)</th>\n",
       "      <th>NOx(GT)</th>\n",
       "      <th>PT08.S3(NOx)</th>\n",
       "      <th>NO2(GT)</th>\n",
       "      <th>PT08.S4(NO2)</th>\n",
       "      <th>PT08.S5(O3)</th>\n",
       "      <th>T</th>\n",
       "      <th>RH</th>\n",
       "      <th>AH</th>\n",
       "      <th>Unnamed: 15</th>\n",
       "      <th>Unnamed: 16</th>\n",
       "    </tr>\n",
       "  </thead>\n",
       "  <tbody>\n",
       "    <tr>\n",
       "      <th>0</th>\n",
       "      <td>10-03-2004</td>\n",
       "      <td>18:00:00</td>\n",
       "      <td>2.6</td>\n",
       "      <td>1360.0</td>\n",
       "      <td>150.0</td>\n",
       "      <td>11.9</td>\n",
       "      <td>1046.0</td>\n",
       "      <td>166.0</td>\n",
       "      <td>1056.0</td>\n",
       "      <td>113.0</td>\n",
       "      <td>1692.0</td>\n",
       "      <td>1268.0</td>\n",
       "      <td>13.6</td>\n",
       "      <td>48.9</td>\n",
       "      <td>0.7578</td>\n",
       "      <td>1000.0</td>\n",
       "      <td>1000.0</td>\n",
       "    </tr>\n",
       "    <tr>\n",
       "      <th>1</th>\n",
       "      <td>10-03-2004</td>\n",
       "      <td>19:00:00</td>\n",
       "      <td>2.0</td>\n",
       "      <td>1292.0</td>\n",
       "      <td>112.0</td>\n",
       "      <td>9.4</td>\n",
       "      <td>955.0</td>\n",
       "      <td>103.0</td>\n",
       "      <td>1174.0</td>\n",
       "      <td>92.0</td>\n",
       "      <td>1559.0</td>\n",
       "      <td>972.0</td>\n",
       "      <td>13.3</td>\n",
       "      <td>47.7</td>\n",
       "      <td>0.7255</td>\n",
       "      <td>1000.0</td>\n",
       "      <td>1000.0</td>\n",
       "    </tr>\n",
       "    <tr>\n",
       "      <th>2</th>\n",
       "      <td>10-03-2004</td>\n",
       "      <td>20:00:00</td>\n",
       "      <td>2.2</td>\n",
       "      <td>1402.0</td>\n",
       "      <td>88.0</td>\n",
       "      <td>9.0</td>\n",
       "      <td>939.0</td>\n",
       "      <td>131.0</td>\n",
       "      <td>1140.0</td>\n",
       "      <td>114.0</td>\n",
       "      <td>1555.0</td>\n",
       "      <td>1074.0</td>\n",
       "      <td>11.9</td>\n",
       "      <td>54.0</td>\n",
       "      <td>0.7502</td>\n",
       "      <td>1000.0</td>\n",
       "      <td>1000.0</td>\n",
       "    </tr>\n",
       "    <tr>\n",
       "      <th>3</th>\n",
       "      <td>10-03-2004</td>\n",
       "      <td>21:00:00</td>\n",
       "      <td>2.2</td>\n",
       "      <td>1376.0</td>\n",
       "      <td>80.0</td>\n",
       "      <td>9.2</td>\n",
       "      <td>948.0</td>\n",
       "      <td>172.0</td>\n",
       "      <td>1092.0</td>\n",
       "      <td>122.0</td>\n",
       "      <td>1584.0</td>\n",
       "      <td>1203.0</td>\n",
       "      <td>11.0</td>\n",
       "      <td>60.0</td>\n",
       "      <td>0.7867</td>\n",
       "      <td>1000.0</td>\n",
       "      <td>1000.0</td>\n",
       "    </tr>\n",
       "    <tr>\n",
       "      <th>4</th>\n",
       "      <td>10-03-2004</td>\n",
       "      <td>22:00:00</td>\n",
       "      <td>1.6</td>\n",
       "      <td>1272.0</td>\n",
       "      <td>51.0</td>\n",
       "      <td>6.5</td>\n",
       "      <td>836.0</td>\n",
       "      <td>131.0</td>\n",
       "      <td>1205.0</td>\n",
       "      <td>116.0</td>\n",
       "      <td>1490.0</td>\n",
       "      <td>1110.0</td>\n",
       "      <td>11.2</td>\n",
       "      <td>59.6</td>\n",
       "      <td>0.7888</td>\n",
       "      <td>1000.0</td>\n",
       "      <td>1000.0</td>\n",
       "    </tr>\n",
       "    <tr>\n",
       "      <th>...</th>\n",
       "      <td>...</td>\n",
       "      <td>...</td>\n",
       "      <td>...</td>\n",
       "      <td>...</td>\n",
       "      <td>...</td>\n",
       "      <td>...</td>\n",
       "      <td>...</td>\n",
       "      <td>...</td>\n",
       "      <td>...</td>\n",
       "      <td>...</td>\n",
       "      <td>...</td>\n",
       "      <td>...</td>\n",
       "      <td>...</td>\n",
       "      <td>...</td>\n",
       "      <td>...</td>\n",
       "      <td>...</td>\n",
       "      <td>...</td>\n",
       "    </tr>\n",
       "    <tr>\n",
       "      <th>9466</th>\n",
       "      <td>1000</td>\n",
       "      <td>1000</td>\n",
       "      <td>1000.0</td>\n",
       "      <td>1000.0</td>\n",
       "      <td>1000.0</td>\n",
       "      <td>1000.0</td>\n",
       "      <td>1000.0</td>\n",
       "      <td>1000.0</td>\n",
       "      <td>1000.0</td>\n",
       "      <td>1000.0</td>\n",
       "      <td>1000.0</td>\n",
       "      <td>1000.0</td>\n",
       "      <td>1000.0</td>\n",
       "      <td>1000.0</td>\n",
       "      <td>1000.0000</td>\n",
       "      <td>1000.0</td>\n",
       "      <td>1000.0</td>\n",
       "    </tr>\n",
       "    <tr>\n",
       "      <th>9467</th>\n",
       "      <td>1000</td>\n",
       "      <td>1000</td>\n",
       "      <td>1000.0</td>\n",
       "      <td>1000.0</td>\n",
       "      <td>1000.0</td>\n",
       "      <td>1000.0</td>\n",
       "      <td>1000.0</td>\n",
       "      <td>1000.0</td>\n",
       "      <td>1000.0</td>\n",
       "      <td>1000.0</td>\n",
       "      <td>1000.0</td>\n",
       "      <td>1000.0</td>\n",
       "      <td>1000.0</td>\n",
       "      <td>1000.0</td>\n",
       "      <td>1000.0000</td>\n",
       "      <td>1000.0</td>\n",
       "      <td>1000.0</td>\n",
       "    </tr>\n",
       "    <tr>\n",
       "      <th>9468</th>\n",
       "      <td>1000</td>\n",
       "      <td>1000</td>\n",
       "      <td>1000.0</td>\n",
       "      <td>1000.0</td>\n",
       "      <td>1000.0</td>\n",
       "      <td>1000.0</td>\n",
       "      <td>1000.0</td>\n",
       "      <td>1000.0</td>\n",
       "      <td>1000.0</td>\n",
       "      <td>1000.0</td>\n",
       "      <td>1000.0</td>\n",
       "      <td>1000.0</td>\n",
       "      <td>1000.0</td>\n",
       "      <td>1000.0</td>\n",
       "      <td>1000.0000</td>\n",
       "      <td>1000.0</td>\n",
       "      <td>1000.0</td>\n",
       "    </tr>\n",
       "    <tr>\n",
       "      <th>9469</th>\n",
       "      <td>1000</td>\n",
       "      <td>1000</td>\n",
       "      <td>1000.0</td>\n",
       "      <td>1000.0</td>\n",
       "      <td>1000.0</td>\n",
       "      <td>1000.0</td>\n",
       "      <td>1000.0</td>\n",
       "      <td>1000.0</td>\n",
       "      <td>1000.0</td>\n",
       "      <td>1000.0</td>\n",
       "      <td>1000.0</td>\n",
       "      <td>1000.0</td>\n",
       "      <td>1000.0</td>\n",
       "      <td>1000.0</td>\n",
       "      <td>1000.0000</td>\n",
       "      <td>1000.0</td>\n",
       "      <td>1000.0</td>\n",
       "    </tr>\n",
       "    <tr>\n",
       "      <th>9470</th>\n",
       "      <td>1000</td>\n",
       "      <td>1000</td>\n",
       "      <td>1000.0</td>\n",
       "      <td>1000.0</td>\n",
       "      <td>1000.0</td>\n",
       "      <td>1000.0</td>\n",
       "      <td>1000.0</td>\n",
       "      <td>1000.0</td>\n",
       "      <td>1000.0</td>\n",
       "      <td>1000.0</td>\n",
       "      <td>1000.0</td>\n",
       "      <td>1000.0</td>\n",
       "      <td>1000.0</td>\n",
       "      <td>1000.0</td>\n",
       "      <td>1000.0000</td>\n",
       "      <td>1000.0</td>\n",
       "      <td>1000.0</td>\n",
       "    </tr>\n",
       "  </tbody>\n",
       "</table>\n",
       "<p>9471 rows × 17 columns</p>\n",
       "</div>"
      ],
      "text/plain": [
       "            Date      Time  CO(GT)  PT08.S1(CO)  NMHC(GT)  C6H6(GT)  \\\n",
       "0     10-03-2004  18:00:00     2.6       1360.0     150.0      11.9   \n",
       "1     10-03-2004  19:00:00     2.0       1292.0     112.0       9.4   \n",
       "2     10-03-2004  20:00:00     2.2       1402.0      88.0       9.0   \n",
       "3     10-03-2004  21:00:00     2.2       1376.0      80.0       9.2   \n",
       "4     10-03-2004  22:00:00     1.6       1272.0      51.0       6.5   \n",
       "...          ...       ...     ...          ...       ...       ...   \n",
       "9466        1000      1000  1000.0       1000.0    1000.0    1000.0   \n",
       "9467        1000      1000  1000.0       1000.0    1000.0    1000.0   \n",
       "9468        1000      1000  1000.0       1000.0    1000.0    1000.0   \n",
       "9469        1000      1000  1000.0       1000.0    1000.0    1000.0   \n",
       "9470        1000      1000  1000.0       1000.0    1000.0    1000.0   \n",
       "\n",
       "      PT08.S2(NMHC)  NOx(GT)  PT08.S3(NOx)  NO2(GT)  PT08.S4(NO2)  \\\n",
       "0            1046.0    166.0        1056.0    113.0        1692.0   \n",
       "1             955.0    103.0        1174.0     92.0        1559.0   \n",
       "2             939.0    131.0        1140.0    114.0        1555.0   \n",
       "3             948.0    172.0        1092.0    122.0        1584.0   \n",
       "4             836.0    131.0        1205.0    116.0        1490.0   \n",
       "...             ...      ...           ...      ...           ...   \n",
       "9466         1000.0   1000.0        1000.0   1000.0        1000.0   \n",
       "9467         1000.0   1000.0        1000.0   1000.0        1000.0   \n",
       "9468         1000.0   1000.0        1000.0   1000.0        1000.0   \n",
       "9469         1000.0   1000.0        1000.0   1000.0        1000.0   \n",
       "9470         1000.0   1000.0        1000.0   1000.0        1000.0   \n",
       "\n",
       "      PT08.S5(O3)       T      RH         AH  Unnamed: 15  Unnamed: 16  \n",
       "0          1268.0    13.6    48.9     0.7578       1000.0       1000.0  \n",
       "1           972.0    13.3    47.7     0.7255       1000.0       1000.0  \n",
       "2          1074.0    11.9    54.0     0.7502       1000.0       1000.0  \n",
       "3          1203.0    11.0    60.0     0.7867       1000.0       1000.0  \n",
       "4          1110.0    11.2    59.6     0.7888       1000.0       1000.0  \n",
       "...           ...     ...     ...        ...          ...          ...  \n",
       "9466       1000.0  1000.0  1000.0  1000.0000       1000.0       1000.0  \n",
       "9467       1000.0  1000.0  1000.0  1000.0000       1000.0       1000.0  \n",
       "9468       1000.0  1000.0  1000.0  1000.0000       1000.0       1000.0  \n",
       "9469       1000.0  1000.0  1000.0  1000.0000       1000.0       1000.0  \n",
       "9470       1000.0  1000.0  1000.0  1000.0000       1000.0       1000.0  \n",
       "\n",
       "[9471 rows x 17 columns]"
      ]
     },
     "execution_count": 7,
     "metadata": {},
     "output_type": "execute_result"
    }
   ],
   "source": [
    "dataset"
   ]
  },
  {
   "cell_type": "code",
   "execution_count": 8,
   "id": "9caab040",
   "metadata": {
    "execution": {
     "iopub.execute_input": "2023-01-11T07:32:19.176467Z",
     "iopub.status.busy": "2023-01-11T07:32:19.176039Z",
     "iopub.status.idle": "2023-01-11T07:32:19.187641Z",
     "shell.execute_reply": "2023-01-11T07:32:19.186472Z"
    },
    "papermill": {
     "duration": 0.021508,
     "end_time": "2023-01-11T07:32:19.189859",
     "exception": false,
     "start_time": "2023-01-11T07:32:19.168351",
     "status": "completed"
    },
    "tags": []
   },
   "outputs": [
    {
     "data": {
      "text/plain": [
       "Date             False\n",
       "Time             False\n",
       "CO(GT)           False\n",
       "PT08.S1(CO)      False\n",
       "NMHC(GT)         False\n",
       "C6H6(GT)         False\n",
       "PT08.S2(NMHC)    False\n",
       "NOx(GT)          False\n",
       "PT08.S3(NOx)     False\n",
       "NO2(GT)          False\n",
       "PT08.S4(NO2)     False\n",
       "PT08.S5(O3)      False\n",
       "T                False\n",
       "RH               False\n",
       "AH               False\n",
       "Unnamed: 15      False\n",
       "Unnamed: 16      False\n",
       "dtype: bool"
      ]
     },
     "execution_count": 8,
     "metadata": {},
     "output_type": "execute_result"
    }
   ],
   "source": [
    "dataset.isnull().any()"
   ]
  },
  {
   "cell_type": "code",
   "execution_count": 9,
   "id": "a6f676fb",
   "metadata": {
    "execution": {
     "iopub.execute_input": "2023-01-11T07:32:19.206484Z",
     "iopub.status.busy": "2023-01-11T07:32:19.206065Z",
     "iopub.status.idle": "2023-01-11T07:32:19.216936Z",
     "shell.execute_reply": "2023-01-11T07:32:19.216025Z"
    },
    "papermill": {
     "duration": 0.022566,
     "end_time": "2023-01-11T07:32:19.219058",
     "exception": false,
     "start_time": "2023-01-11T07:32:19.196492",
     "status": "completed"
    },
    "tags": []
   },
   "outputs": [
    {
     "data": {
      "text/plain": [
       "array([[   2.6, 1360. ,  150. , ..., 1268. ,   13.6,   48.9],\n",
       "       [   2. , 1292. ,  112. , ...,  972. ,   13.3,   47.7],\n",
       "       [   2.2, 1402. ,   88. , ..., 1074. ,   11.9,   54. ],\n",
       "       ...,\n",
       "       [1000. , 1000. , 1000. , ..., 1000. , 1000. , 1000. ],\n",
       "       [1000. , 1000. , 1000. , ..., 1000. , 1000. , 1000. ],\n",
       "       [1000. , 1000. , 1000. , ..., 1000. , 1000. , 1000. ]])"
      ]
     },
     "execution_count": 9,
     "metadata": {},
     "output_type": "execute_result"
    }
   ],
   "source": [
    "x=dataset.iloc[:,[2,3,4,5,6,7,8,9,10,11,12,13]].values\n",
    "x"
   ]
  },
  {
   "cell_type": "code",
   "execution_count": 10,
   "id": "317feacd",
   "metadata": {
    "execution": {
     "iopub.execute_input": "2023-01-11T07:32:19.233860Z",
     "iopub.status.busy": "2023-01-11T07:32:19.233398Z",
     "iopub.status.idle": "2023-01-11T07:32:19.241977Z",
     "shell.execute_reply": "2023-01-11T07:32:19.240747Z"
    },
    "papermill": {
     "duration": 0.018883,
     "end_time": "2023-01-11T07:32:19.244423",
     "exception": false,
     "start_time": "2023-01-11T07:32:19.225540",
     "status": "completed"
    },
    "tags": []
   },
   "outputs": [
    {
     "data": {
      "text/plain": [
       "array([7.578e-01, 7.255e-01, 7.502e-01, ..., 1.000e+03, 1.000e+03,\n",
       "       1.000e+03])"
      ]
     },
     "execution_count": 10,
     "metadata": {},
     "output_type": "execute_result"
    }
   ],
   "source": [
    "y=dataset.iloc[:,-3].values\n",
    "y"
   ]
  },
  {
   "cell_type": "code",
   "execution_count": 11,
   "id": "82a55a32",
   "metadata": {
    "execution": {
     "iopub.execute_input": "2023-01-11T07:32:19.259890Z",
     "iopub.status.busy": "2023-01-11T07:32:19.259441Z",
     "iopub.status.idle": "2023-01-11T07:32:20.423101Z",
     "shell.execute_reply": "2023-01-11T07:32:20.422156Z"
    },
    "papermill": {
     "duration": 1.174366,
     "end_time": "2023-01-11T07:32:20.425597",
     "exception": false,
     "start_time": "2023-01-11T07:32:19.251231",
     "status": "completed"
    },
    "tags": []
   },
   "outputs": [],
   "source": [
    "from sklearn.model_selection import train_test_split\n",
    "x_train,x_test,y_train,y_test=train_test_split(x,y,test_size=0.2,random_state=9)\n"
   ]
  },
  {
   "cell_type": "code",
   "execution_count": 12,
   "id": "8f970b23",
   "metadata": {
    "execution": {
     "iopub.execute_input": "2023-01-11T07:32:20.442092Z",
     "iopub.status.busy": "2023-01-11T07:32:20.441061Z",
     "iopub.status.idle": "2023-01-11T07:32:20.558837Z",
     "shell.execute_reply": "2023-01-11T07:32:20.556961Z"
    },
    "papermill": {
     "duration": 0.131194,
     "end_time": "2023-01-11T07:32:20.563414",
     "exception": false,
     "start_time": "2023-01-11T07:32:20.432220",
     "status": "completed"
    },
    "tags": []
   },
   "outputs": [
    {
     "data": {
      "text/plain": [
       "LinearRegression()"
      ]
     },
     "execution_count": 12,
     "metadata": {},
     "output_type": "execute_result"
    }
   ],
   "source": [
    "from sklearn.linear_model import LinearRegression\n",
    "l1=LinearRegression()\n",
    "l1.fit(x_train,y_train)\n"
   ]
  },
  {
   "cell_type": "code",
   "execution_count": 13,
   "id": "fc355216",
   "metadata": {
    "execution": {
     "iopub.execute_input": "2023-01-11T07:32:20.600512Z",
     "iopub.status.busy": "2023-01-11T07:32:20.599362Z",
     "iopub.status.idle": "2023-01-11T07:32:20.612229Z",
     "shell.execute_reply": "2023-01-11T07:32:20.610647Z"
    },
    "papermill": {
     "duration": 0.041263,
     "end_time": "2023-01-11T07:32:20.621600",
     "exception": false,
     "start_time": "2023-01-11T07:32:20.580337",
     "status": "completed"
    },
    "tags": []
   },
   "outputs": [
    {
     "name": "stdout",
     "output_type": "stream",
     "text": [
      "[ 2.07400812  0.38512352  2.02920165 ...  0.99119018 -0.30889684\n",
      "  2.75937241]\n"
     ]
    }
   ],
   "source": [
    "y_pred=l1.predict(x_test)\n",
    "print(y_pred)"
   ]
  },
  {
   "cell_type": "code",
   "execution_count": 14,
   "id": "5bb44cec",
   "metadata": {
    "execution": {
     "iopub.execute_input": "2023-01-11T07:32:20.678022Z",
     "iopub.status.busy": "2023-01-11T07:32:20.677296Z",
     "iopub.status.idle": "2023-01-11T07:32:20.696313Z",
     "shell.execute_reply": "2023-01-11T07:32:20.694537Z"
    },
    "papermill": {
     "duration": 0.043043,
     "end_time": "2023-01-11T07:32:20.701316",
     "exception": false,
     "start_time": "2023-01-11T07:32:20.658273",
     "status": "completed"
    },
    "tags": []
   },
   "outputs": [
    {
     "data": {
      "text/plain": [
       "array([[ 9.000e-01,  8.830e+02, -2.000e+02, ...,  7.100e+02,  9.500e+00,\n",
       "         6.990e+01],\n",
       "       [ 2.200e+00,  1.183e+03, -2.000e+02, ...,  1.186e+03,  1.020e+01,\n",
       "         6.150e+01],\n",
       "       [ 1.300e+00,  1.069e+03, -2.000e+02, ...,  9.760e+02,  1.930e+01,\n",
       "         7.160e+01],\n",
       "       ...,\n",
       "       [-2.000e+02,  1.138e+03, -2.000e+02, ...,  1.947e+03,  2.730e+01,\n",
       "         3.430e+01],\n",
       "       [-2.000e+02,  1.296e+03, -2.000e+02, ...,  7.460e+02,  2.610e+01,\n",
       "         3.080e+01],\n",
       "       [ 2.300e+00,  1.078e+03, -2.000e+02, ...,  1.013e+03,  4.060e+01,\n",
       "         1.530e+01]])"
      ]
     },
     "execution_count": 14,
     "metadata": {},
     "output_type": "execute_result"
    }
   ],
   "source": [
    "x_test"
   ]
  },
  {
   "cell_type": "code",
   "execution_count": 15,
   "id": "de36b06c",
   "metadata": {
    "execution": {
     "iopub.execute_input": "2023-01-11T07:32:20.732962Z",
     "iopub.status.busy": "2023-01-11T07:32:20.732498Z",
     "iopub.status.idle": "2023-01-11T07:32:20.739862Z",
     "shell.execute_reply": "2023-01-11T07:32:20.738638Z"
    },
    "papermill": {
     "duration": 0.024342,
     "end_time": "2023-01-11T07:32:20.742691",
     "exception": false,
     "start_time": "2023-01-11T07:32:20.718349",
     "status": "completed"
    },
    "tags": []
   },
   "outputs": [
    {
     "data": {
      "text/plain": [
       "array([0.8298, 0.7638, 1.5844, ..., 1.2284, 1.0253, 1.1485])"
      ]
     },
     "execution_count": 15,
     "metadata": {},
     "output_type": "execute_result"
    }
   ],
   "source": [
    "y_test"
   ]
  },
  {
   "cell_type": "code",
   "execution_count": 16,
   "id": "d44db15c",
   "metadata": {
    "execution": {
     "iopub.execute_input": "2023-01-11T07:32:20.758941Z",
     "iopub.status.busy": "2023-01-11T07:32:20.758089Z",
     "iopub.status.idle": "2023-01-11T07:32:20.769923Z",
     "shell.execute_reply": "2023-01-11T07:32:20.768303Z"
    },
    "papermill": {
     "duration": 0.025415,
     "end_time": "2023-01-11T07:32:20.775077",
     "exception": false,
     "start_time": "2023-01-11T07:32:20.749662",
     "status": "completed"
    },
    "tags": []
   },
   "outputs": [
    {
     "name": "stdout",
     "output_type": "stream",
     "text": [
      "TreaningAccuracy 0.9999129474391473\n"
     ]
    }
   ],
   "source": [
    "print(\"TreaningAccuracy\",l1.score(x_train,y_train))"
   ]
  },
  {
   "cell_type": "code",
   "execution_count": 17,
   "id": "b036608a",
   "metadata": {
    "execution": {
     "iopub.execute_input": "2023-01-11T07:32:20.813107Z",
     "iopub.status.busy": "2023-01-11T07:32:20.812384Z",
     "iopub.status.idle": "2023-01-11T07:32:20.825460Z",
     "shell.execute_reply": "2023-01-11T07:32:20.823835Z"
    },
    "papermill": {
     "duration": 0.037809,
     "end_time": "2023-01-11T07:32:20.830467",
     "exception": false,
     "start_time": "2023-01-11T07:32:20.792658",
     "status": "completed"
    },
    "tags": []
   },
   "outputs": [
    {
     "name": "stdout",
     "output_type": "stream",
     "text": [
      "TestingAccuracy 1.0\n"
     ]
    }
   ],
   "source": [
    "print(\"TestingAccuracy\",l1.score(x_test,y_pred))"
   ]
  },
  {
   "cell_type": "code",
   "execution_count": 18,
   "id": "d0a362c0",
   "metadata": {
    "execution": {
     "iopub.execute_input": "2023-01-11T07:32:20.869600Z",
     "iopub.status.busy": "2023-01-11T07:32:20.868871Z",
     "iopub.status.idle": "2023-01-11T07:32:20.879438Z",
     "shell.execute_reply": "2023-01-11T07:32:20.877795Z"
    },
    "papermill": {
     "duration": 0.036868,
     "end_time": "2023-01-11T07:32:20.885277",
     "exception": false,
     "start_time": "2023-01-11T07:32:20.848409",
     "status": "completed"
    },
    "tags": []
   },
   "outputs": [
    {
     "name": "stdout",
     "output_type": "stream",
     "text": [
      "99.9916649952306\n"
     ]
    }
   ],
   "source": [
    "from sklearn.metrics import r2_score\n",
    "print(r2_score(y_test,y_pred)*100)"
   ]
  },
  {
   "cell_type": "code",
   "execution_count": null,
   "id": "ad1f28b8",
   "metadata": {
    "papermill": {
     "duration": 0.017173,
     "end_time": "2023-01-11T07:32:20.920183",
     "exception": false,
     "start_time": "2023-01-11T07:32:20.903010",
     "status": "completed"
    },
    "tags": []
   },
   "outputs": [],
   "source": []
  }
 ],
 "metadata": {
  "kernelspec": {
   "display_name": "Python 3",
   "language": "python",
   "name": "python3"
  },
  "language_info": {
   "codemirror_mode": {
    "name": "ipython",
    "version": 3
   },
   "file_extension": ".py",
   "mimetype": "text/x-python",
   "name": "python",
   "nbconvert_exporter": "python",
   "pygments_lexer": "ipython3",
   "version": "3.7.12"
  },
  "papermill": {
   "default_parameters": {},
   "duration": 13.742432,
   "end_time": "2023-01-11T07:32:21.761340",
   "environment_variables": {},
   "exception": null,
   "input_path": "__notebook__.ipynb",
   "output_path": "__notebook__.ipynb",
   "parameters": {},
   "start_time": "2023-01-11T07:32:08.018908",
   "version": "2.3.4"
  }
 },
 "nbformat": 4,
 "nbformat_minor": 5
}
